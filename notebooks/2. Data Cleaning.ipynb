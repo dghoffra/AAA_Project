{
 "cells": [
  {
   "cell_type": "code",
   "execution_count": null,
   "id": "intensive-sleeve",
   "metadata": {},
   "outputs": [],
   "source": [
    "import pandas as pd\n",
    "import numpy as np\n",
    "import matplotlib.pyplot as plt\n",
    "import geopandas as gpd\n",
    "import shapely\n",
    "from shapely import wkt\n",
    "import h3\n",
    "from datetime import date\n",
    "import pyarrow.parquet as pq\n",
    "import pyarrow as pa\n",
    "#from fastparquet import write"
   ]
  },
  {
   "cell_type": "markdown",
   "id": "refined-mentor",
   "metadata": {},
   "source": [
    "## Reading data and setting data types"
   ]
  },
  {
   "cell_type": "code",
   "execution_count": null,
   "id": "massive-reputation",
   "metadata": {},
   "outputs": [],
   "source": [
    "df = pd.read_parquet(\"../data/df_sample_22_05_2021.parquet\")\n",
    "df[\"PU_Centroid\"] = gpd.points_from_xy(df[\"Pickup Centroid Latitude\"], df[\"Pickup Centroid Latitude\"])\n",
    "df[\"DO_Centroid\"] = gpd.points_from_xy(df[\"Dropoff Centroid Latitude\"], df[\"Dropoff Centroid Latitude\"])                                                   \n",
    "df = df.drop(columns = [\"Pickup Centroid Latitude\",\"Pickup Centroid Longitude\",\"Dropoff Centroid Latitude\",\"Dropoff Centroid Longitude\"])\n",
    "df[\"Trip Start Timestamp\"] = pd.to_datetime(df[\"Trip Start Timestamp\"],format = '%m/%d/%Y %I:%M:%S %p')\n",
    "df[\"Trip End Timestamp\"] = pd.to_datetime(df[\"Trip End Timestamp\"],format = '%m/%d/%Y %I:%M:%S %p')\n",
    "df.head()"
   ]
  },
  {
   "cell_type": "markdown",
   "id": "chinese-shipping",
   "metadata": {},
   "source": [
    "## Filtering"
   ]
  },
  {
   "cell_type": "code",
   "execution_count": null,
   "id": "handy-frequency",
   "metadata": {},
   "outputs": [],
   "source": [
    "df_filtered = df.nsmallest(int(df.index.size * 0.999), \"Trip Total\", keep='first')\n",
    "total_filter = df_filtered[\"Trip Total\"].max()\n",
    "min_total = df_filtered[\"Trip Total\"].min()\n",
    "print(\"Max Total:\",total_filter)\n",
    "print(\"Min Total:\",min_total)\n",
    "\n",
    "df_filtered = df.nsmallest(int(df.index.size * 0.999), \"Trip Seconds\", keep='first')\n",
    "seconds_filter = df_filtered[\"Trip Seconds\"].max()\n",
    "min_seconds = df_filtered[\"Trip Seconds\"].min()\n",
    "print(\"Max Seconds:\",seconds_filter)\n",
    "print(\"Min Seconds:\",min_seconds)\n",
    "\n",
    "df = df.copy()[(df[\"Trip Total\"] <= total_filter)&\n",
    "                   (df[\"Trip Seconds\"]<=seconds_filter)&\n",
    "                   (df[\"Trip Seconds\"]> 60)]\n",
    "print(\"Kept\",np.round(df.index.size / sampledf)"
   ]
  },
  {
   "cell_type": "code",
   "execution_count": null,
   "id": "dependent-exhaust",
   "metadata": {},
   "outputs": [],
   "source": [
    "#kick out values under 2$\n",
    "print(\"0$ Total Trips:\",df[df[\"Trip Total\"]==0].index.size)\n",
    "print(\"0$ Fare Trips:\",df[df[\"Fare\"]==0].index.size)\n",
    "\n",
    "\n",
    "df = df.copy()[(df[\"Trip Total\"] >= 2)&\n",
    "                   (df[\"Fare\"]>=2)]\n",
    "\n",
    "print(\"Kept\",np.round(df.index.size / df.index.size,4),\"percent of data\")\n",
    "print(\"New min Total: \",min(df[\"Trip Total\"]))\n",
    "print(\"New max Total: \",max(df[\"Trip Total\"]))\n",
    "print(\"New min Fare: \",min(df[\"Fare\"]))\n",
    "print(\"New max Fare: \",max(df[\"Fare\"]))"
   ]
  },
  {
   "cell_type": "code",
   "execution_count": null,
   "id": "accessible-nevada",
   "metadata": {},
   "outputs": [],
   "source": [
    "#Kick out all values of December and 2018\n",
    "df['start_month'] = df['Trip Start Timestamp'].dt.month\n",
    "df['start_year'] = df['Trip Start Timestamp'].dt.year\n",
    "df['end_month'] = df['Trip End Timestamp'].dt.month\n",
    "df['end_year'] = df['Trip End Timestamp'].dt.year\n",
    "\n",
    "df_trips = df[(df['start_year'] == 2017 ) | (df['end_year'] == 2017) ]\n",
    "df = df[(df['start_month'] !=12 ) | (df['end_month'] !=12) ]\n",
    "print(\"Kept\",np.round(df.index.size / df.index.size,4),\"percent of data\")\n",
    "#Drop columns again\n",
    "df.drop(columns=['start_month', 'start_year', 'end_month' , 'end_year'], inplace = True)\n",
    "\n",
    "print()\n",
    "#Min and Max Trip Start and end\n",
    "print(\"New min start: \",min(df['Trip Start Timestamp']))\n",
    "print(\"New min end: \",min(df['Trip End Timestamp']))\n",
    "print(\"New min start: \",max(df['Trip Start Timestamp']))\n",
    "print(\"New min end: \",max(df['Trip End Timestamp']))"
   ]
  },
  {
   "cell_type": "code",
   "execution_count": null,
   "id": "sunset-impression",
   "metadata": {},
   "outputs": [],
   "source": [
    "#Check null values in payment type and company\n",
    "pay_verifier = df['Payment Type'].dropna()\n",
    "print(\"Number of null values within column payment type: \",len(df)-len(pay_verifier))\n",
    "\n",
    "com_verifier = df['Company'].dropna()\n",
    "print(\"Number of null values within column payment type: \",len(df)-len(com_verifier))\n",
    "print()\n",
    "print(\"if 0, we don't have to drop something.\")"
   ]
  },
  {
   "cell_type": "code",
   "execution_count": null,
   "id": "violent-provider",
   "metadata": {},
   "outputs": [],
   "source": [
    "#Miles have to be checked with the geo data (?)"
   ]
  },
  {
   "cell_type": "markdown",
   "id": "direct-burlington",
   "metadata": {},
   "source": [
    "## Converting Geo-Points to H3"
   ]
  },
  {
   "cell_type": "code",
   "execution_count": null,
   "id": "ambient-national",
   "metadata": {},
   "outputs": [],
   "source": [
    "def h3_conversion(value,h3_level):\n",
    "    if isinstance(value,shapely.geometry.point.Point):\n",
    "        return h3.geo_to_h3(value.y, value.x, h3_level)\n",
    "    else:\n",
    "        return np.nan\n",
    "\n",
    "df[\"PU_H3\"] = df.apply(lambda x: h3_conversion(x[\"PU_Centroid\"],7),axis=1)\n",
    "df[\"DO_H3\"] = df.apply(lambda x: h3_conversion(x[\"DO_Centroid\"],7),axis=1)\n",
    "df"
   ]
  },
  {
   "cell_type": "markdown",
   "id": "noble-stress",
   "metadata": {},
   "source": [
    "## Packing Parrow"
   ]
  },
  {
   "cell_type": "code",
   "execution_count": null,
   "id": "armed-verse",
   "metadata": {},
   "outputs": [],
   "source": [
    "#Write parquet of cleaned frame\n",
    "df_compatible = df.drop(columns=[\"PU_Centroid\",\"DO_Centroid\"])\n",
    "frame = pa.Table.from_pandas(df_compatible)\n",
    "pq.write_table(frame, '../data/df_cleaned_{}.parquet'.format(date.today().strftime(\"%d_%m_%Y\")))"
   ]
  }
 ],
 "metadata": {
  "kernelspec": {
   "display_name": "Python 3",
   "language": "python",
   "name": "python3"
  },
  "language_info": {
   "codemirror_mode": {
    "name": "ipython",
    "version": 3
   },
   "file_extension": ".py",
   "mimetype": "text/x-python",
   "name": "python",
   "nbconvert_exporter": "python",
   "pygments_lexer": "ipython3",
   "version": "3.8.5"
  }
 },
 "nbformat": 4,
 "nbformat_minor": 5
}
