{
 "cells": [
  {
   "cell_type": "code",
   "execution_count": 1,
   "id": "optimum-theology",
   "metadata": {},
   "outputs": [],
   "source": [
    "import pandas as pd "
   ]
  },
  {
   "cell_type": "code",
   "execution_count": 2,
   "id": "urban-question",
   "metadata": {},
   "outputs": [],
   "source": [
    "a = 3\n"
   ]
  },
  {
   "cell_type": "code",
   "execution_count": 3,
   "id": "primary-runner",
   "metadata": {},
   "outputs": [
    {
     "data": {
      "text/plain": [
       "3"
      ]
     },
     "execution_count": 3,
     "metadata": {},
     "output_type": "execute_result"
    }
   ],
   "source": [
    "a "
   ]
  },
  {
   "cell_type": "code",
   "execution_count": 4,
   "id": "civilian-livestock",
   "metadata": {},
   "outputs": [],
   "source": [
    "df = pd.read_parquet(\"../data/df_sample_20_06_2021.parquet\")"
   ]
  },
  {
   "cell_type": "code",
   "execution_count": 5,
   "id": "combined-morocco",
   "metadata": {},
   "outputs": [
    {
     "data": {
      "text/plain": [
       "Int64Index([ 6782215, 10279633, 12111575,  3004213,  8664933, 12184810,\n",
       "            19771841,  3871381,  5371947,  3180797,\n",
       "            ...\n",
       "             4909009, 22995765, 18848524,  7553052, 23441775, 19680573,\n",
       "            20104390, 12147640,  1398816,  6635719],\n",
       "           dtype='int64', length=4997601)"
      ]
     },
     "execution_count": 5,
     "metadata": {},
     "output_type": "execute_result"
    }
   ],
   "source": [
    "df.index"
   ]
  },
  {
   "cell_type": "code",
   "execution_count": 7,
   "id": "human-license",
   "metadata": {},
   "outputs": [
    {
     "data": {
      "text/plain": [
       "24988005"
      ]
     },
     "execution_count": 7,
     "metadata": {},
     "output_type": "execute_result"
    }
   ],
   "source": [
    "4997601*5"
   ]
  },
  {
   "cell_type": "code",
   "execution_count": null,
   "id": "waiting-location",
   "metadata": {},
   "outputs": [],
   "source": []
  }
 ],
 "metadata": {
  "kernelspec": {
   "display_name": "Python 3",
   "language": "python",
   "name": "python3"
  },
  "language_info": {
   "codemirror_mode": {
    "name": "ipython",
    "version": 3
   },
   "file_extension": ".py",
   "mimetype": "text/x-python",
   "name": "python",
   "nbconvert_exporter": "python",
   "pygments_lexer": "ipython3",
   "version": "3.8.6"
  }
 },
 "nbformat": 4,
 "nbformat_minor": 5
}
