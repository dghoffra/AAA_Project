{
 "cells": [
  {
   "cell_type": "code",
   "execution_count": 3,
   "id": "3de7e8cd",
   "metadata": {},
   "outputs": [],
   "source": [
    "#get notebook runtime\n",
    "from timeit import default_timer as timer\n",
    "start = timer()"
   ]
  },
  {
   "cell_type": "code",
   "execution_count": 4,
   "id": "13ee566c",
   "metadata": {},
   "outputs": [
    {
     "data": {
      "application/javascript": [
       "IPython.OutputArea.prototype._should_scroll = function(lines) {\n",
       "    return false;\n",
       "}\n",
       "\n"
      ],
      "text/plain": [
       "<IPython.core.display.Javascript object>"
      ]
     },
     "metadata": {},
     "output_type": "display_data"
    }
   ],
   "source": [
    "%%javascript\n",
    "IPython.OutputArea.prototype._should_scroll = function(lines) {\n",
    "    return false;\n",
    "}\n"
   ]
  },
  {
   "cell_type": "code",
   "execution_count": 5,
   "id": "4b9cb320",
   "metadata": {},
   "outputs": [],
   "source": [
    "import warnings\n",
    "warnings.filterwarnings('ignore')"
   ]
  },
  {
   "cell_type": "code",
   "execution_count": 6,
   "id": "41343c1c",
   "metadata": {},
   "outputs": [],
   "source": [
    "import seaborn as sns\n",
    "from sklearn.svm import SVR\n",
    "from sklearn.preprocessing import StandardScaler\n",
    "import matplotlib.pyplot as plt\n",
    "import pandas as pd"
   ]
  },
  {
   "cell_type": "markdown",
   "id": "0aeff38e",
   "metadata": {},
   "source": [
    "### Characteristics"
   ]
  },
  {
   "cell_type": "markdown",
   "id": "f82e042c",
   "metadata": {},
   "source": [
    "Let's recall the characteristics of our dataset:"
   ]
  },
  {
   "cell_type": "code",
   "execution_count": 7,
   "id": "28ed27e8",
   "metadata": {},
   "outputs": [],
   "source": [
    "#get notebook runtime\n",
    "start = timer()"
   ]
  },
  {
   "cell_type": "code",
   "execution_count": 8,
   "id": "495f1168",
   "metadata": {},
   "outputs": [],
   "source": [
    "df = pd.read_parquet(\"../data/df_cleaned_18_06_2021.parquet\")"
   ]
  },
  {
   "cell_type": "code",
   "execution_count": 9,
   "id": "fffead89",
   "metadata": {},
   "outputs": [
    {
     "data": {
      "text/plain": [
       "(4328648, 33)"
      ]
     },
     "execution_count": 9,
     "metadata": {},
     "output_type": "execute_result"
    }
   ],
   "source": [
    "df.shape"
   ]
  },
  {
   "cell_type": "code",
   "execution_count": 10,
   "id": "5b174a65",
   "metadata": {},
   "outputs": [
    {
     "data": {
      "text/html": [
       "<div>\n",
       "<style scoped>\n",
       "    .dataframe tbody tr th:only-of-type {\n",
       "        vertical-align: middle;\n",
       "    }\n",
       "\n",
       "    .dataframe tbody tr th {\n",
       "        vertical-align: top;\n",
       "    }\n",
       "\n",
       "    .dataframe thead th {\n",
       "        text-align: right;\n",
       "    }\n",
       "</style>\n",
       "<table border=\"1\" class=\"dataframe\">\n",
       "  <thead>\n",
       "    <tr style=\"text-align: right;\">\n",
       "      <th></th>\n",
       "      <th>Trip ID</th>\n",
       "      <th>Taxi ID</th>\n",
       "      <th>Trip Start Timestamp</th>\n",
       "      <th>Trip End Timestamp</th>\n",
       "      <th>Trip Seconds</th>\n",
       "      <th>Trip Miles</th>\n",
       "      <th>Pickup Census Tract</th>\n",
       "      <th>Dropoff Census Tract</th>\n",
       "      <th>Pickup Community Area</th>\n",
       "      <th>Dropoff Community Area</th>\n",
       "      <th>...</th>\n",
       "      <th>PU_H3</th>\n",
       "      <th>DO_H3</th>\n",
       "      <th>PU_MONTH_NAME</th>\n",
       "      <th>PU_WEEKDAY_NAME</th>\n",
       "      <th>PU_YEAR</th>\n",
       "      <th>PU_MONTH</th>\n",
       "      <th>PU_WEEKDAY</th>\n",
       "      <th>PU_HOUR</th>\n",
       "      <th>PU_HOUR_OF_WEEK</th>\n",
       "      <th>PU_FOUR_HOURLY</th>\n",
       "    </tr>\n",
       "  </thead>\n",
       "  <tbody>\n",
       "    <tr>\n",
       "      <th>10019694</th>\n",
       "      <td>0186acc0c8d50828e6dc5c9072ace58101e3e1b1</td>\n",
       "      <td>9a38858dc2ace73a20f89a976154131a733daf1f11e8d6...</td>\n",
       "      <td>2017-05-20 23:45:00</td>\n",
       "      <td>2017-05-20 23:45:00</td>\n",
       "      <td>360.0</td>\n",
       "      <td>1.30</td>\n",
       "      <td>1.703106e+10</td>\n",
       "      <td>1.703107e+10</td>\n",
       "      <td>6.0</td>\n",
       "      <td>7.0</td>\n",
       "      <td>...</td>\n",
       "      <td>872c2118bffffff</td>\n",
       "      <td>872c2118affffff</td>\n",
       "      <td>May</td>\n",
       "      <td>Saturday</td>\n",
       "      <td>2017</td>\n",
       "      <td>5</td>\n",
       "      <td>5</td>\n",
       "      <td>24</td>\n",
       "      <td>144</td>\n",
       "      <td>5/5</td>\n",
       "    </tr>\n",
       "    <tr>\n",
       "      <th>7792802</th>\n",
       "      <td>7d0830d9dbbd03a9e1b5d1d99cd41d99d7b8fb90</td>\n",
       "      <td>b4d59da1d7b8c002094752251906d9a3bcc6c7ea71a15f...</td>\n",
       "      <td>2017-04-21 22:15:00</td>\n",
       "      <td>2017-04-21 22:15:00</td>\n",
       "      <td>300.0</td>\n",
       "      <td>0.40</td>\n",
       "      <td>1.703108e+10</td>\n",
       "      <td>1.703108e+10</td>\n",
       "      <td>8.0</td>\n",
       "      <td>8.0</td>\n",
       "      <td>...</td>\n",
       "      <td>872c2119dffffff</td>\n",
       "      <td>872c2119dffffff</td>\n",
       "      <td>April</td>\n",
       "      <td>Friday</td>\n",
       "      <td>2017</td>\n",
       "      <td>4</td>\n",
       "      <td>4</td>\n",
       "      <td>23</td>\n",
       "      <td>119</td>\n",
       "      <td>5/5</td>\n",
       "    </tr>\n",
       "    <tr>\n",
       "      <th>7493958</th>\n",
       "      <td>171ea5e4956fe55a58f9ec3be65238af8b79c4c2</td>\n",
       "      <td>38c32bfda2f77c2a57f33a9e3fcf7edb8e996f59bc2254...</td>\n",
       "      <td>2017-04-18 10:30:00</td>\n",
       "      <td>2017-04-18 10:45:00</td>\n",
       "      <td>379.0</td>\n",
       "      <td>1.00</td>\n",
       "      <td>1.703184e+10</td>\n",
       "      <td>1.703128e+10</td>\n",
       "      <td>32.0</td>\n",
       "      <td>28.0</td>\n",
       "      <td>...</td>\n",
       "      <td>872c21191ffffff</td>\n",
       "      <td>872c2119cffffff</td>\n",
       "      <td>April</td>\n",
       "      <td>Tuesday</td>\n",
       "      <td>2017</td>\n",
       "      <td>4</td>\n",
       "      <td>1</td>\n",
       "      <td>11</td>\n",
       "      <td>35</td>\n",
       "      <td>3/5</td>\n",
       "    </tr>\n",
       "    <tr>\n",
       "      <th>5984763</th>\n",
       "      <td>a6da0037deae54685ba3a1a559ae6a33b9028bd9</td>\n",
       "      <td>e2c349c7cbb608d552aa0b5814031943f13641ef9e50d8...</td>\n",
       "      <td>2017-03-28 16:15:00</td>\n",
       "      <td>2017-03-28 16:15:00</td>\n",
       "      <td>317.0</td>\n",
       "      <td>0.96</td>\n",
       "      <td>1.703108e+10</td>\n",
       "      <td>1.703108e+10</td>\n",
       "      <td>8.0</td>\n",
       "      <td>8.0</td>\n",
       "      <td>...</td>\n",
       "      <td>872c2119cffffff</td>\n",
       "      <td>872c2119cffffff</td>\n",
       "      <td>March</td>\n",
       "      <td>Tuesday</td>\n",
       "      <td>2017</td>\n",
       "      <td>3</td>\n",
       "      <td>1</td>\n",
       "      <td>17</td>\n",
       "      <td>41</td>\n",
       "      <td>4/5</td>\n",
       "    </tr>\n",
       "    <tr>\n",
       "      <th>4498023</th>\n",
       "      <td>58bc23a32b790e568d3c50bc38e5dd473cbc9fcf</td>\n",
       "      <td>cbdd490649df25aa771979bed8930b199d27a990ccdb42...</td>\n",
       "      <td>2017-03-09 14:30:00</td>\n",
       "      <td>2017-03-09 14:30:00</td>\n",
       "      <td>360.0</td>\n",
       "      <td>1.00</td>\n",
       "      <td>1.703128e+10</td>\n",
       "      <td>1.703184e+10</td>\n",
       "      <td>28.0</td>\n",
       "      <td>32.0</td>\n",
       "      <td>...</td>\n",
       "      <td>872c2119cffffff</td>\n",
       "      <td>872c21191ffffff</td>\n",
       "      <td>March</td>\n",
       "      <td>Thursday</td>\n",
       "      <td>2017</td>\n",
       "      <td>3</td>\n",
       "      <td>3</td>\n",
       "      <td>15</td>\n",
       "      <td>87</td>\n",
       "      <td>3/5</td>\n",
       "    </tr>\n",
       "  </tbody>\n",
       "</table>\n",
       "<p>5 rows × 33 columns</p>\n",
       "</div>"
      ],
      "text/plain": [
       "                                           Trip ID  \\\n",
       "10019694  0186acc0c8d50828e6dc5c9072ace58101e3e1b1   \n",
       "7792802   7d0830d9dbbd03a9e1b5d1d99cd41d99d7b8fb90   \n",
       "7493958   171ea5e4956fe55a58f9ec3be65238af8b79c4c2   \n",
       "5984763   a6da0037deae54685ba3a1a559ae6a33b9028bd9   \n",
       "4498023   58bc23a32b790e568d3c50bc38e5dd473cbc9fcf   \n",
       "\n",
       "                                                    Taxi ID  \\\n",
       "10019694  9a38858dc2ace73a20f89a976154131a733daf1f11e8d6...   \n",
       "7792802   b4d59da1d7b8c002094752251906d9a3bcc6c7ea71a15f...   \n",
       "7493958   38c32bfda2f77c2a57f33a9e3fcf7edb8e996f59bc2254...   \n",
       "5984763   e2c349c7cbb608d552aa0b5814031943f13641ef9e50d8...   \n",
       "4498023   cbdd490649df25aa771979bed8930b199d27a990ccdb42...   \n",
       "\n",
       "         Trip Start Timestamp  Trip End Timestamp  Trip Seconds  Trip Miles  \\\n",
       "10019694  2017-05-20 23:45:00 2017-05-20 23:45:00         360.0        1.30   \n",
       "7792802   2017-04-21 22:15:00 2017-04-21 22:15:00         300.0        0.40   \n",
       "7493958   2017-04-18 10:30:00 2017-04-18 10:45:00         379.0        1.00   \n",
       "5984763   2017-03-28 16:15:00 2017-03-28 16:15:00         317.0        0.96   \n",
       "4498023   2017-03-09 14:30:00 2017-03-09 14:30:00         360.0        1.00   \n",
       "\n",
       "          Pickup Census Tract  Dropoff Census Tract  Pickup Community Area  \\\n",
       "10019694         1.703106e+10          1.703107e+10                    6.0   \n",
       "7792802          1.703108e+10          1.703108e+10                    8.0   \n",
       "7493958          1.703184e+10          1.703128e+10                   32.0   \n",
       "5984763          1.703108e+10          1.703108e+10                    8.0   \n",
       "4498023          1.703128e+10          1.703184e+10                   28.0   \n",
       "\n",
       "          Dropoff Community Area  ...            PU_H3            DO_H3  \\\n",
       "10019694                     7.0  ...  872c2118bffffff  872c2118affffff   \n",
       "7792802                      8.0  ...  872c2119dffffff  872c2119dffffff   \n",
       "7493958                     28.0  ...  872c21191ffffff  872c2119cffffff   \n",
       "5984763                      8.0  ...  872c2119cffffff  872c2119cffffff   \n",
       "4498023                     32.0  ...  872c2119cffffff  872c21191ffffff   \n",
       "\n",
       "          PU_MONTH_NAME  PU_WEEKDAY_NAME  PU_YEAR PU_MONTH PU_WEEKDAY  \\\n",
       "10019694            May         Saturday     2017        5          5   \n",
       "7792802           April           Friday     2017        4          4   \n",
       "7493958           April          Tuesday     2017        4          1   \n",
       "5984763           March          Tuesday     2017        3          1   \n",
       "4498023           March         Thursday     2017        3          3   \n",
       "\n",
       "          PU_HOUR  PU_HOUR_OF_WEEK PU_FOUR_HOURLY  \n",
       "10019694       24              144            5/5  \n",
       "7792802        23              119            5/5  \n",
       "7493958        11               35            3/5  \n",
       "5984763        17               41            4/5  \n",
       "4498023        15               87            3/5  \n",
       "\n",
       "[5 rows x 33 columns]"
      ]
     },
     "execution_count": 10,
     "metadata": {},
     "output_type": "execute_result"
    }
   ],
   "source": [
    "df.head()"
   ]
  },
  {
   "cell_type": "code",
   "execution_count": 11,
   "id": "0ecc9141",
   "metadata": {},
   "outputs": [
    {
     "data": {
      "text/plain": [
       "Trip ID                             0\n",
       "Taxi ID                          1477\n",
       "Trip Start Timestamp                0\n",
       "Trip End Timestamp                  0\n",
       "Trip Seconds                        0\n",
       "Trip Miles                          0\n",
       "Pickup Census Tract           1303676\n",
       "Dropoff Census Tract          1316214\n",
       "Pickup Community Area          309000\n",
       "Dropoff Community Area         392386\n",
       "Fare                                0\n",
       "Tips                                0\n",
       "Tolls                         1138339\n",
       "Extras                              0\n",
       "Trip Total                          0\n",
       "Payment Type                        0\n",
       "Company                             0\n",
       "Pickup Centroid Latitude       308810\n",
       "Pickup Centroid Longitude      308810\n",
       "Pickup Centroid Location       308810\n",
       "Dropoff Centroid Latitude      379954\n",
       "Dropoff Centroid Longitude     379954\n",
       "Dropoff Centroid  Location     379954\n",
       "PU_H3                          308810\n",
       "DO_H3                          379954\n",
       "PU_MONTH_NAME                       0\n",
       "PU_WEEKDAY_NAME                     0\n",
       "PU_YEAR                             0\n",
       "PU_MONTH                            0\n",
       "PU_WEEKDAY                          0\n",
       "PU_HOUR                             0\n",
       "PU_HOUR_OF_WEEK                     0\n",
       "PU_FOUR_HOURLY                      0\n",
       "dtype: int64"
      ]
     },
     "execution_count": 11,
     "metadata": {},
     "output_type": "execute_result"
    }
   ],
   "source": [
    "df.isnull().sum()"
   ]
  },
  {
   "cell_type": "code",
   "execution_count": 12,
   "id": "b4662cbf",
   "metadata": {},
   "outputs": [],
   "source": [
    "df_pairplot = df[:100]"
   ]
  },
  {
   "cell_type": "code",
   "execution_count": 13,
   "id": "751a585b",
   "metadata": {},
   "outputs": [],
   "source": [
    "#sns.pairplot(df_pairplot, hue='PU_H3')"
   ]
  },
  {
   "cell_type": "markdown",
   "id": "b17d62df",
   "metadata": {},
   "source": [
    "Nun schauen wir uns explizit die Korrelationen der Variablen an. Wie ebenfalls im vorigen Plot zu observieren, sehen wir hier, dass die Variablen zum Teil stark positiv sowie negativ korrelieren."
   ]
  },
  {
   "cell_type": "code",
   "execution_count": 14,
   "id": "dbdab341",
   "metadata": {},
   "outputs": [
    {
     "data": {
      "image/png": "[encoded data removed]",
      "text/plain": [
       "<Figure size 1368x1080 with 2 Axes>"
      ]
     },
     "metadata": {
      "needs_background": "light"
     },
     "output_type": "display_data"
    }
   ],
   "source": [
    "f = plt.figure(figsize=(19, 15))\n",
    "plt.matshow(df.corr(), fignum=f.number)\n",
    "plt.xticks(range(df.select_dtypes(['number']).shape[1]), df.select_dtypes(['number']).columns, fontsize=14, rotation=45)\n",
    "plt.yticks(range(df.select_dtypes(['number']).shape[1]), df.select_dtypes(['number']).columns, fontsize=14)\n",
    "cb = plt.colorbar()\n",
    "cb.ax.tick_params(labelsize=14)\n",
    "plt.title('Correlation Matrix', fontsize=16);"
   ]
  },
  {
   "cell_type": "markdown",
   "id": "d79279b1",
   "metadata": {},
   "source": [
    "Nun schauen wir uns die Verteilung unserer Zielvariablen taxi_demand (auf stündlicher basis) genauer an. Es ist zu erkennen, dass Samstags und Sonntags wesentlich häufiger früh am morgen das Taxi genutzt wird, als unter der Woche."
   ]
  },
  {
   "cell_type": "code",
   "execution_count": 15,
   "id": "8ce1bdbb",
   "metadata": {},
   "outputs": [
    {
     "data": {
      "text/plain": [
       "<seaborn.axisgrid.FacetGrid at 0x7fcb9f570c10>"
      ]
     },
     "execution_count": 15,
     "metadata": {},
     "output_type": "execute_result"
    },
    {
     "data": {
      "image/png": "[encoded data removed]",
      "text/plain": [
       "<Figure size 435x360 with 1 Axes>"
      ]
     },
     "metadata": {
      "needs_background": "light"
     },
     "output_type": "display_data"
    }
   ],
   "source": [
    "sns.displot(df,x='PU_HOUR', hue='PU_WEEKDAY', bins=24)\n"
   ]
  },
  {
   "cell_type": "markdown",
   "id": "7d1c9050",
   "metadata": {},
   "source": [
    "## 4. SVM"
   ]
  },
  {
   "cell_type": "markdown",
   "id": "43c6aec0",
   "metadata": {},
   "source": [
    "### Data Preparation for 4.1 SVM and 4.2 NN"
   ]
  },
  {
   "cell_type": "markdown",
   "id": "cd712dc4",
   "metadata": {},
   "source": [
    "Let's start with a reuseable function to get a dataframe of the selected temporal and spatial resolution. To obtain robust values for the predictors, we use the median."
   ]
  },
  {
   "cell_type": "code",
   "execution_count": 16,
   "id": "8ca987ab",
   "metadata": {},
   "outputs": [],
   "source": [
    "from sklearn.model_selection import train_test_split\n",
    "from sklearn.feature_selection import SelectKBest, f_classif\n",
    "from sklearn.preprocessing import StandardScaler\n",
    "from sklearn.svm import SVR\n",
    "import h3\n"
   ]
  },
  {
   "cell_type": "code",
   "execution_count": 17,
   "id": "d8035a9a",
   "metadata": {},
   "outputs": [],
   "source": [
    "#TODO: Felix input for feature selection"
   ]
  },
  {
   "cell_type": "code",
   "execution_count": 18,
   "id": "c35807c7",
   "metadata": {},
   "outputs": [],
   "source": [
    "def get_data(df, temp_resolution):\n",
    "    \n",
    "    #Set spacial resolution: Calculate new H3 based on specified resolution (alternative:make parent/child)\n",
    "    '''df[\"PU_H3\"] = df.apply(lambda x: h3.geo_to_h3(x[\"Pickup Centroid Latitude\"],\n",
    "                                                  x['Pickup Centroid Longitude'],\n",
    "                                                  spatial_resolution),axis=1)\n",
    "    df[\"PU_H3\"] = df[\"PU_H3\"].replace(\"0\",np.nan)'''\n",
    "    PU_H3_dummies = pd.get_dummies(df.PU_H3)#get dummies for H3 for prediction (alternative: use H3 centroids)\n",
    "    df = pd.concat([df, PU_H3_dummies], axis=1)\n",
    "    \n",
    "    #group by temporal and spacial resolution\n",
    "    df_new = df.groupby(['PU_H3', pd.Grouper(key=\"Trip Start Timestamp\", freq=temp_resolution)]).median()#create df based on temporal and spacial specifications\n",
    "    df_new['count'] = df.groupby(['PU_H3', pd.Grouper(key=\"Trip Start Timestamp\", freq=temp_resolution)]).size()#add demand for each unit of analysis; note that the frame is grouped by two features\n",
    "    df_new.dropna(inplace=True)\n",
    "    print(\"Dataframe after applying temporal and spacial specifications: \")#debug information\n",
    "    print(\"Shape: \",df_new.shape)\n",
    "    print(\"Demand description for temporal/spatial units (e.g. 2017-01-01 09:00, 8826641915fffff): \")\n",
    "    #print(df_new['count'].describe())\n",
    "    \n",
    "    #select target and predictors\n",
    "    y = df_new['count']\n",
    "    X = df_new.drop('count', axis=1)\n",
    "    print('Debug Information')\n",
    "    print('-------------------------------')\n",
    "    print(\"Shape Featureset/Target: \", X.shape, y.shape)\n",
    "    #print(X.iloc[0])\n",
    "    \n",
    "    #split data\n",
    "    x_train, x_test, y_train, y_test = train_test_split(X, y, train_size=0.6, random_state=38)\n",
    "    \n",
    "    #scale data\n",
    "    scaler = StandardScaler()\n",
    "    scaler.fit(x_train) #fit scaler\n",
    "    X_train_scaled = scaler.transform(x_train) #apply to both, train and test set\n",
    "    X_test_scaled = scaler.transform(x_test)\n",
    "    print(\"Shape after scaling trainingset: \", X_train_scaled.shape, y_train.shape)\n",
    "    print(\"Shape after scaling testset: \", X_test_scaled.shape, y_test.shape)\n",
    "    \n",
    "    #select best features\n",
    "    selector = SelectKBest(f_classif, k=40)\n",
    "    selector.fit(X_train_scaled, y_train)\n",
    "    cols = selector.get_support(indices=True)#get selected columns\n",
    "    X_train_new = X_train_scaled[:,cols]#apply to train&test set\n",
    "    X_test_new = X_test_scaled[:,cols]\n",
    "    print(\"X_Train:\", X_train_new.shape, \"X_Test:\", X_test_new.shape)\n",
    "    \n",
    "    return X_train_new, X_test_new, y_train, y_test"
   ]
  },
  {
   "cell_type": "markdown",
   "id": "9c21d8ec",
   "metadata": {},
   "source": [
    "### 4.1.1 SVM Prediction"
   ]
  },
  {
   "cell_type": "markdown",
   "id": "7ae1d6fb",
   "metadata": {},
   "source": [
    "First, we define a training method and to use it for training our models. Consequently, we will start with simple models and improve them for better performance. "
   ]
  },
  {
   "cell_type": "code",
   "execution_count": 19,
   "id": "5b2f67cd",
   "metadata": {},
   "outputs": [],
   "source": [
    "#function to train and evaluate our models later on\n",
    "import sklearn.metrics as metrics\n",
    "import numpy as np\n",
    "\n",
    "def train(model, model_name, x_train, x_test, y_train, y_test, element):\n",
    "    \n",
    "    print()\n",
    "    print(model_name, element) # Printing model name\n",
    "    print('-------------------------------')\n",
    "    model.fit(x_train,y_train) # fitting the defined model\n",
    "    pred = model.predict(x_test) # predicting our data\n",
    "\n",
    "    acc = metrics.r2_score(y_test, pred) #Checking R2_Score\n",
    "    print('R2_Score',acc)\n",
    "\n",
    "    met = np.sqrt(metrics.mean_squared_error(y_test, pred)) #Calculating RMSE\n",
    "    print('RMSE : ', met) \n",
    "\n",
    "    var = (metrics.explained_variance_score(y_test, pred)) #Calculating explained_variance_score\n",
    "    print('Explained_Variance : ', var)\n",
    "\n",
    "    error = (metrics.max_error(y_test, pred)) #Calculating Max_Error\n",
    "    print('Max_Error : ', error)\n",
    "    \n",
    "    err = metrics.mean_absolute_error(y_test, pred) #Calculating mean_absolute_error\n",
    "    print(\"Mean Absolute Error\", err)\n",
    "    print()\n",
    "    print()\n",
    "    \n",
    "    return model_name + '($R^2={:.3f}$)'.format(acc), np.array(y_test), pred"
   ]
  },
  {
   "cell_type": "code",
   "execution_count": 20,
   "id": "de7c177e",
   "metadata": {},
   "outputs": [
    {
     "name": "stdout",
     "output_type": "stream",
     "text": [
      "Dataframe after applying temporal and spacial specifications: \n",
      "Shape:  (4963, 47)\n",
      "Demand description for temporal/spatial units (e.g. 2017-01-01 09:00, 8826641915fffff): \n",
      "Debug Information\n",
      "-------------------------------\n",
      "Shape Featureset/Target:  (4963, 46) (4963,)\n",
      "Shape after scaling trainingset:  (2977, 46) (2977,)\n",
      "Shape after scaling testset:  (1986, 46) (1986,)\n",
      "X_Train: (2977, 40) X_Test: (1986, 40)\n"
     ]
    }
   ],
   "source": [
    "#select data to start with, we use a daily level for our inital modeling \n",
    "\n",
    "X_train_new, X_test_new, y_train, y_test = get_data(df, temp_resolution=\"24H\")"
   ]
  },
  {
   "cell_type": "code",
   "execution_count": 21,
   "id": "09fa65a4",
   "metadata": {},
   "outputs": [
    {
     "name": "stdout",
     "output_type": "stream",
     "text": [
      "\n",
      "SVR 24H\n",
      "-------------------------------\n",
      "R2_Score -0.09931873004111558\n",
      "RMSE :  1572.3762838301266\n",
      "Explained_Variance :  0.06630141234650444\n",
      "Max_Error :  7155.638653015645\n",
      "Mean Absolute Error 674.1502040129623\n",
      "\n",
      "\n"
     ]
    }
   ],
   "source": [
    "#Start without a Kernel\n",
    "results=[] #save results-tuple for visualization\n",
    "model_svr = SVR()\n",
    "results.append(train(model_svr, \"SVR\", X_train_new, X_test_new,\n",
    "                     y_train, y_test, \"24H\" ))"
   ]
  },
  {
   "cell_type": "code",
   "execution_count": 22,
   "id": "f5521efa",
   "metadata": {
    "scrolled": true
   },
   "outputs": [
    {
     "name": "stdout",
     "output_type": "stream",
     "text": [
      "\n",
      "SVR_Linear 24H\n",
      "-------------------------------\n",
      "R2_Score 0.810303693188717\n",
      "RMSE :  653.1668106704607\n",
      "Explained_Variance :  0.8268322309326513\n",
      "Max_Error :  3909.6355806543115\n",
      "Mean Absolute Error 270.7641776055762\n",
      "\n",
      "\n"
     ]
    }
   ],
   "source": [
    "#Make more complex\n",
    "model_svr2 = SVR(kernel='linear')\n",
    "results.append(train(model_svr2, \"SVR_Linear\", X_train_new, X_test_new,\n",
    "                     y_train, y_test, \"24H\"))"
   ]
  },
  {
   "cell_type": "markdown",
   "id": "87fc03cd",
   "metadata": {},
   "source": [
    "Parameters are as follows:\n",
    "**C:** It is the regularization parameter, C, of the error term.\n",
    "**kernel:** It specifies the kernel type to be used in the algorithm. It can be ‘linear’, ‘poly’, ‘rbf’, ‘sigmoid’, ‘precomputed’, or callable. The default value is ‘rbf’.\n",
    "**degree:** It is the degree of the polynomial kernel function (‘poly’) and is ignored by all other kernels. The default value is 3.\n",
    "**gamma:** It is the kernel coefficient for ‘rbf’, ‘poly’, and ‘sigmoid’. If gamma is ‘auto’, then 1/n_features will be used instead."
   ]
  },
  {
   "cell_type": "code",
   "execution_count": 25,
   "id": "810205e4",
   "metadata": {},
   "outputs": [
    {
     "name": "stdout",
     "output_type": "stream",
     "text": [
      "{'C': 100, 'degree': 1, 'gamma': 1e-07, 'kernel': 'linear'}\n",
      "0.9092864736516538\n"
     ]
    }
   ],
   "source": [
    "#Tune Hyperparams\n",
    "from sklearn.model_selection import GridSearchCV\n",
    "\n",
    "param_grid = { 'C':[0.1,1,100,1000],'kernel':['poly','linear'],\n",
    "              'degree':[1,2,3,4,5,6],'gamma': [1e-7, 1e-4]}\n",
    "grid = GridSearchCV(SVR(),param_grid)\n",
    "grid.fit(X_train_new,y_train)#loop through predefined number of hyperparameters\n",
    "\n",
    "print(grid.best_params_)\n",
    "print(grid.score(X_test_new,y_test))"
   ]
  },
  {
   "cell_type": "code",
   "execution_count": 30,
   "id": "f3b7ab09",
   "metadata": {},
   "outputs": [
    {
     "name": "stdout",
     "output_type": "stream",
     "text": [
      "\n",
      "SVR_Linear 24H\n",
      "-------------------------------\n",
      "R2_Score 0.9092864736516538\n",
      "RMSE :  451.67982848271794\n",
      "Explained_Variance :  0.909699169899579\n",
      "Max_Error :  2983.1924320871794\n",
      "Mean Absolute Error 186.71099375708434\n",
      "\n",
      "\n"
     ]
    }
   ],
   "source": [
    "#Run Model with tuned hyperparams\n",
    "model_svr3 = SVR(kernel='linear', C=100)\n",
    "results.append(train(model_svr3, \"SVR_Linear\", X_train_new, X_test_new,\n",
    "                     y_train, y_test, \"24H\"))"
   ]
  },
  {
   "cell_type": "markdown",
   "id": "eec4fbad",
   "metadata": {},
   "source": [
    "### 4.1.2 Model Evaluation (Visually)"
   ]
  },
  {
   "cell_type": "markdown",
   "id": "3aafa56a",
   "metadata": {},
   "source": [
    "In this section, we will examine the performance of our models more closely. For this, we will look at the visual characteristics of our predictions."
   ]
  },
  {
   "cell_type": "code",
   "execution_count": null,
   "id": "5cbd28b9",
   "metadata": {},
   "outputs": [],
   "source": [
    "# Bessere Visualisierung einbauen"
   ]
  },
  {
   "cell_type": "code",
   "execution_count": null,
   "id": "28b5c390",
   "metadata": {},
   "outputs": [],
   "source": [
    "#Create a plot comparing multiple learners\n",
    "def plot(results):\n",
    "    # Using subplots to display the results on the same X axis\n",
    "    fig, plts = plt.subplots(nrows=len(results), figsize=(8, 8))\n",
    "    fig.canvas.set_window_title('Predicting Chicago')\n",
    "\n",
    "    # Show each element in the plots returned from plt.subplots()\n",
    "    for subplot, (title, y, y_pred) in zip(plts, results):\n",
    "        # Configure each subplot to have no tick marks\n",
    "        # (these are meaningless for the sample dataset)\n",
    "        subplot.set_xticklabels(())\n",
    "        subplot.set_yticklabels(())\n",
    "\n",
    "        # Label the vertical axis\n",
    "        subplot.set_ylabel('Taxi Demand')\n",
    "        subplot.set_xlabel('Time')\n",
    "\n",
    "        # Set the title for the subplot\n",
    "        subplot.set_title(title)\n",
    "\n",
    "        # Plot the actual data and the prediction\n",
    "        subplot.plot(y, 'b', label='actual')\n",
    "        subplot.plot(y_pred, 'r', label='predicted')\n",
    "        \n",
    "        # Shade the area between the predicted and the actual values\n",
    "        subplot.fill_between(\n",
    "            # Generate X values [0, 1, 2, ..., len(y)-2, len(y)-1]\n",
    "            np.arange(0, len(y), 1),\n",
    "            y,\n",
    "            y_pred,\n",
    "            color='r',\n",
    "            alpha=0.2\n",
    "        )\n",
    "\n",
    "        # Mark the extent of the training data\n",
    "        subplot.axvline(len(y) // 2, linestyle='--', color='0', alpha=0.2)\n",
    "\n",
    "        # Include a legend in each subplot\n",
    "        subplot.legend()\n",
    "\n",
    "    # Let matplotlib handle the subplot layout\n",
    "    fig.tight_layout()\n",
    "    plt.show()\n",
    "    plt.savefig('plot.png')\n",
    "    plt.close()"
   ]
  },
  {
   "cell_type": "code",
   "execution_count": null,
   "id": "f32a70b4",
   "metadata": {
    "scrolled": true
   },
   "outputs": [],
   "source": [
    "plot(results)"
   ]
  },
  {
   "cell_type": "markdown",
   "id": "df575dce",
   "metadata": {},
   "source": [
    "### 4.1.3 Variation of Temporal and Spatial Resolution"
   ]
  },
  {
   "cell_type": "markdown",
   "id": "63f9c796",
   "metadata": {},
   "source": [
    "In this section, we aim to explore the performance of our best model based on a variation of termporal and spatial resolutions."
   ]
  },
  {
   "cell_type": "code",
   "execution_count": null,
   "id": "0597fc71",
   "metadata": {},
   "outputs": [],
   "source": [
    "#TODO: Add Spatial Resolution\n",
    "#77community areas\n",
    "#866 census tracts (population between 0 - 10000)\n",
    "#resolution 0-15, with 0 beeing the highest"
   ]
  },
  {
   "cell_type": "code",
   "execution_count": null,
   "id": "2c657def",
   "metadata": {
    "scrolled": true
   },
   "outputs": [],
   "source": [
    "#generate datasets - temporal dimension\n",
    "temporal_resolution_levels = ['24H', '6H', '2H', '1H']\n",
    "\n",
    "results = []\n",
    "\n",
    "for element in temporal_resolution_levels:\n",
    "    model = SVR(kernel='linear')\n",
    "    X_train_new, X_test_new, y_train, y_test = get_data(df, element)\n",
    "    results.append(train(model, \"SVR_Linear\", X_train_new, X_test_new,\n",
    "                         y_train, y_test, element))\n",
    "\n",
    "end = timer()\n",
    "print()\n",
    "print(\"Total Notebook Runtime (s): \", end - start)"
   ]
  }
 ],
 "metadata": {
  "kernelspec": {
   "display_name": "Python 3",
   "language": "python",
   "name": "python3"
  },
  "language_info": {
   "codemirror_mode": {
    "name": "ipython",
    "version": 3
   },
   "file_extension": ".py",
   "mimetype": "text/x-python",
   "name": "python",
   "nbconvert_exporter": "python",
   "pygments_lexer": "ipython3",
   "version": "3.7.6"
  }
 },
 "nbformat": 4,
 "nbformat_minor": 5
}
