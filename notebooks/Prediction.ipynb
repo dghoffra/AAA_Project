{
 "cells": [
  {
   "cell_type": "code",
   "execution_count": 385,
   "id": "3de7e8cd",
   "metadata": {},
   "outputs": [],
   "source": [
    "#get notebook runtime\n",
    "from timeit import default_timer as timer\n",
    "start = timer()"
   ]
  },
  {
   "cell_type": "code",
   "execution_count": 386,
   "id": "13ee566c",
   "metadata": {},
   "outputs": [
    {
     "data": {
      "application/javascript": [
       "IPython.OutputArea.prototype._should_scroll = function(lines) {\n",
       "    return false;\n",
       "}\n"
      ],
      "text/plain": [
       "<IPython.core.display.Javascript object>"
      ]
     },
     "metadata": {},
     "output_type": "display_data"
    }
   ],
   "source": [
    "%%javascript\n",
    "IPython.OutputArea.prototype._should_scroll = function(lines) {\n",
    "    return false;\n",
    "}\n"
   ]
  },
  {
   "cell_type": "code",
   "execution_count": 387,
   "id": "4b9cb320",
   "metadata": {},
   "outputs": [],
   "source": [
    "import warnings\n",
    "warnings.filterwarnings('ignore')"
   ]
  },
  {
   "cell_type": "code",
   "execution_count": 388,
   "id": "41343c1c",
   "metadata": {},
   "outputs": [],
   "source": [
    "# Data Transformation\n",
    "import pandas as pd\n",
    "import geopandas as gpd\n",
    "import numpy as np\n",
    "import h3\n",
    "import shapely\n",
    "\n",
    "# Visualisation\n",
    "import seaborn as sns\n",
    "import matplotlib.pyplot as plt\n",
    "import contextily as ctx\n",
    "\n",
    "\n",
    "# ML Processing\n",
    "import sklearn\n",
    "from sklearn.model_selection import train_test_split\n",
    "from sklearn.feature_selection import SelectKBest, f_classif\n",
    "from sklearn.preprocessing import StandardScaler, MinMaxScaler, RobustScaler\n",
    "\n",
    "# Models\n",
    "from sklearn.svm import SVR\n",
    "from sklearn.tree import DecisionTreeRegressor\n",
    "from sklearn.linear_model import Lasso\n",
    "\n",
    "# Neural Networks\n",
    "from tensorflow import keras\n",
    "from keras import metrics\n",
    "from keras.models import Sequential\n",
    "from keras.layers import Dense, Dropout"
   ]
  },
  {
   "cell_type": "markdown",
   "id": "adaptive-feature",
   "metadata": {},
   "source": [
    "## Data Readin and Helper Functions"
   ]
  },
  {
   "cell_type": "code",
   "execution_count": 389,
   "id": "495f1168",
   "metadata": {},
   "outputs": [
    {
     "data": {
      "text/html": [
       "<div>\n",
       "<style scoped>\n",
       "    .dataframe tbody tr th:only-of-type {\n",
       "        vertical-align: middle;\n",
       "    }\n",
       "\n",
       "    .dataframe tbody tr th {\n",
       "        vertical-align: top;\n",
       "    }\n",
       "\n",
       "    .dataframe thead th {\n",
       "        text-align: right;\n",
       "    }\n",
       "</style>\n",
       "<table border=\"1\" class=\"dataframe\">\n",
       "  <thead>\n",
       "    <tr style=\"text-align: right;\">\n",
       "      <th></th>\n",
       "      <th>Temperature</th>\n",
       "      <th>Humidity</th>\n",
       "      <th>Wind Speed</th>\n",
       "      <th>weather_description</th>\n",
       "      <th>date</th>\n",
       "      <th>has_precipitation</th>\n",
       "      <th>precipitation_intensity</th>\n",
       "      <th>hour</th>\n",
       "    </tr>\n",
       "  </thead>\n",
       "  <tbody>\n",
       "    <tr>\n",
       "      <th>565</th>\n",
       "      <td>275.94</td>\n",
       "      <td>93.0</td>\n",
       "      <td>4.0</td>\n",
       "      <td>overcast clouds</td>\n",
       "      <td>2017-01-24</td>\n",
       "      <td>0</td>\n",
       "      <td>0</td>\n",
       "      <td>14</td>\n",
       "    </tr>\n",
       "    <tr>\n",
       "      <th>7266</th>\n",
       "      <td>282.35</td>\n",
       "      <td>57.0</td>\n",
       "      <td>6.0</td>\n",
       "      <td>scattered clouds</td>\n",
       "      <td>2017-10-30</td>\n",
       "      <td>0</td>\n",
       "      <td>0</td>\n",
       "      <td>19</td>\n",
       "    </tr>\n",
       "    <tr>\n",
       "      <th>3209</th>\n",
       "      <td>293.81</td>\n",
       "      <td>53.0</td>\n",
       "      <td>2.0</td>\n",
       "      <td>scattered clouds</td>\n",
       "      <td>2017-05-14</td>\n",
       "      <td>0</td>\n",
       "      <td>0</td>\n",
       "      <td>18</td>\n",
       "    </tr>\n",
       "    <tr>\n",
       "      <th>7156</th>\n",
       "      <td>277.24</td>\n",
       "      <td>100.0</td>\n",
       "      <td>2.0</td>\n",
       "      <td>light snow</td>\n",
       "      <td>2017-10-26</td>\n",
       "      <td>1</td>\n",
       "      <td>1</td>\n",
       "      <td>5</td>\n",
       "    </tr>\n",
       "    <tr>\n",
       "      <th>5023</th>\n",
       "      <td>291.63</td>\n",
       "      <td>49.0</td>\n",
       "      <td>6.0</td>\n",
       "      <td>sky is clear</td>\n",
       "      <td>2017-07-29</td>\n",
       "      <td>0</td>\n",
       "      <td>0</td>\n",
       "      <td>8</td>\n",
       "    </tr>\n",
       "    <tr>\n",
       "      <th>6303</th>\n",
       "      <td>296.12</td>\n",
       "      <td>73.0</td>\n",
       "      <td>6.0</td>\n",
       "      <td>mist</td>\n",
       "      <td>2017-09-20</td>\n",
       "      <td>0</td>\n",
       "      <td>0</td>\n",
       "      <td>16</td>\n",
       "    </tr>\n",
       "    <tr>\n",
       "      <th>863</th>\n",
       "      <td>275.36</td>\n",
       "      <td>55.0</td>\n",
       "      <td>3.0</td>\n",
       "      <td>broken clouds</td>\n",
       "      <td>2017-02-05</td>\n",
       "      <td>0</td>\n",
       "      <td>0</td>\n",
       "      <td>24</td>\n",
       "    </tr>\n",
       "    <tr>\n",
       "      <th>1655</th>\n",
       "      <td>270.70</td>\n",
       "      <td>25.0</td>\n",
       "      <td>4.0</td>\n",
       "      <td>broken clouds</td>\n",
       "      <td>2017-03-10</td>\n",
       "      <td>0</td>\n",
       "      <td>0</td>\n",
       "      <td>24</td>\n",
       "    </tr>\n",
       "    <tr>\n",
       "      <th>2831</th>\n",
       "      <td>287.70</td>\n",
       "      <td>77.0</td>\n",
       "      <td>4.0</td>\n",
       "      <td>overcast clouds</td>\n",
       "      <td>2017-04-28</td>\n",
       "      <td>0</td>\n",
       "      <td>0</td>\n",
       "      <td>24</td>\n",
       "    </tr>\n",
       "    <tr>\n",
       "      <th>7306</th>\n",
       "      <td>275.23</td>\n",
       "      <td>64.0</td>\n",
       "      <td>2.0</td>\n",
       "      <td>overcast clouds</td>\n",
       "      <td>2017-11-01</td>\n",
       "      <td>0</td>\n",
       "      <td>0</td>\n",
       "      <td>11</td>\n",
       "    </tr>\n",
       "  </tbody>\n",
       "</table>\n",
       "</div>"
      ],
      "text/plain": [
       "      Temperature  Humidity  Wind Speed weather_description        date  \\\n",
       "565        275.94      93.0         4.0     overcast clouds  2017-01-24   \n",
       "7266       282.35      57.0         6.0    scattered clouds  2017-10-30   \n",
       "3209       293.81      53.0         2.0    scattered clouds  2017-05-14   \n",
       "7156       277.24     100.0         2.0          light snow  2017-10-26   \n",
       "5023       291.63      49.0         6.0        sky is clear  2017-07-29   \n",
       "6303       296.12      73.0         6.0                mist  2017-09-20   \n",
       "863        275.36      55.0         3.0       broken clouds  2017-02-05   \n",
       "1655       270.70      25.0         4.0       broken clouds  2017-03-10   \n",
       "2831       287.70      77.0         4.0     overcast clouds  2017-04-28   \n",
       "7306       275.23      64.0         2.0     overcast clouds  2017-11-01   \n",
       "\n",
       "      has_precipitation  precipitation_intensity  hour  \n",
       "565                   0                        0    14  \n",
       "7266                  0                        0    19  \n",
       "3209                  0                        0    18  \n",
       "7156                  1                        1     5  \n",
       "5023                  0                        0     8  \n",
       "6303                  0                        0    16  \n",
       "863                   0                        0    24  \n",
       "1655                  0                        0    24  \n",
       "2831                  0                        0    24  \n",
       "7306                  0                        0    11  "
      ]
     },
     "execution_count": 389,
     "metadata": {},
     "output_type": "execute_result"
    }
   ],
   "source": [
    "# Main Taxi Trip Data\n",
    "df = pd.read_parquet(\"../data/df_cleaned_21_08_2021.parquet\")\n",
    "df[\"PU_isWorkday\"]=df[\"PU_isWorkday\"].astype(int) #convert boolean to int for prediction\n",
    "\n",
    "# a map that outlines the city of chicago\n",
    "chicago = gpd.read_file(\"../data/chicago.geojson\")\n",
    "\n",
    "# Data containing Points of Interest\n",
    "df_poi = pd.read_csv(\"../data/POI_per_H3.csv\")\n",
    "\n",
    "# Weather Data, pretransformed to be usable for prediction\n",
    "weather_df = pd.read_parquet(\"../data/weather_transformed_23_08_2021.parquet\")\n",
    "weather_df[\"hour\"] = weather_df[\"datetime\"].dt.hour+1\n",
    "weather_df[\"has_precipitation\"] = weather_df[\"has_precipitation\"].astype(int)\n",
    "weather_df.drop(columns=[\"month\",\"datetime\"],inplace=True)\n",
    "\n",
    "\n",
    "weather_df_dummies = weather_df.copy()[[\"date\",\"hour\",\"weather_description\"]]\n",
    "weather_df_dummies = pd.concat([weather_df_dummies,\n",
    "                                pd.get_dummies(weather_df[\"weather_description\"])],\n",
    "                               axis=1)\n",
    "\n",
    "slicer=12\n",
    "weather_df_dummies[\"hour_slice\"] = np.ceil(weather_df_dummies[\"hour\"]/slicer).astype(int)\n",
    "weather_df_dummies = weather_df_dummies.drop(columns=[\"weather_description\",\"hour\"])\n",
    "\n",
    "weather_df_dummies = weather_df_dummies.groupby([\"date\",\"hour_slice\"]).sum()\n",
    "\n",
    "weather_df.sample(10)"
   ]
  },
  {
   "cell_type": "code",
   "execution_count": null,
   "id": "current-manner",
   "metadata": {},
   "outputs": [],
   "source": []
  },
  {
   "cell_type": "code",
   "execution_count": 390,
   "id": "outstanding-blowing",
   "metadata": {},
   "outputs": [],
   "source": [
    "#https://www.datacourses.com/evaluation-of-regression-models-in-scikit-learn-846/\n",
    "def eval_reg(y_test,y_pred):\n",
    "    fig, ax = plt.subplots(1,2,figsize=(12,6))\n",
    "    ax[0].scatter(y_pred, y_test, edgecolors=(0, 0, 1),alpha=0.1)\n",
    "    ax[0].plot([y_test.min(), y_test.max()], [y_test.min(), y_test.max()], 'r--', lw=3)\n",
    "    ax[0].set_xlabel('Predicted')\n",
    "    ax[0].set_ylabel('Actual')\n",
    "    \n",
    "    ax[1].hist(y_pred-y_test,bins=100)\n",
    "    plt.show()\n",
    "\n",
    "    # model evaluation for testing set\n",
    "    mae = sklearn.metrics.mean_absolute_error(y_test, y_pred)\n",
    "    mse = sklearn.metrics.mean_squared_error(y_test, y_pred)\n",
    "    r2 = sklearn.metrics.r2_score(y_test, y_pred)\n",
    "    max_error = sklearn.metrics.max_error(y_test, y_pred)#Calculating Max_Error\n",
    "\n",
    "    print(\"The model performance for testing set\")\n",
    "    print(\"--------------------------------------\")\n",
    "    print('MAE is {}'.format(mae))\n",
    "    print('MSE is {}'.format(mse))\n",
    "    print('R2 score is {}'.format(r2))\n",
    "    print('Max error is {}'.format(max_error))"
   ]
  },
  {
   "cell_type": "markdown",
   "id": "0aeff38e",
   "metadata": {},
   "source": [
    "### Characteristics"
   ]
  },
  {
   "cell_type": "markdown",
   "id": "f82e042c",
   "metadata": {},
   "source": [
    "Let's recall the characteristics of our dataset:"
   ]
  },
  {
   "cell_type": "code",
   "execution_count": 391,
   "id": "fffead89",
   "metadata": {},
   "outputs": [
    {
     "data": {
      "text/plain": [
       "(1089891, 43)"
      ]
     },
     "execution_count": 391,
     "metadata": {},
     "output_type": "execute_result"
    }
   ],
   "source": [
    "df.shape"
   ]
  },
  {
   "cell_type": "code",
   "execution_count": 392,
   "id": "5b174a65",
   "metadata": {},
   "outputs": [
    {
     "data": {
      "text/html": [
       "<div>\n",
       "<style scoped>\n",
       "    .dataframe tbody tr th:only-of-type {\n",
       "        vertical-align: middle;\n",
       "    }\n",
       "\n",
       "    .dataframe tbody tr th {\n",
       "        vertical-align: top;\n",
       "    }\n",
       "\n",
       "    .dataframe thead th {\n",
       "        text-align: right;\n",
       "    }\n",
       "</style>\n",
       "<table border=\"1\" class=\"dataframe\">\n",
       "  <thead>\n",
       "    <tr style=\"text-align: right;\">\n",
       "      <th></th>\n",
       "      <th>Trip ID</th>\n",
       "      <th>Taxi ID</th>\n",
       "      <th>Trip Start Timestamp</th>\n",
       "      <th>Trip End Timestamp</th>\n",
       "      <th>Trip Seconds</th>\n",
       "      <th>Trip Miles</th>\n",
       "      <th>Pickup Census Tract</th>\n",
       "      <th>Dropoff Census Tract</th>\n",
       "      <th>Pickup Community Area</th>\n",
       "      <th>Dropoff Community Area</th>\n",
       "      <th>...</th>\n",
       "      <th>PU_HOUR</th>\n",
       "      <th>PU_isWorkday</th>\n",
       "      <th>DO_MONTH_NAME</th>\n",
       "      <th>DO_WEEKDAY_NAME</th>\n",
       "      <th>DO_WEEK</th>\n",
       "      <th>DO_DATE</th>\n",
       "      <th>DO_MONTH</th>\n",
       "      <th>DO_WEEKDAY</th>\n",
       "      <th>DO_HOUR</th>\n",
       "      <th>DO_isWorkday</th>\n",
       "    </tr>\n",
       "  </thead>\n",
       "  <tbody>\n",
       "    <tr>\n",
       "      <th>489487</th>\n",
       "      <td>5487de4e97b71188efadf95669f532a5ccb08843</td>\n",
       "      <td>56f2fce86600dd132681be1323fe78ce26e60f2fffe4b3...</td>\n",
       "      <td>2017-01-09 11:45:00</td>\n",
       "      <td>2017-01-09 12:00:00</td>\n",
       "      <td>480.0</td>\n",
       "      <td>0.10</td>\n",
       "      <td>NaN</td>\n",
       "      <td>NaN</td>\n",
       "      <td>8.0</td>\n",
       "      <td>7.0</td>\n",
       "      <td>...</td>\n",
       "      <td>12</td>\n",
       "      <td>1</td>\n",
       "      <td>January</td>\n",
       "      <td>Monday</td>\n",
       "      <td>2</td>\n",
       "      <td>2017-01-09</td>\n",
       "      <td>1</td>\n",
       "      <td>0</td>\n",
       "      <td>12</td>\n",
       "      <td>True</td>\n",
       "    </tr>\n",
       "    <tr>\n",
       "      <th>16284335</th>\n",
       "      <td>491aabe21dbd65e2fa8efca4cdf7d6bf40f45b89</td>\n",
       "      <td>edcd6d939a065b4d0028d5219351a593d77b1b17637db3...</td>\n",
       "      <td>2017-08-17 14:30:00</td>\n",
       "      <td>2017-08-17 14:30:00</td>\n",
       "      <td>240.0</td>\n",
       "      <td>0.90</td>\n",
       "      <td>1.703132e+10</td>\n",
       "      <td>1.703108e+10</td>\n",
       "      <td>32.0</td>\n",
       "      <td>8.0</td>\n",
       "      <td>...</td>\n",
       "      <td>15</td>\n",
       "      <td>1</td>\n",
       "      <td>August</td>\n",
       "      <td>Thursday</td>\n",
       "      <td>33</td>\n",
       "      <td>2017-08-17</td>\n",
       "      <td>8</td>\n",
       "      <td>3</td>\n",
       "      <td>15</td>\n",
       "      <td>True</td>\n",
       "    </tr>\n",
       "    <tr>\n",
       "      <th>4052837</th>\n",
       "      <td>522fe170918a41a9eacb8c665b5a699be9db33c8</td>\n",
       "      <td>fbdfc1bdf8477e6043d2012f98283fdbc6212192a065ab...</td>\n",
       "      <td>2017-03-03 07:30:00</td>\n",
       "      <td>2017-03-03 07:45:00</td>\n",
       "      <td>360.0</td>\n",
       "      <td>0.20</td>\n",
       "      <td>NaN</td>\n",
       "      <td>NaN</td>\n",
       "      <td>6.0</td>\n",
       "      <td>8.0</td>\n",
       "      <td>...</td>\n",
       "      <td>8</td>\n",
       "      <td>1</td>\n",
       "      <td>March</td>\n",
       "      <td>Friday</td>\n",
       "      <td>9</td>\n",
       "      <td>2017-03-03</td>\n",
       "      <td>3</td>\n",
       "      <td>4</td>\n",
       "      <td>8</td>\n",
       "      <td>True</td>\n",
       "    </tr>\n",
       "    <tr>\n",
       "      <th>14574858</th>\n",
       "      <td>0fc17e1ac2fbdbe5ce772521e712341bb5b19d64</td>\n",
       "      <td>e428b282d868d83ee36a566f79e7e8926c9c3c631809cc...</td>\n",
       "      <td>2017-07-23 10:30:00</td>\n",
       "      <td>2017-07-23 10:30:00</td>\n",
       "      <td>401.0</td>\n",
       "      <td>1.19</td>\n",
       "      <td>1.703132e+10</td>\n",
       "      <td>1.703108e+10</td>\n",
       "      <td>32.0</td>\n",
       "      <td>8.0</td>\n",
       "      <td>...</td>\n",
       "      <td>11</td>\n",
       "      <td>0</td>\n",
       "      <td>July</td>\n",
       "      <td>Sunday</td>\n",
       "      <td>30</td>\n",
       "      <td>2017-07-23</td>\n",
       "      <td>7</td>\n",
       "      <td>6</td>\n",
       "      <td>11</td>\n",
       "      <td>False</td>\n",
       "    </tr>\n",
       "    <tr>\n",
       "      <th>3642582</th>\n",
       "      <td>53278beb03b150357771f184b6b0787eec16c095</td>\n",
       "      <td>5e3077a68e0439a1168a98d848e9ae3fd8c74f61bc4323...</td>\n",
       "      <td>2017-02-25 10:00:00</td>\n",
       "      <td>2017-02-25 10:30:00</td>\n",
       "      <td>1496.0</td>\n",
       "      <td>17.50</td>\n",
       "      <td>1.703198e+10</td>\n",
       "      <td>1.703108e+10</td>\n",
       "      <td>76.0</td>\n",
       "      <td>8.0</td>\n",
       "      <td>...</td>\n",
       "      <td>11</td>\n",
       "      <td>0</td>\n",
       "      <td>February</td>\n",
       "      <td>Saturday</td>\n",
       "      <td>8</td>\n",
       "      <td>2017-02-25</td>\n",
       "      <td>2</td>\n",
       "      <td>5</td>\n",
       "      <td>11</td>\n",
       "      <td>False</td>\n",
       "    </tr>\n",
       "  </tbody>\n",
       "</table>\n",
       "<p>5 rows × 43 columns</p>\n",
       "</div>"
      ],
      "text/plain": [
       "                                           Trip ID  \\\n",
       "489487    5487de4e97b71188efadf95669f532a5ccb08843   \n",
       "16284335  491aabe21dbd65e2fa8efca4cdf7d6bf40f45b89   \n",
       "4052837   522fe170918a41a9eacb8c665b5a699be9db33c8   \n",
       "14574858  0fc17e1ac2fbdbe5ce772521e712341bb5b19d64   \n",
       "3642582   53278beb03b150357771f184b6b0787eec16c095   \n",
       "\n",
       "                                                    Taxi ID  \\\n",
       "489487    56f2fce86600dd132681be1323fe78ce26e60f2fffe4b3...   \n",
       "16284335  edcd6d939a065b4d0028d5219351a593d77b1b17637db3...   \n",
       "4052837   fbdfc1bdf8477e6043d2012f98283fdbc6212192a065ab...   \n",
       "14574858  e428b282d868d83ee36a566f79e7e8926c9c3c631809cc...   \n",
       "3642582   5e3077a68e0439a1168a98d848e9ae3fd8c74f61bc4323...   \n",
       "\n",
       "         Trip Start Timestamp  Trip End Timestamp  Trip Seconds  Trip Miles  \\\n",
       "489487    2017-01-09 11:45:00 2017-01-09 12:00:00         480.0        0.10   \n",
       "16284335  2017-08-17 14:30:00 2017-08-17 14:30:00         240.0        0.90   \n",
       "4052837   2017-03-03 07:30:00 2017-03-03 07:45:00         360.0        0.20   \n",
       "14574858  2017-07-23 10:30:00 2017-07-23 10:30:00         401.0        1.19   \n",
       "3642582   2017-02-25 10:00:00 2017-02-25 10:30:00        1496.0       17.50   \n",
       "\n",
       "          Pickup Census Tract  Dropoff Census Tract  Pickup Community Area  \\\n",
       "489487                    NaN                   NaN                    8.0   \n",
       "16284335         1.703132e+10          1.703108e+10                   32.0   \n",
       "4052837                   NaN                   NaN                    6.0   \n",
       "14574858         1.703132e+10          1.703108e+10                   32.0   \n",
       "3642582          1.703198e+10          1.703108e+10                   76.0   \n",
       "\n",
       "          Dropoff Community Area  ...  PU_HOUR  PU_isWorkday  DO_MONTH_NAME  \\\n",
       "489487                       7.0  ...       12             1        January   \n",
       "16284335                     8.0  ...       15             1         August   \n",
       "4052837                      8.0  ...        8             1          March   \n",
       "14574858                     8.0  ...       11             0           July   \n",
       "3642582                      8.0  ...       11             0       February   \n",
       "\n",
       "          DO_WEEKDAY_NAME  DO_WEEK     DO_DATE DO_MONTH  DO_WEEKDAY  DO_HOUR  \\\n",
       "489487             Monday        2  2017-01-09        1           0       12   \n",
       "16284335         Thursday       33  2017-08-17        8           3       15   \n",
       "4052837            Friday        9  2017-03-03        3           4        8   \n",
       "14574858           Sunday       30  2017-07-23        7           6       11   \n",
       "3642582          Saturday        8  2017-02-25        2           5       11   \n",
       "\n",
       "          DO_isWorkday  \n",
       "489487            True  \n",
       "16284335          True  \n",
       "4052837           True  \n",
       "14574858         False  \n",
       "3642582          False  \n",
       "\n",
       "[5 rows x 43 columns]"
      ]
     },
     "execution_count": 392,
     "metadata": {},
     "output_type": "execute_result"
    }
   ],
   "source": [
    "df.head()"
   ]
  },
  {
   "cell_type": "code",
   "execution_count": 393,
   "id": "0ecc9141",
   "metadata": {},
   "outputs": [
    {
     "data": {
      "text/plain": [
       "Trip ID                            0\n",
       "Taxi ID                          401\n",
       "Trip Start Timestamp               0\n",
       "Trip End Timestamp                 0\n",
       "Trip Seconds                       0\n",
       "Trip Miles                         0\n",
       "Pickup Census Tract           328349\n",
       "Dropoff Census Tract          331418\n",
       "Pickup Community Area          78095\n",
       "Dropoff Community Area         98584\n",
       "Fare                               0\n",
       "Tips                               0\n",
       "Tolls                         284734\n",
       "Extras                             0\n",
       "Trip Total                         0\n",
       "Payment Type                       0\n",
       "Company                            0\n",
       "Pickup Centroid Latitude       78095\n",
       "Pickup Centroid Longitude      78095\n",
       "Dropoff Centroid Latitude      98584\n",
       "Dropoff Centroid Longitude     98584\n",
       "PU_H3                          78095\n",
       "DO_H3                          98584\n",
       "PU_DISTANCE_CITY               78095\n",
       "DO_DISTANCE_CITY               98584\n",
       "DURATION_IN_MINUTES                0\n",
       "MPH                                0\n",
       "PU_MONTH_NAME                      0\n",
       "PU_WEEKDAY_NAME                    0\n",
       "PU_WEEK                            0\n",
       "PU_DATE                            0\n",
       "PU_MONTH                           0\n",
       "PU_WEEKDAY                         0\n",
       "PU_HOUR                            0\n",
       "PU_isWorkday                       0\n",
       "DO_MONTH_NAME                      0\n",
       "DO_WEEKDAY_NAME                    0\n",
       "DO_WEEK                            0\n",
       "DO_DATE                            0\n",
       "DO_MONTH                           0\n",
       "DO_WEEKDAY                         0\n",
       "DO_HOUR                            0\n",
       "DO_isWorkday                       0\n",
       "dtype: int64"
      ]
     },
     "execution_count": 393,
     "metadata": {},
     "output_type": "execute_result"
    }
   ],
   "source": [
    "df.isnull().sum()"
   ]
  },
  {
   "cell_type": "code",
   "execution_count": 394,
   "id": "b4662cbf",
   "metadata": {},
   "outputs": [],
   "source": [
    "df_pairplot = df[:100]"
   ]
  },
  {
   "cell_type": "code",
   "execution_count": 395,
   "id": "751a585b",
   "metadata": {},
   "outputs": [],
   "source": [
    "#sns.pairplot(df_pairplot, hue='PU_H3')"
   ]
  },
  {
   "cell_type": "markdown",
   "id": "b17d62df",
   "metadata": {},
   "source": [
    "Nun schauen wir uns explizit die Korrelationen der Variablen an. Wie ebenfalls im vorigen Plot zu observieren, sehen wir hier, dass die Variablen zum Teil stark positiv sowie negativ korrelieren."
   ]
  },
  {
   "cell_type": "code",
   "execution_count": 396,
   "id": "dbdab341",
   "metadata": {},
   "outputs": [
    {
     "data": {
      "image/png": "[encoded data removed]",
      "text/plain": [
       "<Figure size 1368x1080 with 2 Axes>"
      ]
     },
     "metadata": {
      "needs_background": "light"
     },
     "output_type": "display_data"
    }
   ],
   "source": [
    "f = plt.figure(figsize=(19, 15))\n",
    "plt.matshow(df.corr(), fignum=f.number)\n",
    "plt.xticks(range(df.select_dtypes(['number']).shape[1]), df.select_dtypes(['number']).columns, fontsize=14, rotation=45)\n",
    "plt.yticks(range(df.select_dtypes(['number']).shape[1]), df.select_dtypes(['number']).columns, fontsize=14)\n",
    "cb = plt.colorbar()\n",
    "cb.ax.tick_params(labelsize=14)\n",
    "plt.title('Correlation Matrix', fontsize=16);"
   ]
  },
  {
   "cell_type": "markdown",
   "id": "d79279b1",
   "metadata": {},
   "source": [
    "Nun schauen wir uns die Verteilung unserer Zielvariablen taxi_demand (auf stündlicher basis) genauer an. Es ist zu erkennen, dass Samstags und Sonntags wesentlich häufiger früh am morgen das Taxi genutzt wird, als unter der Woche."
   ]
  },
  {
   "cell_type": "code",
   "execution_count": 397,
   "id": "8ce1bdbb",
   "metadata": {},
   "outputs": [
    {
     "data": {
      "text/plain": [
       "<seaborn.axisgrid.FacetGrid at 0x1f8d0fc4130>"
      ]
     },
     "execution_count": 397,
     "metadata": {},
     "output_type": "execute_result"
    },
    {
     "data": {
      "image/png": "[encoded data removed]",
      "text/plain": [
       "<Figure size 435x360 with 1 Axes>"
      ]
     },
     "metadata": {
      "needs_background": "light"
     },
     "output_type": "display_data"
    }
   ],
   "source": [
    "sns.displot(df,x='PU_HOUR', hue='PU_WEEKDAY', bins=24)\n"
   ]
  },
  {
   "cell_type": "markdown",
   "id": "43c6aec0",
   "metadata": {},
   "source": [
    "# 0. Data Preparation"
   ]
  },
  {
   "cell_type": "markdown",
   "id": "offensive-poultry",
   "metadata": {},
   "source": [
    "The purpose of this part of the project is to build advanced models that can predict taxi demand in a certain area at a certain time frame. Consistent with the rest of the project, we use H3 coding for spatial segmentation. To get a feeling for the useful spatial resolutions that H3 offers, we start by plotting a map of chicago filled with different sized H3s to choose the relevant ones. We start with Level 9, as the data from our preprocessing (see Notebook Data Cleaning) is on Level 9, and then decrease the resolution."
   ]
  },
  {
   "cell_type": "code",
   "execution_count": 398,
   "id": "bridal-colors",
   "metadata": {},
   "outputs": [],
   "source": [
    "chicago_fence=chicago.geometry[0][1]"
   ]
  },
  {
   "cell_type": "code",
   "execution_count": 399,
   "id": "independent-fitness",
   "metadata": {},
   "outputs": [
    {
     "data": {
      "text/html": [
       "<div>\n",
       "<style scoped>\n",
       "    .dataframe tbody tr th:only-of-type {\n",
       "        vertical-align: middle;\n",
       "    }\n",
       "\n",
       "    .dataframe tbody tr th {\n",
       "        vertical-align: top;\n",
       "    }\n",
       "\n",
       "    .dataframe thead th {\n",
       "        text-align: right;\n",
       "    }\n",
       "</style>\n",
       "<table border=\"1\" class=\"dataframe\">\n",
       "  <thead>\n",
       "    <tr style=\"text-align: right;\">\n",
       "      <th></th>\n",
       "      <th>name</th>\n",
       "      <th>objectid</th>\n",
       "      <th>shape_area</th>\n",
       "      <th>shape_len</th>\n",
       "      <th>geometry</th>\n",
       "    </tr>\n",
       "  </thead>\n",
       "  <tbody>\n",
       "    <tr>\n",
       "      <th>0</th>\n",
       "      <td>CHICAGO</td>\n",
       "      <td>1</td>\n",
       "      <td>6450276623.31</td>\n",
       "      <td>845282.931362</td>\n",
       "      <td>MULTIPOLYGON (((-87.93514 42.00089, -87.93521 ...</td>\n",
       "    </tr>\n",
       "  </tbody>\n",
       "</table>\n",
       "</div>"
      ],
      "text/plain": [
       "      name objectid     shape_area      shape_len  \\\n",
       "0  CHICAGO        1  6450276623.31  845282.931362   \n",
       "\n",
       "                                            geometry  \n",
       "0  MULTIPOLYGON (((-87.93514 42.00089, -87.93521 ...  "
      ]
     },
     "execution_count": 399,
     "metadata": {},
     "output_type": "execute_result"
    }
   ],
   "source": [
    "chicago.head()"
   ]
  },
  {
   "attachments": {
    "grafik-2.png": {
     "image/png": "[encoded data removed]"
    }
   },
   "cell_type": "markdown",
   "id": "private-marketplace",
   "metadata": {},
   "source": [
    "![grafik-2.png](attachment:grafik-2.png)"
   ]
  },
  {
   "cell_type": "code",
   "execution_count": 400,
   "id": "understanding-digit",
   "metadata": {},
   "outputs": [],
   "source": [
    "def get_chicago_gdf_h3(chicago_geojson,h3_res):\n",
    "    # Create an empty dataframe to write data into\n",
    "    h3_df = pd.DataFrame([],columns=['h3_id','geometry','h3_centroid'])\n",
    "\n",
    "\n",
    "    # Iterate over every row of the geo dataframe\n",
    "    for _,row in chicago.iterrows():  \n",
    "        # Parse out info from columns of row\n",
    "        district_multipolygon = row.geometry\n",
    "\n",
    "        # Convert multi-polygon into list of polygons\n",
    "        district_polygon = list(district_multipolygon)\n",
    "\n",
    "        for polygon in district_polygon:\n",
    "            # Convert Polygon to GeoJSON dictionary\n",
    "            poly_geojson = gpd.GeoSeries([polygon]).__geo_interface__\n",
    "            # Parse out geometry key from GeoJSON dictionary\n",
    "            poly_geojson = poly_geojson['features'][0]['geometry'] \n",
    "            # Fill the dictionary with H3_hexagons\n",
    "            h3_hexes = h3.polyfill_geojson(poly_geojson, h3_res) \n",
    "            for h3_hex in h3_hexes:\n",
    "                h3_geo_boundary = shapely.geometry.Polygon(\n",
    "                    h3.h3_to_geo_boundary(h3_hex,geo_json=True)\n",
    "                )\n",
    "                h3_centroid = h3.h3_to_geo(h3_hex)\n",
    "                # Append results to dataframe\n",
    "                h3_df.loc[len(h3_df)]=[\n",
    "                    h3_hex,\n",
    "                    h3_geo_boundary,\n",
    "                    h3_centroid\n",
    "                ]\n",
    "    return h3_df"
   ]
  },
  {
   "cell_type": "code",
   "execution_count": null,
   "id": "million-dietary",
   "metadata": {},
   "outputs": [],
   "source": [
    "fig,axes=plt.subplots(2,2,figsize=(16,16))\n",
    "\n",
    "h3_level = 9\n",
    "for row in axes:\n",
    "    for ax in row:\n",
    "        h3_gdf = gpd.GeoDataFrame(get_chicago_gdf_h3(chicago, h3_level))\n",
    "        h3_gdf.plot(ax=ax)\n",
    "        ax.set_title(\"H3 Resolution:\"+str(h3_level))\n",
    "        ctx.add_basemap(ax=ax,zoom=12,crs=4326,source='https://a.tile.openstreetmap.fr/hot/{z}/{x}/{y}.png')\n",
    "        chicago.plot(ax=ax,alpha=0) #scaling\n",
    "        \n",
    "        h3_level-=1"
   ]
  },
  {
   "cell_type": "markdown",
   "id": "following-congress",
   "metadata": {},
   "source": [
    "Predicting daily or hourly taxi demand for resolution 9 seems to be a little too detailed, while resolution 6 seems not detailed enough, so we focus on predicting on resolutions 7 and 8."
   ]
  },
  {
   "cell_type": "markdown",
   "id": "medieval-somerset",
   "metadata": {},
   "source": [
    "In terms of temporal resolutions, we find most interesting would be either daily, hourly, or 6-hourly."
   ]
  },
  {
   "cell_type": "code",
   "execution_count": null,
   "id": "instructional-contrast",
   "metadata": {},
   "outputs": [],
   "source": [
    "df.info()"
   ]
  },
  {
   "cell_type": "markdown",
   "id": "emerging-citizenship",
   "metadata": {},
   "source": [
    "To efficiently design our models for different resolutions and with different feature sets, we set up a reuseable function that builds a prediction dataframe for the desired temporal and spatial resolution. We add options to add dummy variables for \n",
    "* weather_description (~40 weather descriptions on hourly basis), \n",
    "* POI categories (~50 different categories of POI and their count in the specific H3), \n",
    "* H3 (Dummy Variable that can catch variance that is explained by only the predicted H3 polygon)\n",
    "\n",
    "To obtain robust values for the predictors, we use the median."
   ]
  },
  {
   "cell_type": "code",
   "execution_count": null,
   "id": "satellite-estate",
   "metadata": {},
   "outputs": [],
   "source": [
    "def get_data(df,weather_df,df_poi,temp_resolution,spatial_resolution=False,dummy_poi_category=False,dummy_weather=False,dummy_h3=False):\n",
    "    \n",
    "    #Filter out all Data that doesn't have Pickup Location Data\n",
    "    dff = df.copy()[df[\"PU_H3\"].isnull()!=True]\n",
    "    \n",
    "    \n",
    "    #---- Calculate new H3 based on specified resolution (if it is higher than resolution in dataset) -----#\n",
    "    h3_base_resolution = h3.h3_get_resolution(dff[\"PU_H3\"].iloc[0]) #get original resolution in data\n",
    "    \n",
    "    if h3_base_resolution<spatial_resolution:\n",
    "        print(\"ERROR: Trying to select smaller resolution than available in dataset. Keeping data on resolution\",h3_base_resolution)\n",
    "        dff[\"PU_H3_pred\"] = dff[\"PU_H3\"]\n",
    "        dff[\"DO_H3_pred\"] = dff[\"DO_H3\"]\n",
    "        \n",
    "    if h3_base_resolution == spatial_resolution:\n",
    "        dff[\"PU_H3_pred\"] = dff[\"PU_H3\"]\n",
    "        dff[\"DO_H3_pred\"] = dff[\"DO_H3\"]\n",
    "        \n",
    "    if spatial_resolution and spatial_resolution<h3_base_resolution:\n",
    "        #calculate new H3s with centroids of old H3s\n",
    "        print(\"recalculating H3s from Level\",h3_base_resolution,\"to\",spatial_resolution)\n",
    "        dff[\"PU_H3_pred\"] = dff.apply(lambda x: h3.geo_to_h3(x[\"Pickup Centroid Latitude\"],x[\"Pickup Centroid Longitude\"],spatial_resolution),axis=1)\n",
    "        dff[\"DO_H3_pred\"] = dff.apply(lambda x: h3.geo_to_h3(x[\"Dropoff Centroid Latitude\"],x[\"Dropoff Centroid Longitude\"],spatial_resolution),axis=1)\n",
    "        \n",
    "    \n",
    "    dff_h3 = dff.groupby([\"PU_H3_pred\",\n",
    "                               \"PU_DATE\",\n",
    "                               \"PU_HOUR\"]).agg(H3_index=(\"PU_H3_pred\",\"first\"),\n",
    "                                               DATE_index=(\"PU_DATE\",\"first\"),\n",
    "                                               HOUR_index=(\"PU_HOUR\",\"first\"),\n",
    "                                               count=(\"PU_H3\",\"count\"),\n",
    "                                               MONTH=(\"PU_MONTH\",\"first\"),\n",
    "                                               DISTANCE_CITY=(\"PU_DISTANCE_CITY\",\"median\"),\n",
    "                                               WEEKDAY=(\"PU_WEEKDAY\",\"first\"),\n",
    "                                               isWorkday=(\"PU_isWorkday\",\"first\"))\n",
    "    \n",
    "    dff_h3 = pd.merge(dff_h3,weather_df,left_on=[\"DATE_index\",\"HOUR_index\"],right_on=[\"date\",\"hour\"],how=\"left\")\n",
    "        \n",
    "        \n",
    "    #--------------------------- Slice Hours of Days into set Temporal Resolution ---------------------------#\n",
    "    # This slices the day into equal parts. Input is the amount of slices per day.\n",
    "    slicer = 24 / temp_resolution\n",
    "    dff_h3[\"PU_HOUR_slice\"] = np.ceil(dff_h3[\"HOUR_index\"]/slicer).astype(int)\n",
    "    \n",
    "    \n",
    "    dff_grouped = dff_h3.groupby([\"H3_index\",\n",
    "                                   \"DATE_index\",\n",
    "                                   \"PU_HOUR_slice\"]).agg(H3=(\"H3_index\",\"first\"),\n",
    "                                                         DATE=(\"DATE_index\",\"first\"),\n",
    "                                                         HOUR_slice=(\"PU_HOUR_slice\",\"first\"),\n",
    "                                                         count=(\"count\",\"sum\"),#sums over all hours in slice\n",
    "                                                         MONTH=(\"MONTH\",\"first\"),\n",
    "                                                         DISTANCE_CITY=(\"DISTANCE_CITY\",\"median\"),\n",
    "                                                         WEEKDAY=(\"WEEKDAY\",\"first\"),\n",
    "                                                         isWorkday=(\"isWorkday\",\"first\"),\n",
    "                                                         Temperature=(\"Temperature\",\"median\"),\n",
    "                                                         Humidity=(\"Humidity\",\"median\"),\n",
    "                                                         Wspeed=(\"Wind Speed\",\"median\"),\n",
    "                                                         has_precipitation = (\"has_precipitation\",\"sum\"),\n",
    "                                                         precipitation_intensity=(\"precipitation_intensity\",\"max\"))\n",
    "\n",
    "\n",
    "\n",
    "\n",
    "    #------------------------- Weather Description Dummies ----------------------#\n",
    "    if dummy_weather:\n",
    "        dff_grouped=dff_grouped.drop(columns=[\"has_precipitation\",\"precipitation_intensity\"])\n",
    "        weather_df_dummies = weather_df.copy()[[\"date\",\"hour\",\"weather_description\"]]\n",
    "        weather_df_dummies = pd.concat([weather_df_dummies,\n",
    "                                        pd.get_dummies(weather_df[\"weather_description\"])],\n",
    "                                       axis=1)\n",
    "        weather_df_dummies[\"hour_slice\"] = np.ceil(weather_df_dummies[\"hour\"]/slicer).astype(int)\n",
    "        weather_df_dummies = weather_df_dummies.drop(columns=[\"weather_description\",\"hour\"])\n",
    "\n",
    "        weather_df_dummies = weather_df_dummies.groupby([\"date\",\"hour_slice\"]).sum()\n",
    "        dff_grouped=pd.merge(left=dff_grouped,\n",
    "                             right=weather_df_dummies,\n",
    "                             left_on=[\"DATE\",\"HOUR_slice\"],\n",
    "                             right_index=True,\n",
    "                             how=\"left\")\n",
    "        \n",
    "        \n",
    "        \n",
    "    #---------------------------------------- POI ----------------------------------------#\n",
    "    #get poi to right resolution\n",
    "    \n",
    "    dff_poi = df_poi.copy()\n",
    "    dff_poi[\"area\"]= dff_poi.apply(lambda x: h3.geo_to_h3(x[\"lng\"],x[\"lat\"],spatial_resolution),axis=1)\n",
    "    if dummy_poi_category:\n",
    "        dff_poi = dff_poi.drop(columns=[\"osm_id\",\"feature\",\"lat\",\"lng\",\"intersection\"])\n",
    "        dff_poi_index = dff_poi[\"area\"]\n",
    "        dff_poi = pd.get_dummies(dff_poi[\"key\"])\n",
    "        dff_poi.index = dff_poi_index\n",
    "        dff_poi = dff_poi.groupby(\"area\").sum().astype(int)\n",
    "    else:\n",
    "        dff_poi = dff_poi.groupby(\"area\").agg(poi_count=(\"area\",\"count\"))\n",
    "    \n",
    "        \n",
    "    dff_grouped=pd.merge(dff_grouped,dff_poi,left_on=\"H3\",right_on=\"area\",how=\"left\")\n",
    "    \n",
    "\n",
    "    #----------------------------------- H3 Dummies --------------------------------------#\n",
    "\n",
    "    \n",
    "    if dummy_h3:\n",
    "        h3_dummies = pd.get_dummies(dff_grouped[\"H3\"])\n",
    "        dff_grouped = pd.concat([dff_grouped,\n",
    "                                 h3_dummies],axis=1)\n",
    "\n",
    "    \n",
    "    \n",
    "    #----------------------------------- Output ------------------------------------#\n",
    "    dff_grouped = dff_grouped.drop(columns=[\"H3\",\"DATE\"])\n",
    "    dff_grouped=dff_grouped.replace(np.nan,0)\n",
    "    return dff_grouped\n"
   ]
  },
  {
   "cell_type": "markdown",
   "id": "chemical-prague",
   "metadata": {},
   "source": [
    "## Simple Decision Tree and Linear Regressions\n",
    "To get a benchmark, we set up simple Decision Tree and Linear Regressions as Benchmarks for our more complex, advanced Neural Networks and SVM Regressors. We use a reduced feature set without dummy variables in order to reduce model complexity, as these are just simple benchmark models."
   ]
  },
  {
   "cell_type": "code",
   "execution_count": null,
   "id": "governmental-plymouth",
   "metadata": {},
   "outputs": [],
   "source": [
    "df_pred_simple.info()"
   ]
  },
  {
   "cell_type": "code",
   "execution_count": null,
   "id": "alien-enlargement",
   "metadata": {},
   "outputs": [],
   "source": [
    "df_pred_simple = get_data(df,weather_df,df_poi,6,8)\n",
    "\n",
    "#Split off dependant and independant variable\n",
    "y=df_pred_simple[\"count\"]\n",
    "X=df_pred_simple.drop(columns=\"count\")\n",
    "\n",
    "#Train Test Split\n",
    "X_train, X_test, y_train, y_test = train_test_split(X, y, test_size=0.33, random_state=42)\n",
    "\n",
    "#Scaling\n",
    "scaler = StandardScaler().fit(X_train)\n",
    "X_train_s = scaler.transform(X_train)\n",
    "X_test_s = scaler.transform(X_test)"
   ]
  },
  {
   "cell_type": "code",
   "execution_count": null,
   "id": "selective-newsletter",
   "metadata": {},
   "outputs": [],
   "source": [
    "tree=DecisionTreeRegressor(max_depth=10)\n",
    "tree.fit(X_train_s,y_train)\n",
    "y_pred=tree.predict(X_test_s)\n",
    "\n",
    "eval_reg(y_test,y_pred)"
   ]
  },
  {
   "cell_type": "code",
   "execution_count": null,
   "id": "optimum-shield",
   "metadata": {},
   "outputs": [],
   "source": [
    "lasso = Lasso(alpha=0.1)\n",
    "lasso.fit(X_train_s,y_train)\n",
    "y_pred=lasso.predict(X_test_s)\n",
    "\n",
    "eval_reg(y_test,y_pred)"
   ]
  },
  {
   "cell_type": "markdown",
   "id": "empty-prototype",
   "metadata": {},
   "source": [
    "# 1. Neural Networks"
   ]
  },
  {
   "cell_type": "code",
   "execution_count": null,
   "id": "floppy-logan",
   "metadata": {},
   "outputs": [],
   "source": [
    "df_pred_ann = get_data(df,weather_df,df_poi,4,8,dummy_poi_category=True,dummy_weather=True,dummy_h3=True)\n",
    "\n",
    "#Split off dependant and independant variable\n",
    "y=df_pred_ann[\"count\"]\n",
    "X=df_pred_ann.drop(columns=\"count\")\n",
    "\n",
    "#Train Test Split\n",
    "X_train, X_test, y_train, y_test = train_test_split(X, y, test_size=0.33, random_state=42)\n",
    "\n",
    "#Scaling\n",
    "scaler = StandardScaler().fit(X_train)\n",
    "X_train_s = scaler.transform(X_train)\n",
    "X_test_s = scaler.transform(X_test)"
   ]
  },
  {
   "cell_type": "code",
   "execution_count": null,
   "id": "consecutive-amino",
   "metadata": {},
   "outputs": [],
   "source": [
    "def build_reg_nn(layers,input_shape,activation=\"relu\",dropout=False,optimizer=\"adam\"):\n",
    "    \n",
    "    model = Sequential()\n",
    "    model.add(keras.Input(shape=input_shape)) #Input Layer\n",
    "    \n",
    "    for layer in layers: # Hidden Layers\n",
    "        model.add(Dense(layer, activation=activation)) #Add Hidden Layer with specified width and activation funciton\n",
    "        if dropout: #if wanted, add dropout layer with given factor\n",
    "            model.add(Dropout(dropout))\n",
    "  \n",
    "\n",
    "    model.add(Dense(1,activation=\"relu\")) #Regression Output Layer - everything below 0 doesn't make sense here\n",
    "\n",
    "    model.compile(loss='mse',\n",
    "                  metrics=[metrics.RootMeanSquaredError()],\n",
    "                  optimizer=optimizer)\n",
    "    \n",
    "    return model"
   ]
  },
  {
   "cell_type": "markdown",
   "id": "framed-livestock",
   "metadata": {},
   "source": [
    "### Basic Neural Network"
   ]
  },
  {
   "cell_type": "code",
   "execution_count": null,
   "id": "cutting-class",
   "metadata": {
    "scrolled": false
   },
   "outputs": [],
   "source": [
    "#https://towardsdatascience.com/17-rules-of-thumb-for-building-a-neural-network-93356f9930af\n",
    "model=build_reg_nn(layers=[64,32],input_shape=(X_train_s.shape[1],))\n",
    "model.fit(X_train_s,y_train,batch_size=16,epochs=30)\n",
    "\n",
    "y_pred=model.predict(X_test_s)\n",
    "y_pred=y_pred.reshape(y_pred.shape[0],)\n",
    "\n",
    "eval_reg(y_test,y_pred)"
   ]
  },
  {
   "cell_type": "markdown",
   "id": "medical-bradley",
   "metadata": {},
   "source": [
    "### Try increasing the Network Depth (adding 1 hidden layer)"
   ]
  },
  {
   "cell_type": "code",
   "execution_count": null,
   "id": "suburban-prevention",
   "metadata": {},
   "outputs": [],
   "source": [
    "model=build_reg_nn(layers=[64,32,32],input_shape=(X_train_s.shape[1],))\n",
    "model.fit(X_train_s,y_train,batch_size=16,epochs=30)\n",
    "\n",
    "y_pred=model.predict(X_test_s)\n",
    "y_pred=y_pred.reshape(y_pred.shape[0],)\n",
    "\n",
    "eval_reg(y_test,y_pred)"
   ]
  },
  {
   "cell_type": "markdown",
   "id": "married-intersection",
   "metadata": {},
   "source": [
    "### Try Increasing the Network Width"
   ]
  },
  {
   "cell_type": "code",
   "execution_count": null,
   "id": "suited-jamaica",
   "metadata": {},
   "outputs": [],
   "source": [
    "model=build_reg_nn(layers=[128,64],input_shape=(X_train_s.shape[1],),activation=\"tanh\")\n",
    "model.fit(X_train_s,y_train,batch_size=16,epochs=30)\n",
    "\n",
    "y_pred=model.predict(X_test_s)\n",
    "y_pred=y_pred.reshape(y_pred.shape[0],)\n",
    "\n",
    "eval_reg(y_test,y_pred)"
   ]
  },
  {
   "cell_type": "markdown",
   "id": "located-admission",
   "metadata": {},
   "source": [
    "### Use Tanh Activation instead of ReLu"
   ]
  },
  {
   "cell_type": "code",
   "execution_count": null,
   "id": "acoustic-belfast",
   "metadata": {},
   "outputs": [],
   "source": [
    "model=build_reg_nn(layers=[64,32],input_shape=(X_train_s.shape[1],),activation=\"tanh\")\n",
    "model.fit(X_train_s,y_train,batch_size=16,epochs=30)\n",
    "\n",
    "y_pred=model.predict(X_test_s)\n",
    "y_pred=y_pred.reshape(y_pred.shape[0],)\n",
    "\n",
    "eval_reg(y_test,y_pred)"
   ]
  },
  {
   "cell_type": "markdown",
   "id": "dated-wheel",
   "metadata": {},
   "source": [
    "### Increase Epochs"
   ]
  },
  {
   "cell_type": "code",
   "execution_count": null,
   "id": "suited-moldova",
   "metadata": {},
   "outputs": [],
   "source": [
    "model=build_reg_nn(layers=[64,32],input_shape=(X_train_s.shape[1],),activation=\"relu\")\n",
    "model.fit(X_train_s,y_train,batch_size=16,epochs=80)\n",
    "\n",
    "y_pred=model.predict(X_test_s)\n",
    "y_pred=y_pred.reshape(y_pred.shape[0],)\n",
    "\n",
    "eval_reg(y_test,y_pred)"
   ]
  },
  {
   "cell_type": "markdown",
   "id": "acute-spare",
   "metadata": {},
   "source": [
    "When doing even more epochs, training loss seems to decrease further. However, there is not much change in test set performance. This indicates that the network starts to remember entries - which is considered as overfitting."
   ]
  },
  {
   "cell_type": "markdown",
   "id": "divided-subdivision",
   "metadata": {},
   "source": [
    "_____________________________________________________________"
   ]
  },
  {
   "cell_type": "markdown",
   "id": "expressed-stuff",
   "metadata": {},
   "source": [
    "# Ab hier nicht mehr von mir"
   ]
  },
  {
   "cell_type": "code",
   "execution_count": null,
   "id": "golden-correction",
   "metadata": {},
   "outputs": [],
   "source": []
  },
  {
   "cell_type": "code",
   "execution_count": null,
   "id": "thermal-christmas",
   "metadata": {},
   "outputs": [],
   "source": []
  },
  {
   "cell_type": "code",
   "execution_count": null,
   "id": "thousand-working",
   "metadata": {},
   "outputs": [],
   "source": []
  },
  {
   "cell_type": "code",
   "execution_count": null,
   "id": "c35807c7",
   "metadata": {},
   "outputs": [],
   "source": [
    "def get_data(df, temp_resolution, spatial_resolution=False):\n",
    "    \n",
    "    h3_base_resolution = h3.h3_get_resolution(df[\"PU_H3\"].iloc[0]) #get original resolution in data\n",
    "    \n",
    "    #Calculate new H3 based on specified resolution (if it is higher than resolution in dataset)\n",
    "    if h3_base_resolution>spatial_resolution:\n",
    "        print(\"ERROR: Trying to select smaller resolution than available in raw data\")\n",
    "        \n",
    "    if spatial_resolution and spatial_resolution>h3_base_resolution:\n",
    "    '''df[\"PU_H3\"] = df.apply(lambda x: h3.geo_to_h3(x[\"Pickup Centroid Latitude\"],\n",
    "                                                  x['Pickup Centroid Longitude'],\n",
    "                                                  spatial_resolution),axis=1)\n",
    "    df[\"PU_H3\"] = df[\"PU_H3\"].replace(\"0\",np.nan)'''\n",
    "    \n",
    "    \n",
    "    \n",
    "    \n",
    "    \n",
    "    \n",
    "    #\n",
    "    PU_H3_dummies = pd.get_dummies(df.PU_H3)#get dummies for H3 for prediction (alternative: use H3 centroids)\n",
    "    df = pd.concat([df, PU_H3_dummies], axis=1)\n",
    "    \n",
    "    #group by temporal and spacial resolution\n",
    "    df_new = df.groupby(['PU_H3', pd.Grouper(key=\"Trip Start Timestamp\", freq=temp_resolution)]).median()#create df based on temporal and spacial specifications\n",
    "    df_new['count'] = df.groupby(['PU_H3', pd.Grouper(key=\"Trip Start Timestamp\", freq=temp_resolution)]).size()#add demand for each unit of analysis; note that the frame is grouped by two features\n",
    "    df_new.dropna(inplace=True)\n",
    "    print(\"Dataframe after applying temporal and spacial specifications: \")#debug information\n",
    "    print(\"Shape: \",df_new.shape)\n",
    "    print(\"Demand description for temporal/spatial units (e.g. 2017-01-01 09:00, 8826641915fffff): \")\n",
    "    #print(df_new['count'].describe())\n",
    "    \n",
    "    #select target and predictors\n",
    "    y = df_new['count']\n",
    "    X = df_new.drop('count', axis=1)\n",
    "    print('Debug Information')\n",
    "    print('-------------------------------')\n",
    "    print(\"Shape Featureset/Target: \", X.shape, y.shape)\n",
    "    #print(X.iloc[0])\n",
    "    \n",
    "    #split data\n",
    "    x_train, x_test, y_train, y_test = train_test_split(X, y, train_size=0.6, random_state=38)\n",
    "    \n",
    "    #scale data\n",
    "    scaler = StandardScaler()\n",
    "    scaler.fit(x_train) #fit scaler\n",
    "    X_train_scaled = scaler.transform(x_train) #apply to both, train and test set\n",
    "    X_test_scaled = scaler.transform(x_test)\n",
    "    print(\"Shape after scaling trainingset: \", X_train_scaled.shape, y_train.shape)\n",
    "    print(\"Shape after scaling testset: \", X_test_scaled.shape, y_test.shape)\n",
    "    \n",
    "    #select best features\n",
    "    selector = SelectKBest(f_classif, k=40)\n",
    "    selector.fit(X_train_scaled, y_train)\n",
    "    cols = selector.get_support(indices=True)#get selected columns\n",
    "    X_train_new = X_train_scaled[:,cols]#apply to train&test set\n",
    "    X_test_new = X_test_scaled[:,cols]\n",
    "    print(\"X_Train:\", X_train_new.shape, \"X_Test:\", X_test_new.shape)\n",
    "    \n",
    "    return X_train_new, X_test_new, y_train, y_test"
   ]
  },
  {
   "cell_type": "markdown",
   "id": "9c21d8ec",
   "metadata": {},
   "source": [
    "### 4.1.1 SVM Prediction"
   ]
  },
  {
   "cell_type": "markdown",
   "id": "7ae1d6fb",
   "metadata": {},
   "source": [
    "First, we define a training method and to use it for training our models. Consequently, we will start with simple models and improve them for better performance. "
   ]
  },
  {
   "cell_type": "code",
   "execution_count": 19,
   "id": "5b2f67cd",
   "metadata": {},
   "outputs": [],
   "source": [
    "#function to train and evaluate our models later on\n",
    "import sklearn.metrics as metrics\n",
    "import numpy as np\n",
    "\n",
    "def train(model, model_name, x_train, x_test, y_train, y_test, element):\n",
    "    \n",
    "    print()\n",
    "    print(model_name, element) # Printing model name\n",
    "    print('-------------------------------')\n",
    "    model.fit(x_train,y_train) # fitting the defined model\n",
    "    pred = model.predict(x_test) # predicting our data\n",
    "\n",
    "    acc = metrics.r2_score(y_test, pred) #Checking R2_Score\n",
    "    print('R2_Score',acc)\n",
    "\n",
    "    met = np.sqrt(metrics.mean_squared_error(y_test, pred)) #Calculating RMSE\n",
    "    print('RMSE : ', met) \n",
    "\n",
    "    var = (metrics.explained_variance_score(y_test, pred)) #Calculating explained_variance_score\n",
    "    print('Explained_Variance : ', var)\n",
    "\n",
    "    error = (metrics.max_error(y_test, pred)) #Calculating Max_Error\n",
    "    print('Max_Error : ', error)\n",
    "    \n",
    "    err = metrics.mean_absolute_error(y_test, pred) #Calculating mean_absolute_error\n",
    "    print(\"Mean Absolute Error\", err)\n",
    "    print()\n",
    "    print()\n",
    "    \n",
    "    return model_name + '($R^2={:.3f}$)'.format(acc), np.array(y_test), pred"
   ]
  },
  {
   "cell_type": "code",
   "execution_count": 20,
   "id": "de7c177e",
   "metadata": {},
   "outputs": [
    {
     "name": "stdout",
     "output_type": "stream",
     "text": [
      "Dataframe after applying temporal and spacial specifications: \n",
      "Shape:  (4963, 47)\n",
      "Demand description for temporal/spatial units (e.g. 2017-01-01 09:00, 8826641915fffff): \n",
      "Debug Information\n",
      "-------------------------------\n",
      "Shape Featureset/Target:  (4963, 46) (4963,)\n",
      "Shape after scaling trainingset:  (2977, 46) (2977,)\n",
      "Shape after scaling testset:  (1986, 46) (1986,)\n",
      "X_Train: (2977, 40) X_Test: (1986, 40)\n"
     ]
    }
   ],
   "source": [
    "#select data to start with, we use a daily level for our inital modeling \n",
    "\n",
    "X_train_new, X_test_new, y_train, y_test = get_data(df, temp_resolution=\"24H\")"
   ]
  },
  {
   "cell_type": "code",
   "execution_count": 21,
   "id": "09fa65a4",
   "metadata": {},
   "outputs": [
    {
     "name": "stdout",
     "output_type": "stream",
     "text": [
      "\n",
      "SVR 24H\n",
      "-------------------------------\n",
      "R2_Score -0.09931873004111558\n",
      "RMSE :  1572.3762838301266\n",
      "Explained_Variance :  0.06630141234650444\n",
      "Max_Error :  7155.638653015645\n",
      "Mean Absolute Error 674.1502040129623\n",
      "\n",
      "\n"
     ]
    }
   ],
   "source": [
    "#Start without a Kernel\n",
    "results=[] #save results-tuple for visualization\n",
    "model_svr = SVR()\n",
    "results.append(train(model_svr, \"SVR\", X_train_new, X_test_new,\n",
    "                     y_train, y_test, \"24H\" ))"
   ]
  },
  {
   "cell_type": "code",
   "execution_count": 22,
   "id": "f5521efa",
   "metadata": {
    "scrolled": true
   },
   "outputs": [
    {
     "name": "stdout",
     "output_type": "stream",
     "text": [
      "\n",
      "SVR_Linear 24H\n",
      "-------------------------------\n",
      "R2_Score 0.810303693188717\n",
      "RMSE :  653.1668106704607\n",
      "Explained_Variance :  0.8268322309326513\n",
      "Max_Error :  3909.6355806543115\n",
      "Mean Absolute Error 270.7641776055762\n",
      "\n",
      "\n"
     ]
    }
   ],
   "source": [
    "#Make more complex\n",
    "model_svr2 = SVR(kernel='linear')\n",
    "results.append(train(model_svr2, \"SVR_Linear\", X_train_new, X_test_new,\n",
    "                     y_train, y_test, \"24H\"))"
   ]
  },
  {
   "cell_type": "markdown",
   "id": "87fc03cd",
   "metadata": {},
   "source": [
    "Parameters are as follows:\n",
    "**C:** It is the regularization parameter, C, of the error term.\n",
    "**kernel:** It specifies the kernel type to be used in the algorithm. It can be ‘linear’, ‘poly’, ‘rbf’, ‘sigmoid’, ‘precomputed’, or callable. The default value is ‘rbf’.\n",
    "**degree:** It is the degree of the polynomial kernel function (‘poly’) and is ignored by all other kernels. The default value is 3.\n",
    "**gamma:** It is the kernel coefficient for ‘rbf’, ‘poly’, and ‘sigmoid’. If gamma is ‘auto’, then 1/n_features will be used instead."
   ]
  },
  {
   "cell_type": "code",
   "execution_count": 25,
   "id": "810205e4",
   "metadata": {},
   "outputs": [
    {
     "name": "stdout",
     "output_type": "stream",
     "text": [
      "{'C': 100, 'degree': 1, 'gamma': 1e-07, 'kernel': 'linear'}\n",
      "0.9092864736516538\n"
     ]
    }
   ],
   "source": [
    "#Tune Hyperparams\n",
    "from sklearn.model_selection import GridSearchCV\n",
    "\n",
    "param_grid = { 'C':[0.1,1,100,1000],'kernel':['poly','linear'],\n",
    "              'degree':[1,2,3,4,5,6],'gamma': [1e-7, 1e-4]}\n",
    "grid = GridSearchCV(SVR(),param_grid)\n",
    "grid.fit(X_train_new,y_train)#loop through predefined number of hyperparameters\n",
    "\n",
    "print(grid.best_params_)\n",
    "print(grid.score(X_test_new,y_test))"
   ]
  },
  {
   "cell_type": "code",
   "execution_count": 30,
   "id": "f3b7ab09",
   "metadata": {},
   "outputs": [
    {
     "name": "stdout",
     "output_type": "stream",
     "text": [
      "\n",
      "SVR_Linear 24H\n",
      "-------------------------------\n",
      "R2_Score 0.9092864736516538\n",
      "RMSE :  451.67982848271794\n",
      "Explained_Variance :  0.909699169899579\n",
      "Max_Error :  2983.1924320871794\n",
      "Mean Absolute Error 186.71099375708434\n",
      "\n",
      "\n"
     ]
    }
   ],
   "source": [
    "#Run Model with tuned hyperparams\n",
    "model_svr3 = SVR(kernel='linear', C=100)\n",
    "results.append(train(model_svr3, \"SVR_Linear\", X_train_new, X_test_new,\n",
    "                     y_train, y_test, \"24H\"))"
   ]
  },
  {
   "cell_type": "markdown",
   "id": "eec4fbad",
   "metadata": {},
   "source": [
    "### 4.1.2 Model Evaluation (Visually)"
   ]
  },
  {
   "cell_type": "markdown",
   "id": "3aafa56a",
   "metadata": {},
   "source": [
    "In this section, we will examine the performance of our models more closely. For this, we will look at the visual characteristics of our predictions."
   ]
  },
  {
   "cell_type": "code",
   "execution_count": null,
   "id": "5cbd28b9",
   "metadata": {},
   "outputs": [],
   "source": [
    "# Bessere Visualisierung einbauen"
   ]
  },
  {
   "cell_type": "code",
   "execution_count": null,
   "id": "28b5c390",
   "metadata": {},
   "outputs": [],
   "source": [
    "#Create a plot comparing multiple learners\n",
    "def plot(results):\n",
    "    # Using subplots to display the results on the same X axis\n",
    "    fig, plts = plt.subplots(nrows=len(results), figsize=(8, 8))\n",
    "    fig.canvas.set_window_title('Predicting Chicago')\n",
    "\n",
    "    # Show each element in the plots returned from plt.subplots()\n",
    "    for subplot, (title, y, y_pred) in zip(plts, results):\n",
    "        # Configure each subplot to have no tick marks\n",
    "        # (these are meaningless for the sample dataset)\n",
    "        subplot.set_xticklabels(())\n",
    "        subplot.set_yticklabels(())\n",
    "\n",
    "        # Label the vertical axis\n",
    "        subplot.set_ylabel('Taxi Demand')\n",
    "        subplot.set_xlabel('Time')\n",
    "\n",
    "        # Set the title for the subplot\n",
    "        subplot.set_title(title)\n",
    "\n",
    "        # Plot the actual data and the prediction\n",
    "        subplot.plot(y, 'b', label='actual')\n",
    "        subplot.plot(y_pred, 'r', label='predicted')\n",
    "        \n",
    "        # Shade the area between the predicted and the actual values\n",
    "        subplot.fill_between(\n",
    "            # Generate X values [0, 1, 2, ..., len(y)-2, len(y)-1]\n",
    "            np.arange(0, len(y), 1),\n",
    "            y,\n",
    "            y_pred,\n",
    "            color='r',\n",
    "            alpha=0.2\n",
    "        )\n",
    "\n",
    "        # Mark the extent of the training data\n",
    "        subplot.axvline(len(y) // 2, linestyle='--', color='0', alpha=0.2)\n",
    "\n",
    "        # Include a legend in each subplot\n",
    "        subplot.legend()\n",
    "\n",
    "    # Let matplotlib handle the subplot layout\n",
    "    fig.tight_layout()\n",
    "    plt.show()\n",
    "    plt.savefig('plot.png')\n",
    "    plt.close()"
   ]
  },
  {
   "cell_type": "code",
   "execution_count": null,
   "id": "f32a70b4",
   "metadata": {
    "scrolled": true
   },
   "outputs": [],
   "source": [
    "plot(results)"
   ]
  },
  {
   "cell_type": "markdown",
   "id": "df575dce",
   "metadata": {},
   "source": [
    "### 4.1.3 Variation of Temporal and Spatial Resolution"
   ]
  },
  {
   "cell_type": "markdown",
   "id": "63f9c796",
   "metadata": {},
   "source": [
    "In this section, we aim to explore the performance of our best model based on a variation of termporal and spatial resolutions."
   ]
  },
  {
   "cell_type": "code",
   "execution_count": null,
   "id": "0597fc71",
   "metadata": {},
   "outputs": [],
   "source": [
    "#TODO: Add Spatial Resolution\n",
    "#77community areas\n",
    "#866 census tracts (population between 0 - 10000)\n",
    "#resolution 0-15, with 0 beeing the highest"
   ]
  },
  {
   "cell_type": "code",
   "execution_count": null,
   "id": "2c657def",
   "metadata": {
    "scrolled": true
   },
   "outputs": [],
   "source": [
    "#generate datasets - temporal dimension\n",
    "temporal_resolution_levels = ['24H', '6H', '2H', '1H']\n",
    "\n",
    "results = []\n",
    "\n",
    "for element in temporal_resolution_levels:\n",
    "    model = SVR(kernel='linear')\n",
    "    X_train_new, X_test_new, y_train, y_test = get_data(df, element)\n",
    "    results.append(train(model, \"SVR_Linear\", X_train_new, X_test_new,\n",
    "                         y_train, y_test, element))\n",
    "\n",
    "end = timer()\n",
    "print()\n",
    "print(\"Total Notebook Runtime (s): \", end - start)"
   ]
  },
  {
   "cell_type": "code",
   "execution_count": null,
   "id": "balanced-austria",
   "metadata": {},
   "outputs": [],
   "source": []
  },
  {
   "cell_type": "code",
   "execution_count": null,
   "id": "ambient-faculty",
   "metadata": {},
   "outputs": [],
   "source": []
  },
  {
   "cell_type": "code",
   "execution_count": null,
   "id": "alternate-mason",
   "metadata": {},
   "outputs": [],
   "source": []
  },
  {
   "cell_type": "code",
   "execution_count": null,
   "id": "incorporate-hormone",
   "metadata": {},
   "outputs": [],
   "source": []
  },
  {
   "cell_type": "code",
   "execution_count": null,
   "id": "finite-steal",
   "metadata": {},
   "outputs": [],
   "source": []
  },
  {
   "cell_type": "markdown",
   "id": "interesting-prison",
   "metadata": {},
   "source": [
    "# Backup"
   ]
  },
  {
   "cell_type": "code",
   "execution_count": null,
   "id": "hidden-richmond",
   "metadata": {},
   "outputs": [],
   "source": [
    "## Test\n",
    "import contextily as ctx\n",
    "import h3\n",
    "import shapely.geometry\n",
    "import geopandas as gpd\n",
    "\n",
    "\n",
    "test_resolution = 6\n",
    "iloc=51\n",
    "\n",
    "PU_lat_test=df[\"Pickup Centroid Latitude\"].iloc[iloc]\n",
    "print(PU_lat_test)\n",
    "PU_lng_test=df[\"Pickup Centroid Longitude\"].iloc[iloc]\n",
    "print(PU_lng_test)\n",
    "\n",
    "point_test = shapely.geometry.Point(PU_lng_test,PU_lat_test)\n",
    "point_gdf_test = gpd.GeoDataFrame(pd.DataFrame([point_test],index=[0],columns=[\"geometry\"]))\n",
    "\n",
    "\n",
    "h3_test = h3.geo_to_h3(PU_lat_test,PU_lng_test,test_resolution)\n",
    "print(h3_test)\n",
    "\n",
    "polygon_test = {\"geometry\":shapely.geometry.Polygon(h3.h3_to_geo_boundary(h3_test,geo_json=True))}\n",
    "geo_df_test = gpd.GeoDataFrame(pd.DataFrame(polygon_test,index=[0]))\n",
    "\n",
    "fig,ax=plt.subplots(figsize=(8,8))\n",
    "geo_df_test.plot(ax=ax,alpha=0.1)\n",
    "point_gdf_test.plot(ax=ax,alpha=0.8,color=\"red\")\n",
    "ctx.add_basemap(ax=ax,crs=4326,source='https://a.tile.openstreetmap.fr/hot/{z}/{x}/{y}.png')\n",
    "chicago.plot(ax=ax,alpha=0.01) #das macht nur die skalierung richtig"
   ]
  },
  {
   "cell_type": "code",
   "execution_count": null,
   "id": "distant-blend",
   "metadata": {},
   "outputs": [],
   "source": [
    "weather_df_dummies = weather_df.copy()[[\"date\",\"hour\",\"weather_description\"]]\n",
    "weather_df_dummies = pd.concat([weather_df_dummies,\n",
    "                                pd.get_dummies(weather_df[\"weather_description\"])],\n",
    "                               axis=1)\n",
    "\n",
    "slicer=12\n",
    "weather_df_dummies[\"hour_slice\"] = np.ceil(weather_df_dummies[\"hour\"]/slicer).astype(int)\n",
    "weather_df_dummies = weather_df_dummies.drop(columns=[\"weather_description\",\"hour\"])\n",
    "\n",
    "weather_df_dummies = weather_df_dummies.groupby([\"date\",\"hour_slice\"]).sum()\n",
    "\n",
    "weather_df_dummies[\"sum\"]=weather_df_dummies.sum(axis=1)"
   ]
  }
 ],
 "metadata": {
  "kernelspec": {
   "display_name": "Python 3",
   "language": "python",
   "name": "python3"
  },
  "language_info": {
   "codemirror_mode": {
    "name": "ipython",
    "version": 3
   },
   "file_extension": ".py",
   "mimetype": "text/x-python",
   "name": "python",
   "nbconvert_exporter": "python",
   "pygments_lexer": "ipython3",
   "version": "3.8.6"
  }
 },
 "nbformat": 4,
 "nbformat_minor": 5
}
