{
 "cells": [
  {
   "cell_type": "code",
   "execution_count": 9,
   "id": "incorporate-princeton",
   "metadata": {},
   "outputs": [],
   "source": [
    "def hex_to_geoboundary(value):\n",
    "    if isinstance(value,str):\n",
    "        return shapely.geometry.Polygon(h3.h3_to_geo_boundary(value, True))\n",
    "    else:\n",
    "        return np.nan"
   ]
  },
  {
   "cell_type": "markdown",
   "id": "material-delhi",
   "metadata": {},
   "source": [
    "# Descriptive Analysis"
   ]
  },
  {
   "cell_type": "code",
   "execution_count": 10,
   "id": "intensive-sleeve",
   "metadata": {},
   "outputs": [],
   "source": [
    "import pandas as pd\n",
    "import numpy as np\n",
    "import matplotlib.pyplot as plt\n",
    "import geopandas as gpd\n",
    "import shapely\n",
    "from shapely import wkt\n",
    "import h3\n",
    "from datetime import date\n",
    "import pyarrow.parquet as pq\n",
    "import pyarrow as pa\n",
    "#from fastparquet import write\n",
    "import parquet"
   ]
  },
  {
   "cell_type": "code",
   "execution_count": 22,
   "id": "blocked-yacht",
   "metadata": {},
   "outputs": [],
   "source": [
    "df = pd.read_parquet(\"../data/df_cleaned_18_06_2021.parquet\")\n",
    "df = df.iloc[0:100000]"
   ]
  },
  {
   "cell_type": "code",
   "execution_count": 23,
   "id": "massive-reputation",
   "metadata": {
    "scrolled": true
   },
   "outputs": [
    {
     "data": {
      "text/html": [
       "<div>\n",
       "<style scoped>\n",
       "    .dataframe tbody tr th:only-of-type {\n",
       "        vertical-align: middle;\n",
       "    }\n",
       "\n",
       "    .dataframe tbody tr th {\n",
       "        vertical-align: top;\n",
       "    }\n",
       "\n",
       "    .dataframe thead th {\n",
       "        text-align: right;\n",
       "    }\n",
       "</style>\n",
       "<table border=\"1\" class=\"dataframe\">\n",
       "  <thead>\n",
       "    <tr style=\"text-align: right;\">\n",
       "      <th></th>\n",
       "      <th>Trip ID</th>\n",
       "      <th>Taxi ID</th>\n",
       "      <th>Trip Start Timestamp</th>\n",
       "      <th>Trip End Timestamp</th>\n",
       "      <th>Trip Seconds</th>\n",
       "      <th>Trip Miles</th>\n",
       "      <th>Pickup Census Tract</th>\n",
       "      <th>Dropoff Census Tract</th>\n",
       "      <th>Pickup Community Area</th>\n",
       "      <th>Dropoff Community Area</th>\n",
       "      <th>...</th>\n",
       "      <th>PU_MONTH_NAME</th>\n",
       "      <th>PU_WEEKDAY_NAME</th>\n",
       "      <th>PU_YEAR</th>\n",
       "      <th>PU_MONTH</th>\n",
       "      <th>PU_WEEKDAY</th>\n",
       "      <th>PU_HOUR</th>\n",
       "      <th>PU_HOUR_OF_WEEK</th>\n",
       "      <th>PU_FOUR_HOURLY</th>\n",
       "      <th>PU_Centroid</th>\n",
       "      <th>DO_Centroid</th>\n",
       "    </tr>\n",
       "  </thead>\n",
       "  <tbody>\n",
       "    <tr>\n",
       "      <th>10019694</th>\n",
       "      <td>0186acc0c8d50828e6dc5c9072ace58101e3e1b1</td>\n",
       "      <td>9a38858dc2ace73a20f89a976154131a733daf1f11e8d6...</td>\n",
       "      <td>2017-05-20 23:45:00</td>\n",
       "      <td>2017-05-20 23:45:00</td>\n",
       "      <td>360.0</td>\n",
       "      <td>1.30</td>\n",
       "      <td>1.703106e+10</td>\n",
       "      <td>1.703107e+10</td>\n",
       "      <td>6.0</td>\n",
       "      <td>7.0</td>\n",
       "      <td>...</td>\n",
       "      <td>May</td>\n",
       "      <td>Saturday</td>\n",
       "      <td>2017</td>\n",
       "      <td>5</td>\n",
       "      <td>5</td>\n",
       "      <td>24</td>\n",
       "      <td>144</td>\n",
       "      <td>5/5</td>\n",
       "      <td>POINT (41.93624 41.93624)</td>\n",
       "      <td>POINT (41.92185 41.92185)</td>\n",
       "    </tr>\n",
       "    <tr>\n",
       "      <th>7792802</th>\n",
       "      <td>7d0830d9dbbd03a9e1b5d1d99cd41d99d7b8fb90</td>\n",
       "      <td>b4d59da1d7b8c002094752251906d9a3bcc6c7ea71a15f...</td>\n",
       "      <td>2017-04-21 22:15:00</td>\n",
       "      <td>2017-04-21 22:15:00</td>\n",
       "      <td>300.0</td>\n",
       "      <td>0.40</td>\n",
       "      <td>1.703108e+10</td>\n",
       "      <td>1.703108e+10</td>\n",
       "      <td>8.0</td>\n",
       "      <td>8.0</td>\n",
       "      <td>...</td>\n",
       "      <td>April</td>\n",
       "      <td>Friday</td>\n",
       "      <td>2017</td>\n",
       "      <td>4</td>\n",
       "      <td>4</td>\n",
       "      <td>23</td>\n",
       "      <td>119</td>\n",
       "      <td>5/5</td>\n",
       "      <td>POINT (41.90950 41.90950)</td>\n",
       "      <td>POINT (41.90749 41.90749)</td>\n",
       "    </tr>\n",
       "    <tr>\n",
       "      <th>7493958</th>\n",
       "      <td>171ea5e4956fe55a58f9ec3be65238af8b79c4c2</td>\n",
       "      <td>38c32bfda2f77c2a57f33a9e3fcf7edb8e996f59bc2254...</td>\n",
       "      <td>2017-04-18 10:30:00</td>\n",
       "      <td>2017-04-18 10:45:00</td>\n",
       "      <td>379.0</td>\n",
       "      <td>1.00</td>\n",
       "      <td>1.703184e+10</td>\n",
       "      <td>1.703128e+10</td>\n",
       "      <td>32.0</td>\n",
       "      <td>28.0</td>\n",
       "      <td>...</td>\n",
       "      <td>April</td>\n",
       "      <td>Tuesday</td>\n",
       "      <td>2017</td>\n",
       "      <td>4</td>\n",
       "      <td>1</td>\n",
       "      <td>11</td>\n",
       "      <td>35</td>\n",
       "      <td>3/5</td>\n",
       "      <td>POINT (41.88099 41.88099)</td>\n",
       "      <td>POINT (41.88530 41.88530)</td>\n",
       "    </tr>\n",
       "    <tr>\n",
       "      <th>5984763</th>\n",
       "      <td>a6da0037deae54685ba3a1a559ae6a33b9028bd9</td>\n",
       "      <td>e2c349c7cbb608d552aa0b5814031943f13641ef9e50d8...</td>\n",
       "      <td>2017-03-28 16:15:00</td>\n",
       "      <td>2017-03-28 16:15:00</td>\n",
       "      <td>317.0</td>\n",
       "      <td>0.96</td>\n",
       "      <td>1.703108e+10</td>\n",
       "      <td>1.703108e+10</td>\n",
       "      <td>8.0</td>\n",
       "      <td>8.0</td>\n",
       "      <td>...</td>\n",
       "      <td>March</td>\n",
       "      <td>Tuesday</td>\n",
       "      <td>2017</td>\n",
       "      <td>3</td>\n",
       "      <td>1</td>\n",
       "      <td>17</td>\n",
       "      <td>41</td>\n",
       "      <td>4/5</td>\n",
       "      <td>POINT (41.89197 41.89197)</td>\n",
       "      <td>POINT (41.89503 41.89503)</td>\n",
       "    </tr>\n",
       "    <tr>\n",
       "      <th>4498023</th>\n",
       "      <td>58bc23a32b790e568d3c50bc38e5dd473cbc9fcf</td>\n",
       "      <td>cbdd490649df25aa771979bed8930b199d27a990ccdb42...</td>\n",
       "      <td>2017-03-09 14:30:00</td>\n",
       "      <td>2017-03-09 14:30:00</td>\n",
       "      <td>360.0</td>\n",
       "      <td>1.00</td>\n",
       "      <td>1.703128e+10</td>\n",
       "      <td>1.703184e+10</td>\n",
       "      <td>28.0</td>\n",
       "      <td>32.0</td>\n",
       "      <td>...</td>\n",
       "      <td>March</td>\n",
       "      <td>Thursday</td>\n",
       "      <td>2017</td>\n",
       "      <td>3</td>\n",
       "      <td>3</td>\n",
       "      <td>15</td>\n",
       "      <td>87</td>\n",
       "      <td>3/5</td>\n",
       "      <td>POINT (41.88530 41.88530)</td>\n",
       "      <td>POINT (41.88099 41.88099)</td>\n",
       "    </tr>\n",
       "  </tbody>\n",
       "</table>\n",
       "<p>5 rows × 35 columns</p>\n",
       "</div>"
      ],
      "text/plain": [
       "                                           Trip ID  \\\n",
       "10019694  0186acc0c8d50828e6dc5c9072ace58101e3e1b1   \n",
       "7792802   7d0830d9dbbd03a9e1b5d1d99cd41d99d7b8fb90   \n",
       "7493958   171ea5e4956fe55a58f9ec3be65238af8b79c4c2   \n",
       "5984763   a6da0037deae54685ba3a1a559ae6a33b9028bd9   \n",
       "4498023   58bc23a32b790e568d3c50bc38e5dd473cbc9fcf   \n",
       "\n",
       "                                                    Taxi ID  \\\n",
       "10019694  9a38858dc2ace73a20f89a976154131a733daf1f11e8d6...   \n",
       "7792802   b4d59da1d7b8c002094752251906d9a3bcc6c7ea71a15f...   \n",
       "7493958   38c32bfda2f77c2a57f33a9e3fcf7edb8e996f59bc2254...   \n",
       "5984763   e2c349c7cbb608d552aa0b5814031943f13641ef9e50d8...   \n",
       "4498023   cbdd490649df25aa771979bed8930b199d27a990ccdb42...   \n",
       "\n",
       "         Trip Start Timestamp  Trip End Timestamp  Trip Seconds  Trip Miles  \\\n",
       "10019694  2017-05-20 23:45:00 2017-05-20 23:45:00         360.0        1.30   \n",
       "7792802   2017-04-21 22:15:00 2017-04-21 22:15:00         300.0        0.40   \n",
       "7493958   2017-04-18 10:30:00 2017-04-18 10:45:00         379.0        1.00   \n",
       "5984763   2017-03-28 16:15:00 2017-03-28 16:15:00         317.0        0.96   \n",
       "4498023   2017-03-09 14:30:00 2017-03-09 14:30:00         360.0        1.00   \n",
       "\n",
       "          Pickup Census Tract  Dropoff Census Tract  Pickup Community Area  \\\n",
       "10019694         1.703106e+10          1.703107e+10                    6.0   \n",
       "7792802          1.703108e+10          1.703108e+10                    8.0   \n",
       "7493958          1.703184e+10          1.703128e+10                   32.0   \n",
       "5984763          1.703108e+10          1.703108e+10                    8.0   \n",
       "4498023          1.703128e+10          1.703184e+10                   28.0   \n",
       "\n",
       "          Dropoff Community Area  ...  PU_MONTH_NAME  PU_WEEKDAY_NAME  \\\n",
       "10019694                     7.0  ...            May         Saturday   \n",
       "7792802                      8.0  ...          April           Friday   \n",
       "7493958                     28.0  ...          April          Tuesday   \n",
       "5984763                      8.0  ...          March          Tuesday   \n",
       "4498023                     32.0  ...          March         Thursday   \n",
       "\n",
       "          PU_YEAR  PU_MONTH  PU_WEEKDAY PU_HOUR PU_HOUR_OF_WEEK  \\\n",
       "10019694     2017         5           5      24             144   \n",
       "7792802      2017         4           4      23             119   \n",
       "7493958      2017         4           1      11              35   \n",
       "5984763      2017         3           1      17              41   \n",
       "4498023      2017         3           3      15              87   \n",
       "\n",
       "          PU_FOUR_HOURLY                PU_Centroid                DO_Centroid  \n",
       "10019694             5/5  POINT (41.93624 41.93624)  POINT (41.92185 41.92185)  \n",
       "7792802              5/5  POINT (41.90950 41.90950)  POINT (41.90749 41.90749)  \n",
       "7493958              3/5  POINT (41.88099 41.88099)  POINT (41.88530 41.88530)  \n",
       "5984763              4/5  POINT (41.89197 41.89197)  POINT (41.89503 41.89503)  \n",
       "4498023              3/5  POINT (41.88530 41.88530)  POINT (41.88099 41.88099)  \n",
       "\n",
       "[5 rows x 35 columns]"
      ]
     },
     "execution_count": 23,
     "metadata": {},
     "output_type": "execute_result"
    }
   ],
   "source": [
    "df[\"PU_Centroid\"] = gpd.points_from_xy(df[\"Pickup Centroid Latitude\"], df[\"Pickup Centroid Latitude\"])\n",
    "df[\"DO_Centroid\"] = gpd.points_from_xy(df[\"Dropoff Centroid Latitude\"], df[\"Dropoff Centroid Latitude\"])                                                   \n",
    "#df = df.drop(columns = [\"Pickup Centroid Latitude\",\"Pickup Centroid Longitude\",\"Dropoff Centroid Latitude\",\"Dropoff Centroid Longitude\"])\n",
    "df[\"Trip Start Timestamp\"] = pd.to_datetime(df[\"Trip Start Timestamp\"],format = '%m/%d/%Y %I:%M:%S %p')\n",
    "df[\"Trip End Timestamp\"] = pd.to_datetime(df[\"Trip End Timestamp\"],format = '%m/%d/%Y %I:%M:%S %p')\n",
    "df.head()"
   ]
  },
  {
   "cell_type": "code",
   "execution_count": 26,
   "id": "unusual-retrieval",
   "metadata": {},
   "outputs": [
    {
     "data": {
      "text/plain": [
       "Index(['Trip ID', 'Taxi ID', 'Trip Start Timestamp', 'Trip End Timestamp',\n",
       "       'Trip Seconds', 'Trip Miles', 'Pickup Census Tract',\n",
       "       'Dropoff Census Tract', 'Pickup Community Area',\n",
       "       'Dropoff Community Area', 'Fare', 'Tips', 'Tolls', 'Extras',\n",
       "       'Trip Total', 'Payment Type', 'Company', 'Pickup Centroid Latitude',\n",
       "       'Pickup Centroid Longitude', 'Pickup Centroid Location',\n",
       "       'Dropoff Centroid Latitude', 'Dropoff Centroid Longitude',\n",
       "       'Dropoff Centroid  Location', 'PU_H3', 'DO_H3', 'PU_MONTH_NAME',\n",
       "       'PU_WEEKDAY_NAME', 'PU_YEAR', 'PU_MONTH', 'PU_WEEKDAY', 'PU_HOUR',\n",
       "       'PU_HOUR_OF_WEEK', 'PU_FOUR_HOURLY', 'PU_Centroid', 'DO_Centroid'],\n",
       "      dtype='object')"
      ]
     },
     "execution_count": 26,
     "metadata": {},
     "output_type": "execute_result"
    }
   ],
   "source": [
    "df.columns"
   ]
  },
  {
   "cell_type": "code",
   "execution_count": null,
   "id": "veterinary-myrtle",
   "metadata": {},
   "outputs": [],
   "source": [
    "df.head()"
   ]
  },
  {
   "cell_type": "code",
   "execution_count": null,
   "id": "blind-tribune",
   "metadata": {},
   "outputs": [],
   "source": [
    "df.describe()"
   ]
  },
  {
   "cell_type": "code",
   "execution_count": null,
   "id": "hollywood-backing",
   "metadata": {},
   "outputs": [],
   "source": [
    "df.info()"
   ]
  },
  {
   "cell_type": "code",
   "execution_count": null,
   "id": "sunset-smart",
   "metadata": {},
   "outputs": [],
   "source": [
    "df.max()"
   ]
  },
  {
   "cell_type": "markdown",
   "id": "caroline-smith",
   "metadata": {},
   "source": [
    "## Descriptive Analysis - Weather"
   ]
  },
  {
   "cell_type": "code",
   "execution_count": null,
   "id": "optimum-mainstream",
   "metadata": {},
   "outputs": [],
   "source": [
    "fields = ['datetime', 'Chicago']\n",
    "\n",
    "\n",
    "temp_chicago1 = pd.read_csv('temperature.csv', skipinitialspace=True, usecols=fields)\n",
    "temp_chicago = temp_chicago1.rename(columns={'Chicago': 'Temperature'})\n",
    "temp_chi = temp_chicago[(temp_chicago[\"datetime\"]>='2017-01-01')& (temp_chicago[\"datetime\"]<='2017-12-31')]\n",
    "temp_chi"
   ]
  },
  {
   "cell_type": "code",
   "execution_count": null,
   "id": "jewish-evidence",
   "metadata": {},
   "outputs": [],
   "source": [
    "fields = ['datetime', 'Chicago']\n",
    "\n",
    "\n",
    "hum_chicago1 = pd.read_csv('humidity.csv', skipinitialspace=True, usecols=fields)\n",
    "hum_chicago = hum_chicago1.rename(columns={'Chicago': 'Humidity'})\n",
    "hum_chi = hum_chicago[(hum_chicago[\"datetime\"]>='2017-01-01')& (hum_chicago[\"datetime\"]<='2017-12-31')]\n",
    "hum_chi"
   ]
  },
  {
   "cell_type": "code",
   "execution_count": null,
   "id": "metric-milton",
   "metadata": {},
   "outputs": [],
   "source": [
    "fields = ['datetime', 'Chicago']\n",
    "\n",
    "\n",
    "wind_chicago1 = pd.read_csv('wind_speed.csv', skipinitialspace=True, usecols=fields)\n",
    "wind_chicago = wind_chicago1.rename(columns={'Chicago': 'Wind_Speed'})\n",
    "wind_chi = wind_chicago[(wind_chicago[\"datetime\"]>='2017-01-01')& (wind_chicago[\"datetime\"]<='2017-12-31')]\n",
    "wind_chi"
   ]
  },
  {
   "cell_type": "code",
   "execution_count": null,
   "id": "worldwide-monster",
   "metadata": {},
   "outputs": [],
   "source": [
    "fields = ['datetime', 'Chicago']\n",
    "\n",
    "\n",
    "des_chicago1 = pd.read_csv('weather_description.csv', skipinitialspace=True, usecols=fields)\n",
    "des_chicago = des_chicago1.rename(columns={'Chicago': 'Weather_Description'})\n",
    "des_chi = des_chicago[(des_chicago[\"datetime\"]>='2017-01-01')& (des_chicago[\"datetime\"]<='2017-12-31')]\n",
    "des_chi"
   ]
  },
  {
   "cell_type": "code",
   "execution_count": null,
   "id": "induced-window",
   "metadata": {},
   "outputs": [],
   "source": [
    "weather_hourly = temp_chi.merge(hum_chicago, how='left', on='datetime')\n",
    "weather_hourly1 = weather_hourly.merge(wind_chi, how='left', on='datetime')\n",
    "weather_hourly2 = weather_hourly1.merge(des_chi, how='left', on='datetime')\n",
    "weather_hourly2.head()\n",
    "#https://www.kaggle.com/selfishgene/historical-hourly-weather-data?select=weather_description.csv"
   ]
  },
  {
   "cell_type": "code",
   "execution_count": null,
   "id": "breeding-rally",
   "metadata": {},
   "outputs": [],
   "source": []
  },
  {
   "cell_type": "markdown",
   "id": "traditional-method",
   "metadata": {},
   "source": [
    "## Descriptive Analysis - Temporal (not final)"
   ]
  },
  {
   "cell_type": "code",
   "execution_count": null,
   "id": "classified-placement",
   "metadata": {},
   "outputs": [],
   "source": [
    "df['Date'] = pd.to_datetime(df['Trip Start Timestamp'], format='%m/%d/%Y %I:%M:%S %p')\n",
    "df.index = df.Date\n",
    "df_weekPerYear = pd.Series(df['Date'].resample('1W').count())"
   ]
  },
  {
   "cell_type": "code",
   "execution_count": null,
   "id": "better-fence",
   "metadata": {},
   "outputs": [],
   "source": [
    "df_weekPerYear"
   ]
  },
  {
   "cell_type": "code",
   "execution_count": null,
   "id": "auburn-cooking",
   "metadata": {},
   "outputs": [],
   "source": [
    "import matplotlib.pyplot as plt\n",
    "\n",
    "plt.bar(df_weekPerYear.index,df_weekPerYear)\n",
    "plt.xlabel('Weeks')\n",
    "plt.ylabel('Booking amount')\n",
    "plt.title('Bookings per Week of Year')\n",
    "plt.show()"
   ]
  },
  {
   "cell_type": "code",
   "execution_count": null,
   "id": "endless-punishment",
   "metadata": {},
   "outputs": [],
   "source": [
    "df_monthly = pd.Series(df['Date'].resample('1M').count())\n"
   ]
  },
  {
   "cell_type": "code",
   "execution_count": null,
   "id": "basic-mapping",
   "metadata": {},
   "outputs": [],
   "source": [
    "df['start_month'] = df['Trip Start Timestamp'].dt.month\n",
    "df['end_month'] = df['Trip End Timestamp'].dt.month\n",
    "df['startdtinh'] = df['Trip Start Timestamp'].dt.floor('d')\n",
    "df['enddtinh'] = df['Trip End Timestamp'].dt.floor('d')"
   ]
  },
  {
   "cell_type": "code",
   "execution_count": null,
   "id": "imperial-nurse",
   "metadata": {},
   "outputs": [],
   "source": [
    "df22= df.groupby('start_month')['Trip Seconds']\n",
    "df33= df.groupby('end_month')['Trip Seconds']"
   ]
  },
  {
   "cell_type": "code",
   "execution_count": null,
   "id": "brazilian-enterprise",
   "metadata": {},
   "outputs": [],
   "source": [
    "df22.head()"
   ]
  },
  {
   "cell_type": "code",
   "execution_count": null,
   "id": "periodic-piece",
   "metadata": {},
   "outputs": [],
   "source": [
    "df_monthly"
   ]
  },
  {
   "cell_type": "code",
   "execution_count": null,
   "id": "typical-boston",
   "metadata": {},
   "outputs": [],
   "source": [
    "months =['Jan', 'Feb', 'Mar', 'Apr', 'May', 'Jun', 'Jul', 'Aug', 'Sep', 'Okt', 'Nov' ]\n",
    "plt.bar(months,df_monthly) #Karlsruhe\n",
    "plt.xlabel('Months')\n",
    "plt.ylabel('Bookingamount')\n",
    "plt.title('Bookings per Month')\n",
    "plt.show()"
   ]
  },
  {
   "cell_type": "code",
   "execution_count": null,
   "id": "finished-brazilian",
   "metadata": {},
   "outputs": [],
   "source": [
    "#check this and the method before\n",
    "week = ['Mon', 'Tue', 'Wed', 'Thu', 'Fri', 'Sat', 'Sun']\n",
    "\n",
    "#array that will get filled in in the following\n",
    "df_weekday = []\n",
    "\n",
    "#add weekday to bike_set of Karlsruhe\n",
    "for weekday in range(0,7):\n",
    "    df_weekday.append([weekday,df['Date'].loc[(df['Date'].dt.dayofweek) == weekday].count()])\n",
    "df_weekday = pd.DataFrame(df_weekday)\n",
    "\n"
   ]
  },
  {
   "cell_type": "code",
   "execution_count": null,
   "id": "differential-sequence",
   "metadata": {},
   "outputs": [],
   "source": [
    "df_weekday"
   ]
  },
  {
   "cell_type": "code",
   "execution_count": null,
   "id": "former-bangladesh",
   "metadata": {},
   "outputs": [],
   "source": [
    "# Chart day of week data\n",
    "plt.bar(week,df_weekday[1])\n",
    "\n",
    "# Labeling\n",
    "plt.xlabel('Days')\n",
    "plt.ylabel('Number of Bookings')\n",
    "plt.title('Bike Bookings per Day')\n",
    "plt.show()"
   ]
  },
  {
   "cell_type": "code",
   "execution_count": null,
   "id": "english-defensive",
   "metadata": {},
   "outputs": [],
   "source": [
    "dayhour = []\n",
    "\n",
    "# Determine the amount of hourly trips\n",
    "for hour in range(0,24):\n",
    "    dayhour.append([hour,df['Date'].loc[(df['Date'].dt.hour) == hour].count()])\n",
    "dayhour = pd.DataFrame(dayhour)\n"
   ]
  },
  {
   "cell_type": "code",
   "execution_count": null,
   "id": "preliminary-thomson",
   "metadata": {},
   "outputs": [],
   "source": [
    "# Bar chart the hour of day data and give labels\n",
    "plt.bar(dayhour[0], dayhour[1])\n",
    "plt.xlabel('Hour')\n",
    "plt.ylabel('Amount of Bookings')\n",
    "plt.title('Bike Bookings per Hour of Day')\n",
    "plt.show()"
   ]
  },
  {
   "cell_type": "code",
   "execution_count": null,
   "id": "chemical-cookie",
   "metadata": {
    "scrolled": true
   },
   "outputs": [],
   "source": [
    "# total = []\n",
    "# for i in range(len(dff)):\n",
    "#     n = dff['']\n",
    "#     dates.append(n)\n",
    "\n",
    "dfc =  df[[\"Fare\", \"Tips\",\"Tolls\", \"Extras\"]]\n",
    "\n",
    "avgfare = dff.groupby('start_month')['Fare'].mean()\n",
    "avgtips = dff.groupby('start_month')['Tips'].mean()\n",
    "avgtolls = dff.groupby('start_month')['Tolls'].mean()\n",
    "avgextras = dff.groupby('start_month')['Extras'].mean()\n",
    "months =avgfare.index\n",
    "\n",
    "# totalperc1 = avgfare.merge(avgtips, how='left', on='start_month')\n",
    "# totalperc2 = totalperc1.merge(avgtolls, how='left', on='start_month')\n",
    "# totalperc = totalperc2.merge(avgextras, how='left', on='start_month')\n",
    "\n",
    "\n",
    "Data = {'month': months,\n",
    "        'fare': avgfare,\n",
    "        'tips': avgtips,\n",
    "        'tolls': avgtolls,\n",
    "        'extras': avgextras\n",
    "       }\n",
    "\n",
    "dfcc = pd.DataFrame(Data,columns=['month','fare','tips','tolls','extras'])\n",
    "dfcc\n",
    "#figure size\n",
    "dfcc.plot(\n",
    "    x = 'month',\n",
    "    kind = 'barh',\n",
    "    stacked = True,\n",
    "    title = 'Stacked Bar Graph',\n",
    "    mark_right = True)\n",
    "\n"
   ]
  },
  {
   "cell_type": "markdown",
   "id": "bright-efficiency",
   "metadata": {},
   "source": [
    "## Trip Duration along 1 hour Buckets and 4 hour buckets\n"
   ]
  },
  {
   "cell_type": "code",
   "execution_count": null,
   "id": "joined-mills",
   "metadata": {},
   "outputs": [],
   "source": [
    "avgdura = dff.groupby('start_month')['Trip Seconds'].mean()\n",
    "avgdura\n"
   ]
  },
  {
   "cell_type": "code",
   "execution_count": null,
   "id": "postal-maryland",
   "metadata": {},
   "outputs": [],
   "source": [
    "months =['Jan', 'Feb', 'Mar', 'Apr', 'May', 'Jun', 'Jul', 'Aug', 'Sep', 'Okt', 'Nov' ]\n",
    "plt.bar(months,avgdura) #Karlsruhe\n",
    "plt.xlabel('Months')\n",
    "plt.ylabel('Average Trip Duration')\n",
    "plt.title('Avg Trip Duration per Month')\n",
    "plt.show()"
   ]
  },
  {
   "cell_type": "code",
   "execution_count": null,
   "id": "beautiful-cedar",
   "metadata": {},
   "outputs": [],
   "source": [
    "avgduraday = dff.groupby('startdtinh')['Trip Seconds'].mean()\n",
    "months =['Jan', 'Feb', 'Mar', 'Apr', 'May', 'Jun', 'Jul', 'Aug', 'Sep', 'Okt', 'Nov' ]\n",
    "plt.plot(avgduraday) \n",
    "plt.xlabel('Day')\n",
    "plt.ylabel('Average Trip Duration')\n",
    "plt.title('Avg Trip Duration per Day')\n",
    "plt.show()"
   ]
  },
  {
   "cell_type": "markdown",
   "id": "interior-beast",
   "metadata": {},
   "source": [
    "## Descriptive Analysis - Geographic"
   ]
  },
  {
   "cell_type": "markdown",
   "id": "manufactured-aviation",
   "metadata": {},
   "source": [
    "### H3 Geo Descriptive Analysis\n",
    "Different Hexagonal Sizes"
   ]
  },
  {
   "cell_type": "code",
   "execution_count": null,
   "id": "turned-agriculture",
   "metadata": {},
   "outputs": [],
   "source": [
    "h3_level = 8"
   ]
  },
  {
   "cell_type": "markdown",
   "id": "flexible-finder",
   "metadata": {},
   "source": [
    "### Convert Input Data to chosen h3 level"
   ]
  },
  {
   "cell_type": "code",
   "execution_count": null,
   "id": "dangerous-beast",
   "metadata": {},
   "outputs": [],
   "source": []
  },
  {
   "cell_type": "markdown",
   "id": "split-bikini",
   "metadata": {},
   "source": [
    "### Group to H3 Slices"
   ]
  },
  {
   "cell_type": "code",
   "execution_count": 27,
   "id": "friendly-transcription",
   "metadata": {},
   "outputs": [],
   "source": [
    "def group_h3_slice(df,hour_feature_name,H3_feature_name,slices):\n",
    "    df_grouped = df.copy()\n",
    "    divider = 24/slices\n",
    "    df_grouped[\"hour_slice\"] = np.floor(df_grouped[hour_feature_name] / divider).astype(int)\n",
    "    df_grouped = df_grouped.groupby([\"hour_slice\",H3_feature_name]).agg(count=(H3_feature_name,\"count\"),\n",
    "                                                                       avgduration=(\"Trip Seconds\",\"mean\"))\n",
    "    df_grouped[\"H3\"] = df_grouped.index.get_level_values(1)\n",
    "    df_grouped[\"geometry\"] = df_grouped.apply(lambda x: hex_to_geoboundary(x[\"H3\"]),axis=1)\n",
    "    df_grouped[\"hour_slice\"] = df_grouped.index.get_level_values(0)\n",
    "    return gpd.GeoDataFrame(df_grouped, geometry='geometry')\n",
    "\n",
    "gdf_sliced_pu = group_h3_slice(df,\"PU_HOUR\",\"PU_H3\",3)\n",
    "#gdf_sliced_do = group_h3_slice(df,\"DO_HOUR\",\"DO_H3\",3)"
   ]
  },
  {
   "cell_type": "code",
   "execution_count": 28,
   "id": "coordinated-faith",
   "metadata": {},
   "outputs": [
    {
     "data": {
      "text/html": [
       "<div>\n",
       "<style scoped>\n",
       "    .dataframe tbody tr th:only-of-type {\n",
       "        vertical-align: middle;\n",
       "    }\n",
       "\n",
       "    .dataframe tbody tr th {\n",
       "        vertical-align: top;\n",
       "    }\n",
       "\n",
       "    .dataframe thead th {\n",
       "        text-align: right;\n",
       "    }\n",
       "</style>\n",
       "<table border=\"1\" class=\"dataframe\">\n",
       "  <thead>\n",
       "    <tr style=\"text-align: right;\">\n",
       "      <th></th>\n",
       "      <th></th>\n",
       "      <th>count</th>\n",
       "      <th>avgduration</th>\n",
       "      <th>H3</th>\n",
       "      <th>geometry</th>\n",
       "      <th>hour_slice</th>\n",
       "    </tr>\n",
       "    <tr>\n",
       "      <th>hour_slice</th>\n",
       "      <th>PU_H3</th>\n",
       "      <th></th>\n",
       "      <th></th>\n",
       "      <th></th>\n",
       "      <th></th>\n",
       "      <th></th>\n",
       "    </tr>\n",
       "  </thead>\n",
       "  <tbody>\n",
       "    <tr>\n",
       "      <th rowspan=\"2\" valign=\"top\">2</th>\n",
       "      <th>872c21cd3ffffff</th>\n",
       "      <td>13</td>\n",
       "      <td>971.230769</td>\n",
       "      <td>872c21cd3ffffff</td>\n",
       "      <td>POLYGON ((41.73451 41.75582, 41.73124 41.74346...</td>\n",
       "      <td>2</td>\n",
       "    </tr>\n",
       "    <tr>\n",
       "      <th>872c21cd8ffffff</th>\n",
       "      <td>699</td>\n",
       "      <td>1846.082976</td>\n",
       "      <td>872c21cd8ffffff</td>\n",
       "      <td>POLYGON ((41.77281 41.78725, 41.76955 41.77490...</td>\n",
       "      <td>2</td>\n",
       "    </tr>\n",
       "    <tr>\n",
       "      <th>1</th>\n",
       "      <th>872c21564ffffff</th>\n",
       "      <td>80</td>\n",
       "      <td>947.862500</td>\n",
       "      <td>872c21564ffffff</td>\n",
       "      <td>POLYGON ((41.81114 41.81865, 41.80787 41.80630...</td>\n",
       "      <td>1</td>\n",
       "    </tr>\n",
       "    <tr>\n",
       "      <th>2</th>\n",
       "      <th>872c2118affffff</th>\n",
       "      <td>1103</td>\n",
       "      <td>768.312783</td>\n",
       "      <td>872c2118affffff</td>\n",
       "      <td>POLYGON ((41.91690 41.93399, 41.91361 41.92166...</td>\n",
       "      <td>2</td>\n",
       "    </tr>\n",
       "    <tr>\n",
       "      <th>3</th>\n",
       "      <th>872c21cd8ffffff</th>\n",
       "      <td>56</td>\n",
       "      <td>1280.428571</td>\n",
       "      <td>872c21cd8ffffff</td>\n",
       "      <td>POLYGON ((41.77281 41.78725, 41.76955 41.77490...</td>\n",
       "      <td>3</td>\n",
       "    </tr>\n",
       "    <tr>\n",
       "      <th>1</th>\n",
       "      <th>872c21011ffffff</th>\n",
       "      <td>18</td>\n",
       "      <td>904.111111</td>\n",
       "      <td>872c21011ffffff</td>\n",
       "      <td>POLYGON ((41.99372 41.99651, 41.99041 41.98420...</td>\n",
       "      <td>1</td>\n",
       "    </tr>\n",
       "    <tr>\n",
       "      <th>2</th>\n",
       "      <th>872c2119cffffff</th>\n",
       "      <td>17750</td>\n",
       "      <td>685.759775</td>\n",
       "      <td>872c2119cffffff</td>\n",
       "      <td>POLYGON ((41.87851 41.90268, 41.87523 41.89035...</td>\n",
       "      <td>2</td>\n",
       "    </tr>\n",
       "    <tr>\n",
       "      <th>1</th>\n",
       "      <th>872c21cd2ffffff</th>\n",
       "      <td>5</td>\n",
       "      <td>1762.800000</td>\n",
       "      <td>872c21cd2ffffff</td>\n",
       "      <td>POLYGON ((41.71536 41.74010, 41.71210 41.72773...</td>\n",
       "      <td>1</td>\n",
       "    </tr>\n",
       "    <tr>\n",
       "      <th>2</th>\n",
       "      <th>872c21014ffffff</th>\n",
       "      <td>48</td>\n",
       "      <td>726.666667</td>\n",
       "      <td>872c21014ffffff</td>\n",
       "      <td>POLYGON ((41.94598 41.98658, 41.94269 41.97427...</td>\n",
       "      <td>2</td>\n",
       "    </tr>\n",
       "    <tr>\n",
       "      <th>0</th>\n",
       "      <th>872c21196ffffff</th>\n",
       "      <td>48</td>\n",
       "      <td>1265.604167</td>\n",
       "      <td>872c21196ffffff</td>\n",
       "      <td>POLYGON ((41.82097 41.85567, 41.81769 41.84333...</td>\n",
       "      <td>0</td>\n",
       "    </tr>\n",
       "  </tbody>\n",
       "</table>\n",
       "</div>"
      ],
      "text/plain": [
       "                            count  avgduration               H3  \\\n",
       "hour_slice PU_H3                                                  \n",
       "2          872c21cd3ffffff     13   971.230769  872c21cd3ffffff   \n",
       "           872c21cd8ffffff    699  1846.082976  872c21cd8ffffff   \n",
       "1          872c21564ffffff     80   947.862500  872c21564ffffff   \n",
       "2          872c2118affffff   1103   768.312783  872c2118affffff   \n",
       "3          872c21cd8ffffff     56  1280.428571  872c21cd8ffffff   \n",
       "1          872c21011ffffff     18   904.111111  872c21011ffffff   \n",
       "2          872c2119cffffff  17750   685.759775  872c2119cffffff   \n",
       "1          872c21cd2ffffff      5  1762.800000  872c21cd2ffffff   \n",
       "2          872c21014ffffff     48   726.666667  872c21014ffffff   \n",
       "0          872c21196ffffff     48  1265.604167  872c21196ffffff   \n",
       "\n",
       "                                                                     geometry  \\\n",
       "hour_slice PU_H3                                                                \n",
       "2          872c21cd3ffffff  POLYGON ((41.73451 41.75582, 41.73124 41.74346...   \n",
       "           872c21cd8ffffff  POLYGON ((41.77281 41.78725, 41.76955 41.77490...   \n",
       "1          872c21564ffffff  POLYGON ((41.81114 41.81865, 41.80787 41.80630...   \n",
       "2          872c2118affffff  POLYGON ((41.91690 41.93399, 41.91361 41.92166...   \n",
       "3          872c21cd8ffffff  POLYGON ((41.77281 41.78725, 41.76955 41.77490...   \n",
       "1          872c21011ffffff  POLYGON ((41.99372 41.99651, 41.99041 41.98420...   \n",
       "2          872c2119cffffff  POLYGON ((41.87851 41.90268, 41.87523 41.89035...   \n",
       "1          872c21cd2ffffff  POLYGON ((41.71536 41.74010, 41.71210 41.72773...   \n",
       "2          872c21014ffffff  POLYGON ((41.94598 41.98658, 41.94269 41.97427...   \n",
       "0          872c21196ffffff  POLYGON ((41.82097 41.85567, 41.81769 41.84333...   \n",
       "\n",
       "                            hour_slice  \n",
       "hour_slice PU_H3                        \n",
       "2          872c21cd3ffffff           2  \n",
       "           872c21cd8ffffff           2  \n",
       "1          872c21564ffffff           1  \n",
       "2          872c2118affffff           2  \n",
       "3          872c21cd8ffffff           3  \n",
       "1          872c21011ffffff           1  \n",
       "2          872c2119cffffff           2  \n",
       "1          872c21cd2ffffff           1  \n",
       "2          872c21014ffffff           2  \n",
       "0          872c21196ffffff           0  "
      ]
     },
     "execution_count": 28,
     "metadata": {},
     "output_type": "execute_result"
    }
   ],
   "source": [
    "gdf_sliced_pu.sample(10)"
   ]
  },
  {
   "cell_type": "code",
   "execution_count": null,
   "id": "answering-verification",
   "metadata": {},
   "outputs": [],
   "source": [
    "df_grouped_pu2 = df.groupby(\"PU_PART_OF_DAY\",\"PU_H3\").agg(avgduration=(\"Trip Seconds\",\"mean\"),\n",
    "                                                          count=(\"Trip Total\",\"count\")\n",
    ")\n",
    "df_grouped_pu2"
   ]
  },
  {
   "cell_type": "code",
   "execution_count": null,
   "id": "reduced-preference",
   "metadata": {},
   "outputs": [],
   "source": [
    "df_grouped_pu = df.groupby(\"PU_H3\").agg(avgduration=(\"Trip Seconds\",\"mean\"),\n",
    "                                        avgdistance=(\"Trip Miles\",\"mean\"),\n",
    "                                        avgpay=(\"Trip Total\",\"mean\"),\n",
    "                                        count=(\"Trip Total\",\"count\"),\n",
    "                                        revenue=(\"Trip Total\",\"sum\")\n",
    ")\n",
    "df_grouped_pu"
   ]
  },
  {
   "cell_type": "code",
   "execution_count": null,
   "id": "lesser-pacific",
   "metadata": {},
   "outputs": [],
   "source": [
    "df_pu_grouped2[\"geometry\"] = df_pu_grouped2.apply(lambda x: hex_to_geoboundary(x[\"PU_H3\"]),axis=1)\n",
    "df_pu_grouped2 = gpd.GeoDataFrame(df_pu_grouped2, geometry='geometry')\n",
    "df_pu_grouped2"
   ]
  },
  {
   "cell_type": "code",
   "execution_count": null,
   "id": "homeless-advance",
   "metadata": {
    "scrolled": true
   },
   "outputs": [],
   "source": [
    "dff6 = dff5.rename(columns={'Trip Seconds_y': 'Average_Duration', 'Trip Miles_y': 'Average_Distance', 'Trip Total_y': 'Average_Payment' })\n",
    "dff6"
   ]
  },
  {
   "cell_type": "code",
   "execution_count": null,
   "id": "graduate-bolivia",
   "metadata": {},
   "outputs": [],
   "source": []
  },
  {
   "cell_type": "markdown",
   "id": "humanitarian-delta",
   "metadata": {},
   "source": [
    "## Write results in parquet file "
   ]
  },
  {
   "cell_type": "code",
   "execution_count": null,
   "id": "opposed-going",
   "metadata": {},
   "outputs": [],
   "source": []
  },
  {
   "cell_type": "code",
   "execution_count": null,
   "id": "ecological-renaissance",
   "metadata": {},
   "outputs": [],
   "source": []
  }
 ],
 "metadata": {
  "kernelspec": {
   "display_name": "Python 3",
   "language": "python",
   "name": "python3"
  },
  "language_info": {
   "codemirror_mode": {
    "name": "ipython",
    "version": 3
   },
   "file_extension": ".py",
   "mimetype": "text/x-python",
   "name": "python",
   "nbconvert_exporter": "python",
   "pygments_lexer": "ipython3",
   "version": "3.8.6"
  }
 },
 "nbformat": 4,
 "nbformat_minor": 5
}
