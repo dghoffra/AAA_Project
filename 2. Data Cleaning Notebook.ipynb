{
 "cells": [
  {
   "cell_type": "code",
   "execution_count": 258,
   "id": "voluntary-walter",
   "metadata": {},
   "outputs": [],
   "source": [
    "#Imports\n",
    "import pandas as pd\n",
    "import numpy as np\n",
    "import glob as glob\n",
    "import datetime"
   ]
  },
  {
   "cell_type": "code",
   "execution_count": 259,
   "id": "bulgarian-plymouth",
   "metadata": {},
   "outputs": [],
   "source": [
    "#Reading taxi files\n",
    "path = r'sampled_data/df_trips_sample_nullsdropped.parquet'\n",
    "files = glob.glob(path)\n",
    "files.sort()\n",
    "df_trips = pd.concat([pd.read_parquet(fp) for fp in files])"
   ]
  },
  {
   "cell_type": "code",
   "execution_count": 260,
   "id": "cathedral-daisy",
   "metadata": {},
   "outputs": [
    {
     "data": {
      "text/html": [
       "<div>\n",
       "<style scoped>\n",
       "    .dataframe tbody tr th:only-of-type {\n",
       "        vertical-align: middle;\n",
       "    }\n",
       "\n",
       "    .dataframe tbody tr th {\n",
       "        vertical-align: top;\n",
       "    }\n",
       "\n",
       "    .dataframe thead th {\n",
       "        text-align: right;\n",
       "    }\n",
       "</style>\n",
       "<table border=\"1\" class=\"dataframe\">\n",
       "  <thead>\n",
       "    <tr style=\"text-align: right;\">\n",
       "      <th></th>\n",
       "      <th>Trip ID</th>\n",
       "      <th>Taxi ID</th>\n",
       "      <th>Trip Start Timestamp</th>\n",
       "      <th>Trip End Timestamp</th>\n",
       "      <th>Trip Seconds</th>\n",
       "      <th>Trip Miles</th>\n",
       "      <th>Pickup Census Tract</th>\n",
       "      <th>Dropoff Census Tract</th>\n",
       "      <th>Pickup Community Area</th>\n",
       "      <th>Dropoff Community Area</th>\n",
       "      <th>...</th>\n",
       "      <th>Extras</th>\n",
       "      <th>Trip Total</th>\n",
       "      <th>Payment Type</th>\n",
       "      <th>Company</th>\n",
       "      <th>Pickup Centroid Latitude</th>\n",
       "      <th>Pickup Centroid Longitude</th>\n",
       "      <th>Pickup Centroid Location</th>\n",
       "      <th>Dropoff Centroid Latitude</th>\n",
       "      <th>Dropoff Centroid Longitude</th>\n",
       "      <th>Dropoff Centroid  Location</th>\n",
       "    </tr>\n",
       "  </thead>\n",
       "  <tbody>\n",
       "    <tr>\n",
       "      <th>15971142</th>\n",
       "      <td>65f93c35817734e3299be976d4f3b376bdd91416</td>\n",
       "      <td>561fbb8af15689fe33fb11b96905cfb95d11ac44700c1a...</td>\n",
       "      <td>08/12/2017 06:45:00 PM</td>\n",
       "      <td>08/12/2017 07:15:00 PM</td>\n",
       "      <td>1965.0</td>\n",
       "      <td>18.40</td>\n",
       "      <td>1.703198e+10</td>\n",
       "      <td>1.703108e+10</td>\n",
       "      <td>76.0</td>\n",
       "      <td>8.0</td>\n",
       "      <td>...</td>\n",
       "      <td>6.0</td>\n",
       "      <td>52.00</td>\n",
       "      <td>Cash</td>\n",
       "      <td>Chicago Carriage Cab Corp</td>\n",
       "      <td>41.979071</td>\n",
       "      <td>-87.903040</td>\n",
       "      <td>POINT (-87.9030396611 41.9790708201)</td>\n",
       "      <td>41.892508</td>\n",
       "      <td>-87.626215</td>\n",
       "      <td>POINT (-87.6262149064 41.8925077809)</td>\n",
       "    </tr>\n",
       "    <tr>\n",
       "      <th>167943</th>\n",
       "      <td>7a592eba4fe74de911db4b33878eab697730ddc2</td>\n",
       "      <td>1025e3aec9a251a432a6bca2bbe7a95bc032b369fd5be1...</td>\n",
       "      <td>01/04/2017 12:30:00 PM</td>\n",
       "      <td>01/04/2017 12:45:00 PM</td>\n",
       "      <td>610.0</td>\n",
       "      <td>1.55</td>\n",
       "      <td>1.703108e+10</td>\n",
       "      <td>1.703184e+10</td>\n",
       "      <td>8.0</td>\n",
       "      <td>8.0</td>\n",
       "      <td>...</td>\n",
       "      <td>0.0</td>\n",
       "      <td>8.00</td>\n",
       "      <td>Cash</td>\n",
       "      <td>Chicago Carriage Cab Corp</td>\n",
       "      <td>41.890922</td>\n",
       "      <td>-87.618868</td>\n",
       "      <td>POINT (-87.6188683546 41.8909220259)</td>\n",
       "      <td>41.904935</td>\n",
       "      <td>-87.649907</td>\n",
       "      <td>POINT (-87.6499072264 41.9049353016)</td>\n",
       "    </tr>\n",
       "    <tr>\n",
       "      <th>14807345</th>\n",
       "      <td>25e63440cd1d3596401101ffde933ec7318acfe3</td>\n",
       "      <td>e81aeae39261dd72f248f92204fd28e77269f6bcf5d5c8...</td>\n",
       "      <td>07/26/2017 07:45:00 PM</td>\n",
       "      <td>07/26/2017 07:45:00 PM</td>\n",
       "      <td>298.0</td>\n",
       "      <td>0.99</td>\n",
       "      <td>1.703184e+10</td>\n",
       "      <td>1.703108e+10</td>\n",
       "      <td>32.0</td>\n",
       "      <td>8.0</td>\n",
       "      <td>...</td>\n",
       "      <td>1.0</td>\n",
       "      <td>11.50</td>\n",
       "      <td>Credit Card</td>\n",
       "      <td>City Service</td>\n",
       "      <td>41.880994</td>\n",
       "      <td>-87.632746</td>\n",
       "      <td>POINT (-87.6327464887 41.8809944707)</td>\n",
       "      <td>41.892042</td>\n",
       "      <td>-87.631864</td>\n",
       "      <td>POINT (-87.6318639497 41.8920421365)</td>\n",
       "    </tr>\n",
       "    <tr>\n",
       "      <th>3157769</th>\n",
       "      <td>a578a81d70af56cbbe627df7acc970cfd955333e</td>\n",
       "      <td>bb870d48c69eb329b88cb373037a1ee2d1c43f2d67a4b5...</td>\n",
       "      <td>02/18/2017 02:00:00 PM</td>\n",
       "      <td>02/18/2017 02:15:00 PM</td>\n",
       "      <td>805.0</td>\n",
       "      <td>1.46</td>\n",
       "      <td>1.703132e+10</td>\n",
       "      <td>1.703108e+10</td>\n",
       "      <td>32.0</td>\n",
       "      <td>8.0</td>\n",
       "      <td>...</td>\n",
       "      <td>1.0</td>\n",
       "      <td>9.75</td>\n",
       "      <td>Cash</td>\n",
       "      <td>Nova Taxi Affiliation Llc</td>\n",
       "      <td>41.877406</td>\n",
       "      <td>-87.621972</td>\n",
       "      <td>POINT (-87.6219716519 41.8774061234)</td>\n",
       "      <td>41.898332</td>\n",
       "      <td>-87.620763</td>\n",
       "      <td>POINT (-87.6207628651 41.8983317935)</td>\n",
       "    </tr>\n",
       "    <tr>\n",
       "      <th>24803407</th>\n",
       "      <td>5499349d0b89bf47f44990d6380b038a48c56bc1</td>\n",
       "      <td>f86da6500edc020c8e0fef6be42bd747e0c7316b59e32f...</td>\n",
       "      <td>12/27/2017 06:00:00 PM</td>\n",
       "      <td>12/27/2017 06:00:00 PM</td>\n",
       "      <td>388.0</td>\n",
       "      <td>0.70</td>\n",
       "      <td>1.703184e+10</td>\n",
       "      <td>1.703108e+10</td>\n",
       "      <td>32.0</td>\n",
       "      <td>8.0</td>\n",
       "      <td>...</td>\n",
       "      <td>0.0</td>\n",
       "      <td>8.25</td>\n",
       "      <td>Credit Card</td>\n",
       "      <td>City Service</td>\n",
       "      <td>41.880994</td>\n",
       "      <td>-87.632746</td>\n",
       "      <td>POINT (-87.6327464887 41.8809944707)</td>\n",
       "      <td>41.892508</td>\n",
       "      <td>-87.626215</td>\n",
       "      <td>POINT (-87.6262149064 41.8925077809)</td>\n",
       "    </tr>\n",
       "  </tbody>\n",
       "</table>\n",
       "<p>5 rows × 23 columns</p>\n",
       "</div>"
      ],
      "text/plain": [
       "                                           Trip ID  \\\n",
       "15971142  65f93c35817734e3299be976d4f3b376bdd91416   \n",
       "167943    7a592eba4fe74de911db4b33878eab697730ddc2   \n",
       "14807345  25e63440cd1d3596401101ffde933ec7318acfe3   \n",
       "3157769   a578a81d70af56cbbe627df7acc970cfd955333e   \n",
       "24803407  5499349d0b89bf47f44990d6380b038a48c56bc1   \n",
       "\n",
       "                                                    Taxi ID  \\\n",
       "15971142  561fbb8af15689fe33fb11b96905cfb95d11ac44700c1a...   \n",
       "167943    1025e3aec9a251a432a6bca2bbe7a95bc032b369fd5be1...   \n",
       "14807345  e81aeae39261dd72f248f92204fd28e77269f6bcf5d5c8...   \n",
       "3157769   bb870d48c69eb329b88cb373037a1ee2d1c43f2d67a4b5...   \n",
       "24803407  f86da6500edc020c8e0fef6be42bd747e0c7316b59e32f...   \n",
       "\n",
       "            Trip Start Timestamp      Trip End Timestamp  Trip Seconds  \\\n",
       "15971142  08/12/2017 06:45:00 PM  08/12/2017 07:15:00 PM        1965.0   \n",
       "167943    01/04/2017 12:30:00 PM  01/04/2017 12:45:00 PM         610.0   \n",
       "14807345  07/26/2017 07:45:00 PM  07/26/2017 07:45:00 PM         298.0   \n",
       "3157769   02/18/2017 02:00:00 PM  02/18/2017 02:15:00 PM         805.0   \n",
       "24803407  12/27/2017 06:00:00 PM  12/27/2017 06:00:00 PM         388.0   \n",
       "\n",
       "          Trip Miles  Pickup Census Tract  Dropoff Census Tract  \\\n",
       "15971142       18.40         1.703198e+10          1.703108e+10   \n",
       "167943          1.55         1.703108e+10          1.703184e+10   \n",
       "14807345        0.99         1.703184e+10          1.703108e+10   \n",
       "3157769         1.46         1.703132e+10          1.703108e+10   \n",
       "24803407        0.70         1.703184e+10          1.703108e+10   \n",
       "\n",
       "          Pickup Community Area  Dropoff Community Area  ...  Extras  \\\n",
       "15971142                   76.0                     8.0  ...     6.0   \n",
       "167943                      8.0                     8.0  ...     0.0   \n",
       "14807345                   32.0                     8.0  ...     1.0   \n",
       "3157769                    32.0                     8.0  ...     1.0   \n",
       "24803407                   32.0                     8.0  ...     0.0   \n",
       "\n",
       "          Trip Total  Payment Type                    Company  \\\n",
       "15971142       52.00          Cash  Chicago Carriage Cab Corp   \n",
       "167943          8.00          Cash  Chicago Carriage Cab Corp   \n",
       "14807345       11.50   Credit Card               City Service   \n",
       "3157769         9.75          Cash  Nova Taxi Affiliation Llc   \n",
       "24803407        8.25   Credit Card               City Service   \n",
       "\n",
       "          Pickup Centroid Latitude Pickup Centroid Longitude  \\\n",
       "15971142                 41.979071                -87.903040   \n",
       "167943                   41.890922                -87.618868   \n",
       "14807345                 41.880994                -87.632746   \n",
       "3157769                  41.877406                -87.621972   \n",
       "24803407                 41.880994                -87.632746   \n",
       "\n",
       "                      Pickup Centroid Location  Dropoff Centroid Latitude  \\\n",
       "15971142  POINT (-87.9030396611 41.9790708201)                  41.892508   \n",
       "167943    POINT (-87.6188683546 41.8909220259)                  41.904935   \n",
       "14807345  POINT (-87.6327464887 41.8809944707)                  41.892042   \n",
       "3157769   POINT (-87.6219716519 41.8774061234)                  41.898332   \n",
       "24803407  POINT (-87.6327464887 41.8809944707)                  41.892508   \n",
       "\n",
       "          Dropoff Centroid Longitude            Dropoff Centroid  Location  \n",
       "15971142                  -87.626215  POINT (-87.6262149064 41.8925077809)  \n",
       "167943                    -87.649907  POINT (-87.6499072264 41.9049353016)  \n",
       "14807345                  -87.631864  POINT (-87.6318639497 41.8920421365)  \n",
       "3157769                   -87.620763  POINT (-87.6207628651 41.8983317935)  \n",
       "24803407                  -87.626215  POINT (-87.6262149064 41.8925077809)  \n",
       "\n",
       "[5 rows x 23 columns]"
      ]
     },
     "execution_count": 260,
     "metadata": {},
     "output_type": "execute_result"
    }
   ],
   "source": [
    "df_trips.head()"
   ]
  },
  {
   "cell_type": "code",
   "execution_count": 261,
   "id": "vertical-cache",
   "metadata": {},
   "outputs": [
    {
     "name": "stdout",
     "output_type": "stream",
     "text": [
      "Original frame has 2528734 rows.\n",
      "Original frame has 0 rows with null values.\n"
     ]
    }
   ],
   "source": [
    "#check null values \n",
    "#should be null, because the null values are sampled in Notebook 1. \n",
    "cols_dropped = df_trips.dropna(inplace=False)\n",
    "print(\"Original frame has\",len(df_trips),\"rows.\")\n",
    "print(\"Original frame has\",len(df_trips)-len(cols_dropped),\"rows with null values.\")"
   ]
  },
  {
   "cell_type": "code",
   "execution_count": 262,
   "id": "alternative-bachelor",
   "metadata": {},
   "outputs": [
    {
     "name": "stdout",
     "output_type": "stream",
     "text": [
      "Min start:  01/01/2017 01:00:00 AM\n",
      "Min end:  01/01/2017 01:00:00 AM\n",
      "Max start:  12/31/2017 12:45:00 PM\n",
      "Max end:  12/31/2017 12:45:00 PM\n"
     ]
    }
   ],
   "source": [
    "#Min and Max Trip Start and end\n",
    "print(\"Min start: \",min(df_trips['Trip Start Timestamp']))\n",
    "print(\"Min end: \",min(df_trips['Trip End Timestamp']))\n",
    "print(\"Max start: \",max(df_trips['Trip Start Timestamp']))\n",
    "print(\"Max end: \",max(df_trips['Trip Start Timestamp']))"
   ]
  },
  {
   "cell_type": "code",
   "execution_count": 263,
   "id": "chief-killer",
   "metadata": {},
   "outputs": [],
   "source": [
    "#Convert trip start and end to datetime\n",
    "df_trips['Trip Start Timestamp']=pd.to_datetime(df_trips['Trip Start Timestamp'],format = '%m/%d/%Y %I:%M:%S %p')\n",
    "df_trips['Trip End Timestamp']=pd.to_datetime(df_trips['Trip End Timestamp'],format = '%m/%d/%Y %I:%M:%S %p')"
   ]
  },
  {
   "cell_type": "code",
   "execution_count": 264,
   "id": "equal-doubt",
   "metadata": {},
   "outputs": [],
   "source": [
    "#Adding month and year columns for temp\n",
    "def addCols(df):\n",
    "    df_trips['DROPOFF MONTH NAME'] = df_trips['Trip End Timestamp'].dt.month_name()\n",
    "    df_trips['DROPOFF YEAR'] = df_trips['Trip End Timestamp'].dt.year\n",
    "    return df\n",
    "\n",
    "df_trips = addCols(df_trips)"
   ]
  },
  {
   "cell_type": "code",
   "execution_count": 265,
   "id": "endangered-graduation",
   "metadata": {},
   "outputs": [
    {
     "name": "stdout",
     "output_type": "stream",
     "text": [
      "Max start is now:  2017-11-30 23:45:00\n",
      "Max end is now:  2017-11-30 23:45:00\n"
     ]
    }
   ],
   "source": [
    "df_trips = df_trips.loc[df_trips['DROPOFF MONTH NAME']!='December']\n",
    "df_trips = df_trips.loc[df_trips['DROPOFF YEAR']==2017]\n",
    "print(\"Max start is now: \",max(df_trips['Trip Start Timestamp']))\n",
    "print(\"Max end is now: \",max(df_trips['Trip End Timestamp']))\n",
    "\n",
    "#Dropping month name again\n",
    "df_trips.drop(columns='DROPOFF MONTH NAME', inplace = True)\n",
    "df_trips.drop(columns='DROPOFF YEAR', inplace = True)\n",
    "\n",
    "#We already see within the print, that there are too short trips - we have to check this"
   ]
  },
  {
   "cell_type": "code",
   "execution_count": 266,
   "id": "basic-jamaica",
   "metadata": {},
   "outputs": [
    {
     "data": {
      "text/html": [
       "<div>\n",
       "<style scoped>\n",
       "    .dataframe tbody tr th:only-of-type {\n",
       "        vertical-align: middle;\n",
       "    }\n",
       "\n",
       "    .dataframe tbody tr th {\n",
       "        vertical-align: top;\n",
       "    }\n",
       "\n",
       "    .dataframe thead th {\n",
       "        text-align: right;\n",
       "    }\n",
       "</style>\n",
       "<table border=\"1\" class=\"dataframe\">\n",
       "  <thead>\n",
       "    <tr style=\"text-align: right;\">\n",
       "      <th></th>\n",
       "      <th>Trip ID</th>\n",
       "      <th>Taxi ID</th>\n",
       "      <th>Trip Start Timestamp</th>\n",
       "      <th>Trip End Timestamp</th>\n",
       "      <th>Trip Seconds</th>\n",
       "      <th>Trip Miles</th>\n",
       "      <th>Pickup Census Tract</th>\n",
       "      <th>Dropoff Census Tract</th>\n",
       "      <th>Pickup Community Area</th>\n",
       "      <th>Dropoff Community Area</th>\n",
       "      <th>...</th>\n",
       "      <th>Extras</th>\n",
       "      <th>Trip Total</th>\n",
       "      <th>Payment Type</th>\n",
       "      <th>Company</th>\n",
       "      <th>Pickup Centroid Latitude</th>\n",
       "      <th>Pickup Centroid Longitude</th>\n",
       "      <th>Pickup Centroid Location</th>\n",
       "      <th>Dropoff Centroid Latitude</th>\n",
       "      <th>Dropoff Centroid Longitude</th>\n",
       "      <th>Dropoff Centroid  Location</th>\n",
       "    </tr>\n",
       "  </thead>\n",
       "  <tbody>\n",
       "    <tr>\n",
       "      <th>15971142</th>\n",
       "      <td>65f93c35817734e3299be976d4f3b376bdd91416</td>\n",
       "      <td>561fbb8af15689fe33fb11b96905cfb95d11ac44700c1a...</td>\n",
       "      <td>2017-08-12 18:45:00</td>\n",
       "      <td>2017-08-12 19:15:00</td>\n",
       "      <td>1965.0</td>\n",
       "      <td>18.40</td>\n",
       "      <td>1.703198e+10</td>\n",
       "      <td>1.703108e+10</td>\n",
       "      <td>76.0</td>\n",
       "      <td>8.0</td>\n",
       "      <td>...</td>\n",
       "      <td>6.0</td>\n",
       "      <td>52.00</td>\n",
       "      <td>Cash</td>\n",
       "      <td>Chicago Carriage Cab Corp</td>\n",
       "      <td>41.979071</td>\n",
       "      <td>-87.903040</td>\n",
       "      <td>POINT (-87.9030396611 41.9790708201)</td>\n",
       "      <td>41.892508</td>\n",
       "      <td>-87.626215</td>\n",
       "      <td>POINT (-87.6262149064 41.8925077809)</td>\n",
       "    </tr>\n",
       "    <tr>\n",
       "      <th>167943</th>\n",
       "      <td>7a592eba4fe74de911db4b33878eab697730ddc2</td>\n",
       "      <td>1025e3aec9a251a432a6bca2bbe7a95bc032b369fd5be1...</td>\n",
       "      <td>2017-01-04 12:30:00</td>\n",
       "      <td>2017-01-04 12:45:00</td>\n",
       "      <td>610.0</td>\n",
       "      <td>1.55</td>\n",
       "      <td>1.703108e+10</td>\n",
       "      <td>1.703184e+10</td>\n",
       "      <td>8.0</td>\n",
       "      <td>8.0</td>\n",
       "      <td>...</td>\n",
       "      <td>0.0</td>\n",
       "      <td>8.00</td>\n",
       "      <td>Cash</td>\n",
       "      <td>Chicago Carriage Cab Corp</td>\n",
       "      <td>41.890922</td>\n",
       "      <td>-87.618868</td>\n",
       "      <td>POINT (-87.6188683546 41.8909220259)</td>\n",
       "      <td>41.904935</td>\n",
       "      <td>-87.649907</td>\n",
       "      <td>POINT (-87.6499072264 41.9049353016)</td>\n",
       "    </tr>\n",
       "    <tr>\n",
       "      <th>14807345</th>\n",
       "      <td>25e63440cd1d3596401101ffde933ec7318acfe3</td>\n",
       "      <td>e81aeae39261dd72f248f92204fd28e77269f6bcf5d5c8...</td>\n",
       "      <td>2017-07-26 19:45:00</td>\n",
       "      <td>2017-07-26 19:45:00</td>\n",
       "      <td>298.0</td>\n",
       "      <td>0.99</td>\n",
       "      <td>1.703184e+10</td>\n",
       "      <td>1.703108e+10</td>\n",
       "      <td>32.0</td>\n",
       "      <td>8.0</td>\n",
       "      <td>...</td>\n",
       "      <td>1.0</td>\n",
       "      <td>11.50</td>\n",
       "      <td>Credit Card</td>\n",
       "      <td>City Service</td>\n",
       "      <td>41.880994</td>\n",
       "      <td>-87.632746</td>\n",
       "      <td>POINT (-87.6327464887 41.8809944707)</td>\n",
       "      <td>41.892042</td>\n",
       "      <td>-87.631864</td>\n",
       "      <td>POINT (-87.6318639497 41.8920421365)</td>\n",
       "    </tr>\n",
       "    <tr>\n",
       "      <th>3157769</th>\n",
       "      <td>a578a81d70af56cbbe627df7acc970cfd955333e</td>\n",
       "      <td>bb870d48c69eb329b88cb373037a1ee2d1c43f2d67a4b5...</td>\n",
       "      <td>2017-02-18 14:00:00</td>\n",
       "      <td>2017-02-18 14:15:00</td>\n",
       "      <td>805.0</td>\n",
       "      <td>1.46</td>\n",
       "      <td>1.703132e+10</td>\n",
       "      <td>1.703108e+10</td>\n",
       "      <td>32.0</td>\n",
       "      <td>8.0</td>\n",
       "      <td>...</td>\n",
       "      <td>1.0</td>\n",
       "      <td>9.75</td>\n",
       "      <td>Cash</td>\n",
       "      <td>Nova Taxi Affiliation Llc</td>\n",
       "      <td>41.877406</td>\n",
       "      <td>-87.621972</td>\n",
       "      <td>POINT (-87.6219716519 41.8774061234)</td>\n",
       "      <td>41.898332</td>\n",
       "      <td>-87.620763</td>\n",
       "      <td>POINT (-87.6207628651 41.8983317935)</td>\n",
       "    </tr>\n",
       "    <tr>\n",
       "      <th>18992750</th>\n",
       "      <td>546c9371344e877441cd1466296bb60bb418b588</td>\n",
       "      <td>26b43fecf9e9479444973797e89a74f559183f1cc1abf0...</td>\n",
       "      <td>2017-09-28 09:00:00</td>\n",
       "      <td>2017-09-28 09:15:00</td>\n",
       "      <td>1332.0</td>\n",
       "      <td>1.59</td>\n",
       "      <td>1.703108e+10</td>\n",
       "      <td>1.703108e+10</td>\n",
       "      <td>8.0</td>\n",
       "      <td>8.0</td>\n",
       "      <td>...</td>\n",
       "      <td>0.0</td>\n",
       "      <td>12.00</td>\n",
       "      <td>Cash</td>\n",
       "      <td>Nova Taxi Affiliation Llc</td>\n",
       "      <td>41.890922</td>\n",
       "      <td>-87.618868</td>\n",
       "      <td>POINT (-87.6188683546 41.8909220259)</td>\n",
       "      <td>41.892508</td>\n",
       "      <td>-87.626215</td>\n",
       "      <td>POINT (-87.6262149064 41.8925077809)</td>\n",
       "    </tr>\n",
       "  </tbody>\n",
       "</table>\n",
       "<p>5 rows × 23 columns</p>\n",
       "</div>"
      ],
      "text/plain": [
       "                                           Trip ID  \\\n",
       "15971142  65f93c35817734e3299be976d4f3b376bdd91416   \n",
       "167943    7a592eba4fe74de911db4b33878eab697730ddc2   \n",
       "14807345  25e63440cd1d3596401101ffde933ec7318acfe3   \n",
       "3157769   a578a81d70af56cbbe627df7acc970cfd955333e   \n",
       "18992750  546c9371344e877441cd1466296bb60bb418b588   \n",
       "\n",
       "                                                    Taxi ID  \\\n",
       "15971142  561fbb8af15689fe33fb11b96905cfb95d11ac44700c1a...   \n",
       "167943    1025e3aec9a251a432a6bca2bbe7a95bc032b369fd5be1...   \n",
       "14807345  e81aeae39261dd72f248f92204fd28e77269f6bcf5d5c8...   \n",
       "3157769   bb870d48c69eb329b88cb373037a1ee2d1c43f2d67a4b5...   \n",
       "18992750  26b43fecf9e9479444973797e89a74f559183f1cc1abf0...   \n",
       "\n",
       "         Trip Start Timestamp  Trip End Timestamp  Trip Seconds  Trip Miles  \\\n",
       "15971142  2017-08-12 18:45:00 2017-08-12 19:15:00        1965.0       18.40   \n",
       "167943    2017-01-04 12:30:00 2017-01-04 12:45:00         610.0        1.55   \n",
       "14807345  2017-07-26 19:45:00 2017-07-26 19:45:00         298.0        0.99   \n",
       "3157769   2017-02-18 14:00:00 2017-02-18 14:15:00         805.0        1.46   \n",
       "18992750  2017-09-28 09:00:00 2017-09-28 09:15:00        1332.0        1.59   \n",
       "\n",
       "          Pickup Census Tract  Dropoff Census Tract  Pickup Community Area  \\\n",
       "15971142         1.703198e+10          1.703108e+10                   76.0   \n",
       "167943           1.703108e+10          1.703184e+10                    8.0   \n",
       "14807345         1.703184e+10          1.703108e+10                   32.0   \n",
       "3157769          1.703132e+10          1.703108e+10                   32.0   \n",
       "18992750         1.703108e+10          1.703108e+10                    8.0   \n",
       "\n",
       "          Dropoff Community Area  ...  Extras  Trip Total  Payment Type  \\\n",
       "15971142                     8.0  ...     6.0       52.00          Cash   \n",
       "167943                       8.0  ...     0.0        8.00          Cash   \n",
       "14807345                     8.0  ...     1.0       11.50   Credit Card   \n",
       "3157769                      8.0  ...     1.0        9.75          Cash   \n",
       "18992750                     8.0  ...     0.0       12.00          Cash   \n",
       "\n",
       "                            Company  Pickup Centroid Latitude  \\\n",
       "15971142  Chicago Carriage Cab Corp                 41.979071   \n",
       "167943    Chicago Carriage Cab Corp                 41.890922   \n",
       "14807345               City Service                 41.880994   \n",
       "3157769   Nova Taxi Affiliation Llc                 41.877406   \n",
       "18992750  Nova Taxi Affiliation Llc                 41.890922   \n",
       "\n",
       "         Pickup Centroid Longitude              Pickup Centroid Location  \\\n",
       "15971142                -87.903040  POINT (-87.9030396611 41.9790708201)   \n",
       "167943                  -87.618868  POINT (-87.6188683546 41.8909220259)   \n",
       "14807345                -87.632746  POINT (-87.6327464887 41.8809944707)   \n",
       "3157769                 -87.621972  POINT (-87.6219716519 41.8774061234)   \n",
       "18992750                -87.618868  POINT (-87.6188683546 41.8909220259)   \n",
       "\n",
       "          Dropoff Centroid Latitude  Dropoff Centroid Longitude  \\\n",
       "15971142                  41.892508                  -87.626215   \n",
       "167943                    41.904935                  -87.649907   \n",
       "14807345                  41.892042                  -87.631864   \n",
       "3157769                   41.898332                  -87.620763   \n",
       "18992750                  41.892508                  -87.626215   \n",
       "\n",
       "                    Dropoff Centroid  Location  \n",
       "15971142  POINT (-87.6262149064 41.8925077809)  \n",
       "167943    POINT (-87.6499072264 41.9049353016)  \n",
       "14807345  POINT (-87.6318639497 41.8920421365)  \n",
       "3157769   POINT (-87.6207628651 41.8983317935)  \n",
       "18992750  POINT (-87.6262149064 41.8925077809)  \n",
       "\n",
       "[5 rows x 23 columns]"
      ]
     },
     "execution_count": 266,
     "metadata": {},
     "output_type": "execute_result"
    }
   ],
   "source": [
    "df_trips.head()"
   ]
  },
  {
   "cell_type": "markdown",
   "id": "chemical-bracket",
   "metadata": {},
   "source": [
    "### clean trip seconds"
   ]
  },
  {
   "cell_type": "code",
   "execution_count": 277,
   "id": "usual-puzzle",
   "metadata": {},
   "outputs": [
    {
     "name": "stdout",
     "output_type": "stream",
     "text": [
      "Min duration in seconds:  180.0\n",
      "Max duration in seconds:  4800.0\n"
     ]
    }
   ],
   "source": [
    "#Get min and max durations\n",
    "print(\"Min duration in seconds: \",min(df_trips['Trip Seconds']))\n",
    "print(\"Max duration in seconds: \",max(df_trips['Trip Seconds']))"
   ]
  },
  {
   "cell_type": "code",
   "execution_count": 268,
   "id": "superior-strip",
   "metadata": {},
   "outputs": [
    {
     "data": {
      "text/plain": [
       "[180.0, 4800.0]"
      ]
     },
     "execution_count": 268,
     "metadata": {},
     "output_type": "execute_result"
    }
   ],
   "source": [
    "#Set limits for durations based on quantiles\n",
    "durLimit_duration  = [np.percentile(df_trips['Trip Seconds'], 8.0), np.percentile(df_trips['Trip Seconds'], 99.7)]\n",
    "\n",
    "#Min trip: 2 min\n",
    "durLimit_duration"
   ]
  },
  {
   "cell_type": "code",
   "execution_count": 269,
   "id": "perfect-exclusive",
   "metadata": {},
   "outputs": [],
   "source": [
    "#Limit trip_duration based on durLimit_miles\n",
    "df_trips = df_trips[(df_trips['Trip Seconds'] >= durLimit_duration[0] ) & (df_trips['Trip Seconds'] <= durLimit_duration[1]) ]"
   ]
  },
  {
   "cell_type": "markdown",
   "id": "compatible-classic",
   "metadata": {},
   "source": [
    "### clean miles"
   ]
  },
  {
   "cell_type": "code",
   "execution_count": 276,
   "id": "interested-newcastle",
   "metadata": {},
   "outputs": [
    {
     "name": "stdout",
     "output_type": "stream",
     "text": [
      "Min trip miles:  0.3\n",
      "Max trip miles:  20.9\n"
     ]
    }
   ],
   "source": [
    "print(\"Min trip miles: \",min(df_trips['Trip Miles']))\n",
    "print(\"Max trip miles: \",max(df_trips['Trip Miles']))"
   ]
  },
  {
   "cell_type": "code",
   "execution_count": 271,
   "id": "humanitarian-reservation",
   "metadata": {},
   "outputs": [
    {
     "data": {
      "text/plain": [
       "[0.3, 20.9]"
      ]
     },
     "execution_count": 271,
     "metadata": {},
     "output_type": "execute_result"
    }
   ],
   "source": [
    "#Set limits for miles based on quantiles\n",
    "durLimit_miles  = [np.percentile(df_trips['Trip Miles'], 13.0), np.percentile(df_trips['Trip Miles'], 99.7)]\n",
    "\n",
    "#Min miules: 0.3 ~ 500 meter \n",
    "durLimit_miles"
   ]
  },
  {
   "cell_type": "code",
   "execution_count": 272,
   "id": "multiple-clinic",
   "metadata": {},
   "outputs": [],
   "source": [
    "#Limit trip_duration based on durLimit_miles\n",
    "df_trips = df_trips[(df_trips['Trip Miles'] >= durLimit_miles[0] ) & (df_trips['Trip Miles'] <= durLimit_miles[1]) ]"
   ]
  },
  {
   "cell_type": "code",
   "execution_count": 278,
   "id": "pending-benjamin",
   "metadata": {},
   "outputs": [
    {
     "name": "stdout",
     "output_type": "stream",
     "text": [
      "<class 'pandas.core.frame.DataFrame'>\n",
      "Int64Index: 1917471 entries, 15971142 to 22504342\n",
      "Data columns (total 23 columns):\n",
      " #   Column                      Dtype         \n",
      "---  ------                      -----         \n",
      " 0   Trip ID                     object        \n",
      " 1   Taxi ID                     object        \n",
      " 2   Trip Start Timestamp        datetime64[ns]\n",
      " 3   Trip End Timestamp          datetime64[ns]\n",
      " 4   Trip Seconds                float64       \n",
      " 5   Trip Miles                  float64       \n",
      " 6   Pickup Census Tract         float64       \n",
      " 7   Dropoff Census Tract        float64       \n",
      " 8   Pickup Community Area       float64       \n",
      " 9   Dropoff Community Area      float64       \n",
      " 10  Fare                        float64       \n",
      " 11  Tips                        float64       \n",
      " 12  Tolls                       float64       \n",
      " 13  Extras                      float64       \n",
      " 14  Trip Total                  float64       \n",
      " 15  Payment Type                object        \n",
      " 16  Company                     object        \n",
      " 17  Pickup Centroid Latitude    float64       \n",
      " 18  Pickup Centroid Longitude   float64       \n",
      " 19  Pickup Centroid Location    object        \n",
      " 20  Dropoff Centroid Latitude   float64       \n",
      " 21  Dropoff Centroid Longitude  float64       \n",
      " 22  Dropoff Centroid  Location  object        \n",
      "dtypes: datetime64[ns](2), float64(15), object(6)\n",
      "memory usage: 351.1+ MB\n"
     ]
    }
   ],
   "source": [
    "df_trips.info()"
   ]
  },
  {
   "cell_type": "markdown",
   "id": "distinct-headline",
   "metadata": {},
   "source": [
    "### check trip totals"
   ]
  },
  {
   "cell_type": "code",
   "execution_count": 283,
   "id": "biological-seattle",
   "metadata": {},
   "outputs": [
    {
     "name": "stdout",
     "output_type": "stream",
     "text": [
      "Min trip total:  0.0\n",
      "Max trip total:  8062.52\n"
     ]
    }
   ],
   "source": [
    "print(\"Min trip total: \",min(df_trips['Trip Total']))\n",
    "print(\"Max trip total: \",max(df_trips['Trip Total']))"
   ]
  },
  {
   "cell_type": "code",
   "execution_count": 300,
   "id": "valuable-straight",
   "metadata": {},
   "outputs": [
    {
     "data": {
      "text/plain": [
       "[3.25, 68.9]"
      ]
     },
     "execution_count": 300,
     "metadata": {},
     "output_type": "execute_result"
    }
   ],
   "source": [
    "#Set limits for trip totals based on quantiles\n",
    "durLimit_tt  = [np.percentile(df_trips['Trip Total'], 0.004), np.percentile(df_trips['Trip Total'], 99.9)]\n",
    "\n",
    "#Min miules: 0.3 ~ 500 meter \n",
    "durLimit_tt"
   ]
  },
  {
   "cell_type": "code",
   "execution_count": 302,
   "id": "pacific-yellow",
   "metadata": {},
   "outputs": [],
   "source": [
    "#Limit trip_duration based on durLimit_miles\n",
    "df_trips = df_trips[(df_trips['Trip Total'] >= durLimit_miles[0] ) & (df_trips['Trip Total'] <= durLimit_miles[1]) ]"
   ]
  },
  {
   "cell_type": "code",
   "execution_count": 275,
   "id": "serial-remedy",
   "metadata": {},
   "outputs": [
    {
     "name": "stdout",
     "output_type": "stream",
     "text": [
      "Max start is now:  2017-11-30 23:45:00\n",
      "Max end is now:  2017-11-30 23:45:00\n"
     ]
    }
   ],
   "source": [
    "##HOW CAN THIS BE?\n",
    "\n",
    "print(\"Max start is now: \",max(df_trips['Trip Start Timestamp']))\n",
    "print(\"Max end is now: \",max(df_trips['Trip End Timestamp']))\n",
    "\n",
    "##to be continued...."
   ]
  },
  {
   "cell_type": "code",
   "execution_count": 304,
   "id": "facial-lafayette",
   "metadata": {},
   "outputs": [
    {
     "data": {
      "text/plain": [
       "167943       8.00\n",
       "14807345    11.50\n",
       "3157769      9.75\n",
       "18992750    12.00\n",
       "15539240     6.00\n",
       "            ...  \n",
       "8507069      7.00\n",
       "1335934     12.25\n",
       "9731064      5.00\n",
       "11889045     6.75\n",
       "15262000     8.75\n",
       "Name: Trip Total, Length: 1612882, dtype: float64"
      ]
     },
     "execution_count": 304,
     "metadata": {},
     "output_type": "execute_result"
    }
   ],
   "source": [
    "df_trips['Trip Total']"
   ]
  },
  {
   "cell_type": "code",
   "execution_count": 305,
   "id": "absent-light",
   "metadata": {},
   "outputs": [
    {
     "name": "stdout",
     "output_type": "stream",
     "text": [
      "<class 'pandas.core.frame.DataFrame'>\n",
      "Int64Index: 1612882 entries, 167943 to 15262000\n",
      "Data columns (total 23 columns):\n",
      " #   Column                      Non-Null Count    Dtype         \n",
      "---  ------                      --------------    -----         \n",
      " 0   Trip ID                     1612882 non-null  object        \n",
      " 1   Taxi ID                     1612882 non-null  object        \n",
      " 2   Trip Start Timestamp        1612882 non-null  datetime64[ns]\n",
      " 3   Trip End Timestamp          1612882 non-null  datetime64[ns]\n",
      " 4   Trip Seconds                1612882 non-null  float64       \n",
      " 5   Trip Miles                  1612882 non-null  float64       \n",
      " 6   Pickup Census Tract         1612882 non-null  float64       \n",
      " 7   Dropoff Census Tract        1612882 non-null  float64       \n",
      " 8   Pickup Community Area       1612882 non-null  float64       \n",
      " 9   Dropoff Community Area      1612882 non-null  float64       \n",
      " 10  Fare                        1612882 non-null  float64       \n",
      " 11  Tips                        1612882 non-null  float64       \n",
      " 12  Tolls                       1612882 non-null  float64       \n",
      " 13  Extras                      1612882 non-null  float64       \n",
      " 14  Trip Total                  1612882 non-null  float64       \n",
      " 15  Payment Type                1612882 non-null  object        \n",
      " 16  Company                     1612882 non-null  object        \n",
      " 17  Pickup Centroid Latitude    1612882 non-null  float64       \n",
      " 18  Pickup Centroid Longitude   1612882 non-null  float64       \n",
      " 19  Pickup Centroid Location    1612882 non-null  object        \n",
      " 20  Dropoff Centroid Latitude   1612882 non-null  float64       \n",
      " 21  Dropoff Centroid Longitude  1612882 non-null  float64       \n",
      " 22  Dropoff Centroid  Location  1612882 non-null  object        \n",
      "dtypes: datetime64[ns](2), float64(15), object(6)\n",
      "memory usage: 295.3+ MB\n"
     ]
    }
   ],
   "source": [
    "df_trips.info()"
   ]
  },
  {
   "cell_type": "code",
   "execution_count": null,
   "id": "standing-hobby",
   "metadata": {},
   "outputs": [],
   "source": []
  }
 ],
 "metadata": {
  "kernelspec": {
   "display_name": "Python 3",
   "language": "python",
   "name": "python3"
  },
  "language_info": {
   "codemirror_mode": {
    "name": "ipython",
    "version": 3
   },
   "file_extension": ".py",
   "mimetype": "text/x-python",
   "name": "python",
   "nbconvert_exporter": "python",
   "pygments_lexer": "ipython3",
   "version": "3.8.6"
  }
 },
 "nbformat": 4,
 "nbformat_minor": 5
}
